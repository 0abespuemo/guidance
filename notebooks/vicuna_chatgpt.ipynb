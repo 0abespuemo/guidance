{
 "cells": [
  {
   "cell_type": "code",
   "execution_count": 1,
   "metadata": {},
   "outputs": [
    {
     "data": {
      "application/vnd.jupyter.widget-view+json": {
       "model_id": "4766f7f7b9a7420f8c128ae3aa0563df",
       "version_major": 2,
       "version_minor": 0
      },
      "text/plain": [
       "Loading checkpoint shards:   0%|          | 0/3 [00:00<?, ?it/s]"
      ]
     },
     "metadata": {},
     "output_type": "display_data"
    }
   ],
   "source": [
    "import guidance\n",
    "import transformers\n",
    "path = '/home/marcotcr/.cache/huggingface/hub/vicuna-13b'\n",
    "model = transformers.AutoModelForCausalLM.from_pretrained(path, device_map='auto') # 'auto' will split equally, but GPUs 2-3 are slow\n",
    "tokenizer = transformers.AutoTokenizer.from_pretrained(path, device_map='auto')\n",
    "vicuna = guidance.llms.transformers.Vicuna(model=model, tokenizer=tokenizer) # use cuda for GPU if you have >27GB of VRAM"
   ]
  },
  {
   "cell_type": "code",
   "execution_count": 2,
   "metadata": {},
   "outputs": [],
   "source": [
    "chatgpt = guidance.llms.OpenAI(\"gpt-3.5-turbo\")\n"
   ]
  },
  {
   "cell_type": "code",
   "execution_count": 3,
   "metadata": {},
   "outputs": [],
   "source": [
    "vicuna_system = 'A chat between a curious user and an artificial intelligence assistant. The assistant gives helpful, detailed, and polite answers to the user\\'s questions.'\n",
    "chatgpt_system = 'You are a helpful assistant.'"
   ]
  },
  {
   "cell_type": "code",
   "execution_count": null,
   "metadata": {},
   "outputs": [
    {
     "data": {
      "text/plain": [
       "('1.0x^1 + 8.0', [-8])"
      ]
     },
     "execution_count": 176,
     "metadata": {},
     "output_type": "execute_result"
    }
   ],
   "source": [
    "\n",
    "def random_polynomial(n_roots, low=1, high=100):\n",
    "    roots = [np.random.randint(low, high) for _ in range(n_roots)]\n",
    "    # unique roots only\n",
    "    while len(set(roots)) != n_roots:\n",
    "        roots = [np.random.randint(low, high) for _ in range(n_roots)]\n",
    "    poly = np.polynomial.polynomial.Polynomial.fromroots(roots)\n",
    "    a = poly.coef.copy()\n",
    "    a = a[::-1]\n",
    "    text= ''\n",
    "    for i, coef in enumerate(a):\n",
    "        if i == len(a) - 1:\n",
    "            text += f'{coef}'\n",
    "        else:\n",
    "            text += f'{coef}x^{len(a) - i - 1} + '\n",
    "    return roots, text\n",
    "roots, poly = random_polynomial(1, low=-30, high=30)\n",
    "poly, roots"
   ]
  },
  {
   "cell_type": "code",
   "execution_count": null,
   "metadata": {},
   "outputs": [
    {
     "data": {
      "text/html": [
       "<div id=\"guidance-stop-button-c27c0013-4b0b-4330-9364-a0d5907d4beb\" style=\"cursor: pointer; margin: 0px; display: none; float: right; padding: 3px; border-radius: 4px 4px 4px 4px; border: 0px solid rgba(127, 127, 127, 1); padding-left: 10px; padding-right: 10px; font-size: 13px; background-color: rgba(127, 127, 127, 0.25);\">Stop program</div><div id=\"guidance-content-c27c0013-4b0b-4330-9364-a0d5907d4beb\"><pre style='margin: 0px; padding: 0px; padding-left: 8px; margin-left: -8px; border-radius: 0px; border-left: 1px solid rgba(127, 127, 127, 0.2); white-space: pre-wrap; font-family: ColfaxAI, Arial; font-size: 15px; line-height: 23px;'><div style='display: flex; border-bottom: 1px solid rgba(127, 127, 127, 0.2); align-items: center;'><div style='flex: 0 0 80px; opacity: 0.5;'>system</div><div style='flex-grow: 1; padding: 5px; padding-top: 10px; padding-bottom: 10px; margin-top: 0px; white-space: pre-wrap; margin-bottom: 0px;'><span style='background-color: rgba(0, 138.56128016, 250.76166089, 0.25); display: inline;' title='{{system_prompt}}'>You are a helpful assistant.</span></div></div><div style='display: flex; border-bottom: 1px solid rgba(127, 127, 127, 0.2); align-items: center;'><div style='flex: 0 0 80px; opacity: 0.5;'>user</div><div style='flex-grow: 1; padding: 5px; padding-top: 10px; padding-bottom: 10px; margin-top: 0px; white-space: pre-wrap; margin-bottom: 0px;'>Please find the roots of the following equation: <span style='background-color: rgba(0, 138.56128016, 250.76166089, 0.25); display: inline;' title='{{equation}}'>1.0x^1 + 8.0</span>\n",
       "Think step by step, find the roots, and then say:\n",
       "ROOTS = [root1, root2...]\n",
       "For example, if the roots are 1.3 and 2.2, say ROOTS = [1.3, 2.2].\n",
       "Make sure to use real numbers, not fractions.\n",
       "</div></div><div style='display: flex; border-bottom: 1px solid rgba(127, 127, 127, 0.2); align-items: center;'><div style='flex: 0 0 80px; opacity: 0.5;'>assistant</div><div style='flex-grow: 1; padding: 5px; padding-top: 10px; padding-bottom: 10px; margin-top: 0px; white-space: pre-wrap; margin-bottom: 0px;'><span style='background-color: rgba(0, 165, 0, 0.25); opacity: 1.0; display: inline;' title='{{gen &#x27;answer&#x27; temperature=0}}'>The given equation is 1.0x^1 + 8.0, which can be simplified to x + 8 = 0.\n",
       "To find the roots, we need to solve for x.\n",
       "Subtracting 8 from both sides, we get x = -8.\n",
       "Therefore, the only root of the equation is x = -8.\n",
       "Thus, ROOTS = [-8].</span></div></div></pre></div>\n",
       "<script type=\"text/javascript\">(()=>{var t={296:(t,e,n)=>{var i=NaN,o=\"[object Symbol]\",r=/^\\s+|\\s+$/g,a=/^[-+]0x[0-9a-f]+$/i,s=/^0b[01]+$/i,c=/^0o[0-7]+$/i,d=parseInt,u=\"object\"==typeof n.g&&n.g&&n.g.Object===Object&&n.g,l=\"object\"==typeof self&&self&&self.Object===Object&&self,f=u||l||Function(\"return this\")(),h=Object.prototype.toString,p=Math.max,m=Math.min,g=function(){return f.Date.now()};function b(t){var e=typeof t;return!!t&&(\"object\"==e||\"function\"==e)}function y(t){if(\"number\"==typeof t)return t;if(function(t){return\"symbol\"==typeof t||function(t){return!!t&&\"object\"==typeof t}(t)&&h.call(t)==o}(t))return i;if(b(t)){var e=\"function\"==typeof t.valueOf?t.valueOf():t;t=b(e)?e+\"\":e}if(\"string\"!=typeof t)return 0===t?t:+t;t=t.replace(r,\"\");var n=s.test(t);return n||c.test(t)?d(t.slice(2),n?2:8):a.test(t)?i:+t}t.exports=function(t,e,n){var i,o,r,a,s,c,d=0,u=!1,l=!1,f=!0;if(\"function\"!=typeof t)throw new TypeError(\"Expected a function\");function h(e){var n=i,r=o;return i=o=void 0,d=e,a=t.apply(r,n)}function v(t){var n=t-c;return void 0===c||n>=e||n<0||l&&t-d>=r}function _(){var t=g();if(v(t))return w(t);s=setTimeout(_,function(t){var n=e-(t-c);return l?m(n,r-(t-d)):n}(t))}function w(t){return s=void 0,f&&i?h(t):(i=o=void 0,a)}function j(){var t=g(),n=v(t);if(i=arguments,o=this,c=t,n){if(void 0===s)return function(t){return d=t,s=setTimeout(_,e),u?h(t):a}(c);if(l)return s=setTimeout(_,e),h(c)}return void 0===s&&(s=setTimeout(_,e)),a}return e=y(e)||0,b(n)&&(u=!!n.leading,r=(l=\"maxWait\"in n)?p(y(n.maxWait)||0,e):r,f=\"trailing\"in n?!!n.trailing:f),j.cancel=function(){void 0!==s&&clearTimeout(s),d=0,i=c=o=s=void 0},j.flush=function(){return void 0===s?a:w(g())},j}},777:t=>{var e,n,i=Math.max,o=(e=function(t,e){return function(t,e,n){if(\"function\"!=typeof t)throw new TypeError(\"Expected a function\");return setTimeout((function(){t.apply(void 0,n)}),1)}(t,0,e)},n=i(void 0===n?e.length-1:n,0),function(){for(var t=arguments,o=-1,r=i(t.length-n,0),a=Array(r);++o<r;)a[o]=t[n+o];o=-1;for(var s=Array(n+1);++o<n;)s[o]=t[o];return s[n]=a,function(t,e,n){switch(n.length){case 0:return t.call(e);case 1:return t.call(e,n[0]);case 2:return t.call(e,n[0],n[1]);case 3:return t.call(e,n[0],n[1],n[2])}return t.apply(e,n)}(e,this,s)});t.exports=o}},e={};function n(i){var o=e[i];if(void 0!==o)return o.exports;var r=e[i]={exports:{}};return t[i](r,r.exports,n),r.exports}n.n=t=>{var e=t&&t.__esModule?()=>t.default:()=>t;return n.d(e,{a:e}),e},n.d=(t,e)=>{for(var i in e)n.o(e,i)&&!n.o(t,i)&&Object.defineProperty(t,i,{enumerable:!0,get:e[i]})},n.g=function(){if(\"object\"==typeof globalThis)return globalThis;try{return this||new Function(\"return this\")()}catch(t){if(\"object\"==typeof window)return window}}(),n.o=(t,e)=>Object.prototype.hasOwnProperty.call(t,e),(()=>{\"use strict\";const t=t=>{const e=new Set;do{for(const n of Reflect.ownKeys(t))e.add([t,n])}while((t=Reflect.getPrototypeOf(t))&&t!==Object.prototype);return e};function e(e,{include:n,exclude:i}={}){const o=t=>{const e=e=>\"string\"==typeof e?t===e:e.test(t);return n?n.some(e):!i||!i.some(e)};for(const[n,i]of t(e.constructor.prototype)){if(\"constructor\"===i||!o(i))continue;const t=Reflect.getOwnPropertyDescriptor(n,i);t&&\"function\"==typeof t.value&&(e[i]=e[i].bind(e))}return e}var i=n(777),o=n.n(i),r=n(296),a=n.n(r);class s{constructor(t,n){e(this),this.interfaceId=t,this.callbackMap={},this.data={},this.pendingData={},this.jcomm=new c(\"guidance_interface_target_\"+this.interfaceId,this.updateData,\"open\"),this.debouncedSendPendingData500=a()(this.sendPendingData,500),this.debouncedSendPendingData1000=a()(this.sendPendingData,1e3),n&&o()(n)}send(t,e){this.addPendingData(t,e),this.sendPendingData()}sendEvent(t){for(const e of Object.keys(t))this.addPendingData(e,t[e]);this.sendPendingData()}debouncedSendEvent500(t){for(const e of Object.keys(t))this.addPendingData(e,t[e]);this.debouncedSendPendingData500()}debouncedSend500(t,e){this.addPendingData(t,e),this.debouncedSendPendingData500()}debouncedSend1000(t,e){this.addPendingData(t,e),this.debouncedSendPendingData1000()}addPendingData(t,e){Array.isArray(t)||(t=[t]);for(const n in t)this.pendingData[t[n]]=e}updateData(t){t=JSON.parse(t.data);for(const e in t)this.data[e]=t[e];for(const e in t)e in this.callbackMap&&this.callbackMap[e](this.data[e])}subscribe(t,e){this.callbackMap[t]=e,o()((e=>this.callbackMap[t](this.data[t])))}sendPendingData(){this.jcomm.send_data(this.pendingData),this.pendingData={}}}class c{constructor(t,e,n=\"open\"){this._fire_callback=this._fire_callback.bind(this),this._register=this._register.bind(this),this.jcomm=void 0,this.callback=e,void 0!==window.Jupyter?\"register\"===n?Jupyter.notebook.kernel.comm_manager.register_target(t,this._register):(this.jcomm=Jupyter.notebook.kernel.comm_manager.new_comm(t),this.jcomm.on_msg(this._fire_callback)):void 0!==window._mgr&&(\"register\"===n?window._mgr.widgetManager.proxyKernel.registerCommTarget(t,this._register):(this.jcomm=window._mgr.widgetManager.proxyKernel.createComm(t),this.jcomm.open({},\"\"),this.jcomm.onMsg=this._fire_callback))}send_data(t){void 0!==this.jcomm?this.jcomm.send(t):console.error(\"Jupyter comm module not yet loaded! So we can't send the message.\")}_register(t,e){this.jcomm=t,this.jcomm.on_msg(this._fire_callback)}_fire_callback(t){this.callback(t.content.data)}}class d{constructor(t,n){e(this),this.id=t,this.comm=new s(t),this.comm.subscribe(\"append\",this.appendData),this.comm.subscribe(\"replace\",this.replaceData),this.comm.subscribe(\"event\",this.eventOccurred),this.element=document.getElementById(\"guidance-content-\"+t),this.stop_button=document.getElementById(\"guidance-stop-button-\"+t),this.stop_button.onclick=()=>this.comm.send(\"event\",\"stop\")}appendData(t){t&&(this.stop_button.style.display=\"inline-block\",this.element.innerHTML+=t)}replaceData(t){t&&(this.stop_button.style.display=\"inline-block\",this.element.innerHTML=t)}eventOccurred(t){\"complete\"===t&&(this.stop_button.style.display=\"none\")}}window._guidanceDisplay=function(t,e){return new d(t,e)}})()})();; window._guidanceDisplay(\"c27c0013-4b0b-4330-9364-a0d5907d4beb\");</script>"
      ]
     },
     "metadata": {},
     "output_type": "display_data"
    }
   ],
   "source": [
    "chatgpt_roots = guidance('''{{#system~}}\n",
    "{{system_prompt}}\n",
    "{{~/system}}\n",
    "{{#user~}}\n",
    "Please find the roots of the following equation: {{equation}}\n",
    "Think step by step, find the roots, and then say:\n",
    "ROOTS = [root1, root2...]\n",
    "For example, if the roots are 1.3 and 2.2, say ROOTS = [1.3, 2.2].\n",
    "Make sure to use real numbers, not fractions.\n",
    "{{/user}}\n",
    "{{#assistant~}}\n",
    "{{gen 'answer' temperature=0}}\n",
    "{{~/assistant~}}''', llm=chatgpt, system_prompt=chatgpt_system)\n",
    "chatgpt_roots(equation=poly)\n",
    "# program = program(system_prompt=chatgpt_system, equation=poly)"
   ]
  },
  {
   "cell_type": "code",
   "execution_count": 6,
   "metadata": {},
   "outputs": [
    {
     "data": {
      "text/html": [
       "<pre style=\"white-space:pre;overflow-x:auto;line-height:normal;font-family:Menlo,'DejaVu Sans Mono',consolas,'Courier New',monospace\"><span style=\"color: #800000; text-decoration-color: #800000\">╭─────────────────────────────── </span><span style=\"color: #800000; text-decoration-color: #800000; font-weight: bold\">Traceback </span><span style=\"color: #bf7f7f; text-decoration-color: #bf7f7f; font-weight: bold\">(most recent call last)</span><span style=\"color: #800000; text-decoration-color: #800000\"> ────────────────────────────────╮</span>\n",
       "<span style=\"color: #800000; text-decoration-color: #800000\">│</span> in <span style=\"color: #00ff00; text-decoration-color: #00ff00\">&lt;module&gt;</span>:<span style=\"color: #0000ff; text-decoration-color: #0000ff\">15</span>                                                                                   <span style=\"color: #800000; text-decoration-color: #800000\">│</span>\n",
       "<span style=\"color: #800000; text-decoration-color: #800000\">│</span>                                                                                                  <span style=\"color: #800000; text-decoration-color: #800000\">│</span>\n",
       "<span style=\"color: #800000; text-decoration-color: #800000\">│</span>   <span style=\"color: #7f7f7f; text-decoration-color: #7f7f7f\">12 </span><span style=\"color: #808000; text-decoration-color: #808000\">{{gen 'reasoning' temperature=0}}</span>                                                           <span style=\"color: #800000; text-decoration-color: #800000\">│</span>\n",
       "<span style=\"color: #800000; text-decoration-color: #800000\">│</span>   <span style=\"color: #7f7f7f; text-decoration-color: #7f7f7f\">13 </span><span style=\"color: #808000; text-decoration-color: #808000\">ROOTS = [{{gen 'answer' temperature=0}}]</span>                                                    <span style=\"color: #800000; text-decoration-color: #800000\">│</span>\n",
       "<span style=\"color: #800000; text-decoration-color: #800000\">│</span>   <span style=\"color: #7f7f7f; text-decoration-color: #7f7f7f\">14 </span><span style=\"color: #808000; text-decoration-color: #808000\">{{~/assistant~}}'''</span>, llm=vicuna, system_prompt=vicuna_system)                               <span style=\"color: #800000; text-decoration-color: #800000\">│</span>\n",
       "<span style=\"color: #800000; text-decoration-color: #800000\">│</span> <span style=\"color: #800000; text-decoration-color: #800000\">❱ </span>15 program = program(equation=poly, silent=<span style=\"color: #0000ff; text-decoration-color: #0000ff\">True</span>)                                               <span style=\"color: #800000; text-decoration-color: #800000\">│</span>\n",
       "<span style=\"color: #800000; text-decoration-color: #800000\">│</span>   <span style=\"color: #7f7f7f; text-decoration-color: #7f7f7f\">16 </span>                                                                                            <span style=\"color: #800000; text-decoration-color: #800000\">│</span>\n",
       "<span style=\"color: #800000; text-decoration-color: #800000\">╰──────────────────────────────────────────────────────────────────────────────────────────────────╯</span>\n",
       "<span style=\"color: #ff0000; text-decoration-color: #ff0000; font-weight: bold\">NameError: </span>name <span style=\"color: #008000; text-decoration-color: #008000\">'poly'</span> is not defined\n",
       "</pre>\n"
      ],
      "text/plain": [
       "\u001b[31m╭─\u001b[0m\u001b[31m──────────────────────────────\u001b[0m\u001b[31m \u001b[0m\u001b[1;31mTraceback \u001b[0m\u001b[1;2;31m(most recent call last)\u001b[0m\u001b[31m \u001b[0m\u001b[31m───────────────────────────────\u001b[0m\u001b[31m─╮\u001b[0m\n",
       "\u001b[31m│\u001b[0m in \u001b[92m<module>\u001b[0m:\u001b[94m15\u001b[0m                                                                                   \u001b[31m│\u001b[0m\n",
       "\u001b[31m│\u001b[0m                                                                                                  \u001b[31m│\u001b[0m\n",
       "\u001b[31m│\u001b[0m   \u001b[2m12 \u001b[0m\u001b[33m{{\u001b[0m\u001b[33mgen \u001b[0m\u001b[33m'\u001b[0m\u001b[33mreasoning\u001b[0m\u001b[33m'\u001b[0m\u001b[33m temperature=0}}\u001b[0m                                                           \u001b[31m│\u001b[0m\n",
       "\u001b[31m│\u001b[0m   \u001b[2m13 \u001b[0m\u001b[33mROOTS = [\u001b[0m\u001b[33m{{\u001b[0m\u001b[33mgen \u001b[0m\u001b[33m'\u001b[0m\u001b[33manswer\u001b[0m\u001b[33m'\u001b[0m\u001b[33m temperature=0}}]\u001b[0m                                                    \u001b[31m│\u001b[0m\n",
       "\u001b[31m│\u001b[0m   \u001b[2m14 \u001b[0m\u001b[33m{{\u001b[0m\u001b[33m~/assistant~}}\u001b[0m\u001b[33m'''\u001b[0m, llm=vicuna, system_prompt=vicuna_system)                               \u001b[31m│\u001b[0m\n",
       "\u001b[31m│\u001b[0m \u001b[31m❱ \u001b[0m15 program = program(equation=poly, silent=\u001b[94mTrue\u001b[0m)                                               \u001b[31m│\u001b[0m\n",
       "\u001b[31m│\u001b[0m   \u001b[2m16 \u001b[0m                                                                                            \u001b[31m│\u001b[0m\n",
       "\u001b[31m╰──────────────────────────────────────────────────────────────────────────────────────────────────╯\u001b[0m\n",
       "\u001b[1;91mNameError: \u001b[0mname \u001b[32m'poly'\u001b[0m is not defined\n"
      ]
     },
     "metadata": {},
     "output_type": "display_data"
    }
   ],
   "source": [
    "program = guidance('''{{#system~}}\n",
    "{{system_prompt}}\n",
    "{{~/system}}\n",
    "{{#user~}}\n",
    "Please find the roots of the following equation: {{equation}}\n",
    "Think step by step, find the roots, and then say:\n",
    "ROOTS = [root1, root2...]\n",
    "For example, if the roots are 1.3 and 2.2, say ROOTS = [1.3, 2.2].\n",
    "Make sure to use real numbers, not fractions.\n",
    "{{/user}}\n",
    "{{#assistant~}}\n",
    "{{gen 'reasoning' temperature=0}}\n",
    "ROOTS = [{{gen 'answer' temperature=0}}]\n",
    "{{~/assistant~}}''', llm=vicuna, system_prompt=vicuna_system)\n",
    "program = program(equation=poly, silent=True)"
   ]
  },
  {
   "cell_type": "code",
   "execution_count": null,
   "metadata": {},
   "outputs": [],
   "source": [
    "import re\n",
    "polys = []\n",
    "answers = []\n",
    "chatgpt_answers = []\n",
    "vicuna_answers = []\n",
    "for _ in range(10):\n",
    "    roots, poly = random_polynomial(1, low=-30, high=30)\n",
    "    chatgpt_answers.append(chatgpt_roots(equation=poly)['answer'])\n",
    "    vicuna_answers.append(vicuna_roots(equation=poly)['answer'])\n",
    "\n",
    "roots = re.search(r'ROOTS = \\[(.*)\\]', program['answer'])\n",
    "np.array(list(map(float, roots.group(1).split(', '))))"
   ]
  },
  {
   "cell_type": "code",
   "execution_count": 4,
   "metadata": {},
   "outputs": [],
   "source": [
    "pages = [\n",
    "{'title': 'Fish oil - Mayo Clinic',\n",
    "'url': 'https://www.mayoclinic.org/drugs-supplements-fish-oil/art-20364810',\n",
    "'text' : '''Overview\n",
    "Fish oil is a dietary source of omega-3 fatty acids. Your body needs omega-3 fatty acids for many functions, from muscle activity to cell growth.\n",
    "\n",
    "Omega-3 fatty acids are derived from food. They can't be manufactured in the body. Fish oil contains two omega-3s called docosahexaenoic acid (DHA) and eicosapentaenoic acid (EPA). Dietary sources of DHA and EPA are fatty fish, such as salmon, mackerel and trout, and shellfish, such as mussels, oysters and crabs. Some nuts, seeds and vegetable oils contain another omega-3 called alpha-linolenic acid (ALA).\n",
    "\n",
    "Fish oil supplements come in liquid, capsule and pill form.\n",
    "\n",
    "People take fish oil for its anti-inflammatory effects.\n",
    "\n",
    "Evidence\n",
    "Research on the use of fish oil for specific conditions shows:\n",
    "\n",
    "- Heart disease. While research shows that people who eat dietary sources of fish oil at least twice a week have a lower risk of dying of heart disease, taking fish oil supplements seems to have little to no benefits to heart health.\n",
    "- High blood pressure. Multiple studies report modest reductions in blood pressure in people who take fish oil supplements. There's some evidence that the beneficial effects of fish oil might be greater for people with moderate to severe high blood pressure than for those with mild blood pressure elevation.\n",
    "- High triglycerides and cholesterol. There's strong evidence that omega-3 fatty acids can significantly reduce blood triglyceride levels. There also appears to be a slight improvement in high-density lipoprotein (HDL, or \"good\") cholesterol, although an increase in levels of low-density lipoprotein (LDL, or \"bad\") cholesterol also was observed.\n",
    "- Rheumatoid arthritis. Studies suggest fish oil supplements might help reduce pain, improve morning stiffness and relieve joint tenderness in people with rheumatoid arthritis. While relief is often modest, it might be enough to reduce the need for anti-inflammatory medications.\n",
    "\n",
    "Our take\n",
    "Green light: Generally safe\n",
    "Generally safe\n",
    "Omega-3 fatty acids are essential for good health. Try to get them from your diet by eating fish — broiled or baked, not fried. Fish oil supplements might be helpful if you have high triglycerides or rheumatoid arthritis.\n",
    "\n",
    "Fish oil appears to contain almost no mercury, which can be a cause for concern in certain types of fish. While generally safe, getting too much fish oil can increase your risk of bleeding and might affect your immune response. It's not clear whether fish oil is safe for people who are allergic to seafood. Take fish oil supplements under a doctor's supervision.\n",
    "\n",
    "Safety and side effects\n",
    "When taken as recommended, fish oil supplements are generally considered safe.\n",
    "\n",
    "However, fish oil supplements can cause mild side effects, including:\n",
    "- A fishy aftertaste\n",
    "- Bad breath\n",
    "- Heartburn, nausea or diarrhea\n",
    "- Rash\n",
    "Taking high doses of fish oil supplements might increase the risk of bleeding and possibly increase the risk of stroke.\n",
    "'''\n",
    "},\n",
    "{\n",
    "    'title': 'Should I take Fish oil? - The New York Times', \n",
    "    'url': 'https://www.nytimes.com/2019/11/01/style/self-care/fish-oil-benefits.html',\n",
    "    'text': '''Should I Take Fish Oil?\n",
    "Omega-3 in fish oil is said to improve arthritis and reduce the likelihood of heart attacks. But the science suggests: Maybe just eat a fish once in a while.\n",
    "\n",
    "In 1971, a team of Danish researchers found that an Inuit population in Greenland had lower cholesterol levels and incidence of heart disease than Danes and Inuits who lived in Denmark. A theory arose: The indigenous people’s high marine-fat diet gave them heart protections.\n",
    "\n",
    "Since then, fish oil and omega-3 fatty acids — the health-boosting star component of fish oil — have been the subject of tens of thousands of papers exploring their health benefits.\n",
    "\n",
    "Today, the “Eskimo theory” has been largely discredited. “We really don’t know if the Eskimos got heart disease or not,” said Malden C. Nesheim, an emeritus professor of nutrition at Cornell University, who chaired an Institute of Medicine committee assessing the risks and benefits of seafood in the early 2000s, in a 2018 interview with The New York Times. “I’ve been an omega-3 skeptic since doing this study.”\n",
    "\n",
    "What do proponents of fish oil say it will do for you?\n",
    "Fish oil is said to: improve arthritis; reduce ADHD; reduce the likelihood of heart attack and cancer; improve high-density lipoprotein (HDL, the so-called good) cholesterol.\n",
    "\n",
    "Should I try fish oil supplements?\n",
    "For healthy individuals, fish oil supplements are unnecessary. It’s better to eat a few servings of fish a week, instead.\n",
    "\n",
    "The largest study — called the Vital study — done by Brigham and Women’s Hospital, an affiliate of Harvard Medical School, followed more than 25,000 people since 2010 and focused on whether taking daily dietary supplements of vitamin D or omega-3 fatty acids reduced the risk of cardiac events or cancer in otherwise healthy individuals.\n",
    "\n",
    "It found that omega-3 supplements didn’t reduce the risk of major cardiac events in a usual-risk population, but did reduce the risk in a subset of people with low fish intake by 19 percent. The study is considered the medical gold standard.\n",
    "\n",
    "African-Americans benefited regardless of fish intake, showing a 77 percent lower risk of heart attack. “This could be a chance finding,” said Dr. JoAnn Manson, a director of the study and the chief of the Division of Preventive Medicine at Brigham and Women’s Hospital. “We do plan to pursue it in greater detail and try to replicate it in a separate trial because if this can be reproduced, that would be a very dramatic benefit to African-Americans.”\n",
    "\n",
    "Because there is still more research to be done, experts don’t necessarily recommended that African-Americans take omega-3.\n",
    "\n",
    "If you have some history of heart disease or high triglycerides (an estimated 25 percent of adults in the United States do, according to data from the National Health and Nutrition Examination Survey in 2015), it may be a good idea to take omega-3.\n",
    "\n",
    "The potential downside, because supplements are not regulated, is that production isn’t standardized so we don’t know what’s in them, according to Dr. Pieter Cohen, of Cambridge Health Alliance, who is an associate professor of medicine at Harvard Medical School.\n",
    "\n",
    "He said that supplements are expensive and that money could alternatively be spent on a healthier diet. As an internist, Dr. Cohen has seen negative behavioral effects in some of his patients who take supplements.\n",
    "\n",
    "“I have many patients who are like, ‘I’ll take my supplement and then I won’t worry about eating healthfully during the day,’” Dr. Cohen said. “That’s really misguided. Because in this case we have absolutely no evidence that replacing a healthy meal of fish with an omega-3 supplement is better.”\n",
    "'''\n",
    "},\n",
    "{\n",
    "    'title': '12 Benefits of Taking Fish Oil - Healthline',\n",
    "    'url': 'https://www.healthline.com/nutrition/benefits-of-fish-oil', \n",
    "\n",
    "}\n",
    "]"
   ]
  },
  {
   "cell_type": "code",
   "execution_count": 5,
   "metadata": {},
   "outputs": [],
   "source": [
    "query = 'Should I take fish oil?'"
   ]
  },
  {
   "cell_type": "code",
   "execution_count": null,
   "metadata": {},
   "outputs": [],
   "source": [
    "chatgpt_roots = guidance('''{{#system~}}\n",
    "{{system_prompt}}\n",
    "{{~/system}}\n",
    "{{#user~}}\n",
    "Please find the roots of the following equation: {{equation}}\n",
    "Think step by step, find the roots, and then say:\n",
    "ROOTS = [root1, root2...]\n",
    "For example, if the roots are 1.3 and 2.2, say ROOTS = [1.3, 2.2].\n",
    "Make sure to use real numbers, not fractions.\n",
    "{{/user}}\n",
    "{{#assistant~}}\n",
    "{{gen 'answer' temperature=0}}\n",
    "{{~/assistant~}}''', llm=chatgpt, system_prompt=chatgpt_system)\n",
    "chatgpt_roots(equation=poly)\n",
    "# program = program(system_prompt=chatgpt_system, equation=poly)"
   ]
  },
  {
   "cell_type": "code",
   "execution_count": 36,
   "metadata": {},
   "outputs": [],
   "source": [
    "meeting_transcript = '''John: Alright, so we're all here to discuss the offer we received from Microsoft to buy our startup. What are your thoughts on this?\n",
    "Lucy: Well, I think it's a great opportunity for us. Microsoft is a huge company with a lot of resources, and they could really help us take our product to the next level.\n",
    "Steven: I agree with Lucy. Microsoft has a lot of experience in the tech industry, and they could provide us with the support we need to grow our business.\n",
    "John: I see your point, but I'm a little hesitant about selling our startup. We've put a lot of time and effort into building this company, and I'm not sure if I'm ready to let it go just yet.\n",
    "Lucy: I understand where you're coming from, John, but we have to think about the future of our company. If we sell to Microsoft, we'll have access to their resources and expertise, which could help us grow our business even more.\n",
    "Steven: And let's not forget about the financial benefits. Microsoft is offering us a lot of money for our startup, which could help us invest in new projects and expand our team.\n",
    "John: I see your point, but I still have some reservations. What if Microsoft changes our product or our company culture? What if we lose control over our own business?\n",
    "Lucy: Those are valid concerns, John, but we can negotiate the terms of the deal to ensure that we retain some control over our company. And as for the product and culture, we can work with Microsoft to make sure that our vision is still intact.\n",
    "Steven: You know what Lucy, I hadn't thought about this before, but maybe John is right. It would be a shame if our culture changed.\n",
    "Lucy: But why do you think it might change?\n",
    "John: Well, just by virtue of being absorbed into a big company? I mean, we're a small startup with a very specific culture. Microsoft is a huge corporation with a very different culture. I'm not sure if the two can coexist.\n",
    "Steven: But John, didn't we always plan on being acquired? Won't this be a problem whenever?\n",
    "Lucy: Right\n",
    "John: I just don't want to lose what we've built here.\n",
    "Steven: Right, I share this concern''' "
   ]
  },
  {
   "cell_type": "code",
   "execution_count": 65,
   "metadata": {},
   "outputs": [
    {
     "data": {
      "text/html": [
       "<div id=\"guidance-stop-button-02661e5b-b456-4289-90fc-767c7cfc0da5\" style=\"cursor: pointer; margin: 0px; display: none; float: right; padding: 3px; border-radius: 4px 4px 4px 4px; border: 0px solid rgba(127, 127, 127, 1); padding-left: 10px; padding-right: 10px; font-size: 13px; background-color: rgba(127, 127, 127, 0.25);\">Stop program</div><div id=\"guidance-content-02661e5b-b456-4289-90fc-767c7cfc0da5\"><pre style='margin: 0px; padding: 0px; padding-left: 8px; margin-left: -8px; border-radius: 0px; border-left: 1px solid rgba(127, 127, 127, 0.2); white-space: pre-wrap; font-family: ColfaxAI, Arial; font-size: 15px; line-height: 23px;'><div style='display: flex; border-bottom: 1px solid rgba(127, 127, 127, 0.2); align-items: center;'><div style='flex: 0 0 80px; opacity: 0.5;'>system</div><div style='flex-grow: 1; padding: 5px; padding-top: 10px; padding-bottom: 10px; margin-top: 0px; white-space: pre-wrap; margin-bottom: 0px;'><span style='background-color: rgba(0, 138.56128016, 250.76166089, 0.25); display: inline;' title='{{system_prompt}}'>You are a helpful assistant.</span></div></div><div style='display: flex; border-bottom: 1px solid rgba(127, 127, 127, 0.2); align-items: center;'><div style='flex: 0 0 80px; opacity: 0.5;'>user</div><div style='flex-grow: 1; padding: 5px; padding-top: 10px; padding-bottom: 10px; margin-top: 0px; white-space: pre-wrap; margin-bottom: 0px;'>Here is a meeting transcript:\n",
       "----\n",
       "<span style='background-color: rgba(0, 138.56128016, 250.76166089, 0.25); display: inline;' title='{{transcript}}'>John: Alright, so we&#x27;re all here to discuss the offer we received from Microsoft to buy our startup. What are your thoughts on this?\n",
       "Lucy: Well, I think it&#x27;s a great opportunity for us. Microsoft is a huge company with a lot of resources, and they could really help us take our product to the next level.\n",
       "Steven: I agree with Lucy. Microsoft has a lot of experience in the tech industry, and they could provide us with the support we need to grow our business.\n",
       "John: I see your point, but I&#x27;m a little hesitant about selling our startup. We&#x27;ve put a lot of time and effort into building this company, and I&#x27;m not sure if I&#x27;m ready to let it go just yet.\n",
       "Lucy: I understand where you&#x27;re coming from, John, but we have to think about the future of our company. If we sell to Microsoft, we&#x27;ll have access to their resources and expertise, which could help us grow our business even more.\n",
       "Steven: And let&#x27;s not forget about the financial benefits. Microsoft is offering us a lot of money for our startup, which could help us invest in new projects and expand our team.\n",
       "John: I see your point, but I still have some reservations. What if Microsoft changes our product or our company culture? What if we lose control over our own business?\n",
       "Lucy: Those are valid concerns, John, but we can negotiate the terms of the deal to ensure that we retain some control over our company. And as for the product and culture, we can work with Microsoft to make sure that our vision is still intact.\n",
       "Steven: You know what Lucy, I hadn&#x27;t thought about this before, but maybe John is right. It would be a shame if our culture changed.\n",
       "Lucy: But why do you think it might change?\n",
       "John: Well, just by virtue of being absorbed into a big company? I mean, we&#x27;re a small startup with a very specific culture. Microsoft is a huge corporation with a very different culture. I&#x27;m not sure if the two can coexist.\n",
       "Steven: But John, didn&#x27;t we always plan on being acquired? Won&#x27;t this be a problem whenever?\n",
       "Lucy: Right\n",
       "John: I just don&#x27;t want to lose what we&#x27;ve built here.\n",
       "Steven: Right, I share this concern</span>\n",
       "----\n",
       "Question: <span style='background-color: rgba(0, 138.56128016, 250.76166089, 0.25); display: inline;' title='{{query}}'>How does Steven feel about selling?</span>\n",
       "Rather than answering the question, please extract from the transcript whichever parts will support the answer.\n",
       "</div></div><div style='display: flex; border-bottom: 1px solid rgba(127, 127, 127, 0.2); align-items: center;'><div style='flex: 0 0 80px; opacity: 0.5;'>assistant</div><div style='flex-grow: 1; padding: 5px; padding-top: 10px; padding-bottom: 10px; margin-top: 0px; white-space: pre-wrap; margin-bottom: 0px;'><span style='background-color: rgba(0, 165, 0, 0.25); opacity: 1.0; display: inline;' title='{{gen &#x27;answer&#x27; temperature=0}}'>Steven is in favor of selling the startup to Microsoft. \n",
       "\n",
       "Lucy: Well, I think it&#x27;s a great opportunity for us. Microsoft is a huge company with a lot of resources, and they could really help us take our product to the next level.\n",
       "\n",
       "Steven: I agree with Lucy. Microsoft has a lot of experience in the tech industry, and they could provide us with the support we need to grow our business.\n",
       "\n",
       "Steven: And let&#x27;s not forget about the financial benefits. Microsoft is offering us a lot of money for our startup, which could help us invest in new projects and expand our team.\n",
       "\n",
       "Steven: But John, didn&#x27;t we always plan on being acquired? Won&#x27;t this be a problem whenever?</span></div></div></pre></div>\n",
       "<script type=\"text/javascript\">(()=>{var t={296:(t,e,n)=>{var i=NaN,o=\"[object Symbol]\",r=/^\\s+|\\s+$/g,a=/^[-+]0x[0-9a-f]+$/i,s=/^0b[01]+$/i,c=/^0o[0-7]+$/i,d=parseInt,u=\"object\"==typeof n.g&&n.g&&n.g.Object===Object&&n.g,l=\"object\"==typeof self&&self&&self.Object===Object&&self,f=u||l||Function(\"return this\")(),h=Object.prototype.toString,p=Math.max,m=Math.min,g=function(){return f.Date.now()};function b(t){var e=typeof t;return!!t&&(\"object\"==e||\"function\"==e)}function y(t){if(\"number\"==typeof t)return t;if(function(t){return\"symbol\"==typeof t||function(t){return!!t&&\"object\"==typeof t}(t)&&h.call(t)==o}(t))return i;if(b(t)){var e=\"function\"==typeof t.valueOf?t.valueOf():t;t=b(e)?e+\"\":e}if(\"string\"!=typeof t)return 0===t?t:+t;t=t.replace(r,\"\");var n=s.test(t);return n||c.test(t)?d(t.slice(2),n?2:8):a.test(t)?i:+t}t.exports=function(t,e,n){var i,o,r,a,s,c,d=0,u=!1,l=!1,f=!0;if(\"function\"!=typeof t)throw new TypeError(\"Expected a function\");function h(e){var n=i,r=o;return i=o=void 0,d=e,a=t.apply(r,n)}function v(t){var n=t-c;return void 0===c||n>=e||n<0||l&&t-d>=r}function _(){var t=g();if(v(t))return w(t);s=setTimeout(_,function(t){var n=e-(t-c);return l?m(n,r-(t-d)):n}(t))}function w(t){return s=void 0,f&&i?h(t):(i=o=void 0,a)}function j(){var t=g(),n=v(t);if(i=arguments,o=this,c=t,n){if(void 0===s)return function(t){return d=t,s=setTimeout(_,e),u?h(t):a}(c);if(l)return s=setTimeout(_,e),h(c)}return void 0===s&&(s=setTimeout(_,e)),a}return e=y(e)||0,b(n)&&(u=!!n.leading,r=(l=\"maxWait\"in n)?p(y(n.maxWait)||0,e):r,f=\"trailing\"in n?!!n.trailing:f),j.cancel=function(){void 0!==s&&clearTimeout(s),d=0,i=c=o=s=void 0},j.flush=function(){return void 0===s?a:w(g())},j}},777:t=>{var e,n,i=Math.max,o=(e=function(t,e){return function(t,e,n){if(\"function\"!=typeof t)throw new TypeError(\"Expected a function\");return setTimeout((function(){t.apply(void 0,n)}),1)}(t,0,e)},n=i(void 0===n?e.length-1:n,0),function(){for(var t=arguments,o=-1,r=i(t.length-n,0),a=Array(r);++o<r;)a[o]=t[n+o];o=-1;for(var s=Array(n+1);++o<n;)s[o]=t[o];return s[n]=a,function(t,e,n){switch(n.length){case 0:return t.call(e);case 1:return t.call(e,n[0]);case 2:return t.call(e,n[0],n[1]);case 3:return t.call(e,n[0],n[1],n[2])}return t.apply(e,n)}(e,this,s)});t.exports=o}},e={};function n(i){var o=e[i];if(void 0!==o)return o.exports;var r=e[i]={exports:{}};return t[i](r,r.exports,n),r.exports}n.n=t=>{var e=t&&t.__esModule?()=>t.default:()=>t;return n.d(e,{a:e}),e},n.d=(t,e)=>{for(var i in e)n.o(e,i)&&!n.o(t,i)&&Object.defineProperty(t,i,{enumerable:!0,get:e[i]})},n.g=function(){if(\"object\"==typeof globalThis)return globalThis;try{return this||new Function(\"return this\")()}catch(t){if(\"object\"==typeof window)return window}}(),n.o=(t,e)=>Object.prototype.hasOwnProperty.call(t,e),(()=>{\"use strict\";const t=t=>{const e=new Set;do{for(const n of Reflect.ownKeys(t))e.add([t,n])}while((t=Reflect.getPrototypeOf(t))&&t!==Object.prototype);return e};function e(e,{include:n,exclude:i}={}){const o=t=>{const e=e=>\"string\"==typeof e?t===e:e.test(t);return n?n.some(e):!i||!i.some(e)};for(const[n,i]of t(e.constructor.prototype)){if(\"constructor\"===i||!o(i))continue;const t=Reflect.getOwnPropertyDescriptor(n,i);t&&\"function\"==typeof t.value&&(e[i]=e[i].bind(e))}return e}var i=n(777),o=n.n(i),r=n(296),a=n.n(r);class s{constructor(t,n){e(this),this.interfaceId=t,this.callbackMap={},this.data={},this.pendingData={},this.jcomm=new c(\"guidance_interface_target_\"+this.interfaceId,this.updateData,\"open\"),this.debouncedSendPendingData500=a()(this.sendPendingData,500),this.debouncedSendPendingData1000=a()(this.sendPendingData,1e3),n&&o()(n)}send(t,e){this.addPendingData(t,e),this.sendPendingData()}sendEvent(t){for(const e of Object.keys(t))this.addPendingData(e,t[e]);this.sendPendingData()}debouncedSendEvent500(t){for(const e of Object.keys(t))this.addPendingData(e,t[e]);this.debouncedSendPendingData500()}debouncedSend500(t,e){this.addPendingData(t,e),this.debouncedSendPendingData500()}debouncedSend1000(t,e){this.addPendingData(t,e),this.debouncedSendPendingData1000()}addPendingData(t,e){Array.isArray(t)||(t=[t]);for(const n in t)this.pendingData[t[n]]=e}updateData(t){t=JSON.parse(t.data);for(const e in t)this.data[e]=t[e];for(const e in t)e in this.callbackMap&&this.callbackMap[e](this.data[e])}subscribe(t,e){this.callbackMap[t]=e,o()((e=>this.callbackMap[t](this.data[t])))}sendPendingData(){this.jcomm.send_data(this.pendingData),this.pendingData={}}}class c{constructor(t,e,n=\"open\"){this._fire_callback=this._fire_callback.bind(this),this._register=this._register.bind(this),this.jcomm=void 0,this.callback=e,void 0!==window.Jupyter?\"register\"===n?Jupyter.notebook.kernel.comm_manager.register_target(t,this._register):(this.jcomm=Jupyter.notebook.kernel.comm_manager.new_comm(t),this.jcomm.on_msg(this._fire_callback)):void 0!==window._mgr&&(\"register\"===n?window._mgr.widgetManager.proxyKernel.registerCommTarget(t,this._register):(this.jcomm=window._mgr.widgetManager.proxyKernel.createComm(t),this.jcomm.open({},\"\"),this.jcomm.onMsg=this._fire_callback))}send_data(t){void 0!==this.jcomm?this.jcomm.send(t):console.error(\"Jupyter comm module not yet loaded! So we can't send the message.\")}_register(t,e){this.jcomm=t,this.jcomm.on_msg(this._fire_callback)}_fire_callback(t){this.callback(t.content.data)}}class d{constructor(t,n){e(this),this.id=t,this.comm=new s(t),this.comm.subscribe(\"append\",this.appendData),this.comm.subscribe(\"replace\",this.replaceData),this.comm.subscribe(\"event\",this.eventOccurred),this.element=document.getElementById(\"guidance-content-\"+t),this.stop_button=document.getElementById(\"guidance-stop-button-\"+t),this.stop_button.onclick=()=>this.comm.send(\"event\",\"stop\")}appendData(t){t&&(this.stop_button.style.display=\"inline-block\",this.element.innerHTML+=t)}replaceData(t){t&&(this.stop_button.style.display=\"inline-block\",this.element.innerHTML=t)}eventOccurred(t){\"complete\"===t&&(this.stop_button.style.display=\"none\")}}window._guidanceDisplay=function(t,e){return new d(t,e)}})()})();; window._guidanceDisplay(\"02661e5b-b456-4289-90fc-767c7cfc0da5\");</script>"
      ]
     },
     "metadata": {},
     "output_type": "display_data"
    }
   ],
   "source": [
    "chatgpt_answer = guidance('''{{#system~}}\n",
    "{{system_prompt}}\n",
    "{{~/system}}\n",
    "{{#user~}}\n",
    "Here is a meeting transcript:\n",
    "----\n",
    "{{transcript}}\n",
    "----\n",
    "Question: {{query}}\n",
    "Based on the above, please answer the following question:\n",
    "Question: {{query}}\n",
    "Please extract from the transcript whichever parts will support the answer, and then answer the question.\n",
    "{{/user}}\n",
    "{{#assistant~}}\n",
    "{{gen 'answer' temperature=0}}\n",
    "{{~/assistant~}}''', llm=chatgpt, system_prompt=chatgpt_system)\n",
    "p = chatgpt_answer(transcript=meeting_transcript, query='How does Steven feel about selling?', silent=False)\n",
    "# Rather than answering the question, please extract from the transcript whichever parts will support the answer.\n"
   ]
  },
  {
   "cell_type": "code",
   "execution_count": 67,
   "metadata": {},
   "outputs": [
    {
     "data": {
      "text/html": [
       "<div id=\"guidance-stop-button-7e3892b5-6ccf-435f-9b06-6952650c7b14\" style=\"cursor: pointer; margin: 0px; display: none; float: right; padding: 3px; border-radius: 4px 4px 4px 4px; border: 0px solid rgba(127, 127, 127, 1); padding-left: 10px; padding-right: 10px; font-size: 13px; background-color: rgba(127, 127, 127, 0.25);\">Stop program</div><div id=\"guidance-content-7e3892b5-6ccf-435f-9b06-6952650c7b14\"><pre style='margin: 0px; padding: 0px; padding-left: 8px; margin-left: -8px; border-radius: 0px; border-left: 1px solid rgba(127, 127, 127, 0.2); white-space: pre-wrap; font-family: ColfaxAI, Arial; font-size: 15px; line-height: 23px;'><div style='display: flex; border-bottom: 1px solid rgba(127, 127, 127, 0.2); align-items: center;'><div style='flex: 0 0 80px; opacity: 0.5;'>system</div><div style='flex-grow: 1; padding: 5px; padding-top: 10px; padding-bottom: 10px; margin-top: 0px; white-space: pre-wrap; margin-bottom: 0px;'><span style='background-color: rgba(0, 138.56128016, 250.76166089, 0.25); display: inline;' title='{{system_prompt}}'>A chat between a curious user and an artificial intelligence assistant. The assistant gives helpful, detailed, and polite answers to the user&#x27;s questions.</span></div></div><div style='display: flex; border-bottom: 1px solid rgba(127, 127, 127, 0.2); align-items: center;'><div style='flex: 0 0 80px; opacity: 0.5;'>user</div><div style='flex-grow: 1; padding: 5px; padding-top: 10px; padding-bottom: 10px; margin-top: 0px; white-space: pre-wrap; margin-bottom: 0px;'>Here is a meeting transcript:\n",
       "----\n",
       "<span style='background-color: rgba(0, 138.56128016, 250.76166089, 0.25); display: inline;' title='{{transcript}}'>John: Alright, so we&#x27;re all here to discuss the offer we received from Microsoft to buy our startup. What are your thoughts on this?\n",
       "Lucy: Well, I think it&#x27;s a great opportunity for us. Microsoft is a huge company with a lot of resources, and they could really help us take our product to the next level.\n",
       "Steven: I agree with Lucy. Microsoft has a lot of experience in the tech industry, and they could provide us with the support we need to grow our business.\n",
       "John: I see your point, but I&#x27;m a little hesitant about selling our startup. We&#x27;ve put a lot of time and effort into building this company, and I&#x27;m not sure if I&#x27;m ready to let it go just yet.\n",
       "Lucy: I understand where you&#x27;re coming from, John, but we have to think about the future of our company. If we sell to Microsoft, we&#x27;ll have access to their resources and expertise, which could help us grow our business even more.\n",
       "Steven: And let&#x27;s not forget about the financial benefits. Microsoft is offering us a lot of money for our startup, which could help us invest in new projects and expand our team.\n",
       "John: I see your point, but I still have some reservations. What if Microsoft changes our product or our company culture? What if we lose control over our own business?\n",
       "Lucy: Those are valid concerns, John, but we can negotiate the terms of the deal to ensure that we retain some control over our company. And as for the product and culture, we can work with Microsoft to make sure that our vision is still intact.\n",
       "Steven: You know what Lucy, I hadn&#x27;t thought about this before, but maybe John is right. It would be a shame if our culture changed.\n",
       "Lucy: But why do you think it might change?\n",
       "John: Well, just by virtue of being absorbed into a big company? I mean, we&#x27;re a small startup with a very specific culture. Microsoft is a huge corporation with a very different culture. I&#x27;m not sure if the two can coexist.\n",
       "Steven: But John, didn&#x27;t we always plan on being acquired? Won&#x27;t this be a problem whenever?\n",
       "Lucy: Right\n",
       "John: I just don&#x27;t want to lose what we&#x27;ve built here.\n",
       "Steven: Right, I share this concern</span>\n",
       "----\n",
       "Based on the above, please answer the following question:\n",
       "Question: <span style='background-color: rgba(0, 138.56128016, 250.76166089, 0.25); display: inline;' title='{{query}}'>How does Steven feel about selling?</span>\n",
       "Please extract from the transcript whichever parts will support the answer, and then answer the question.\n",
       "</div></div><div style='display: flex; border-bottom: 1px solid rgba(127, 127, 127, 0.2); align-items: center;'><div style='flex: 0 0 80px; opacity: 0.5;'>assistant</div><div style='flex-grow: 1; padding: 5px; padding-top: 10px; padding-bottom: 10px; margin-top: 0px; white-space: pre-wrap; margin-bottom: 0px;'>Ok, first I will copy from the transcript the parts that will support my answer, and then I will answer the question.\n",
       "Relevant parts:\n",
       "<span style='background-color: rgba(0, 165, 0, 0.25); opacity: 1.0; display: inline;' title='{{gen &#x27;rest&#x27; temperature=0}}'>\n",
       "* &quot;I agree with Lucy. Microsoft has a lot of experience in the tech industry, and they could provide us with the support we need to grow our business.&quot;\n",
       "* &quot;And let&#x27;s not forget about the financial benefits. Microsoft is offering us a lot of money for our startup, which could help us invest in new projects and expand our team.&quot;\n",
       "* &quot;But why do you think it might change? Microsoft is a huge corporation with a very different culture. I&#x27;m not sure if the two can coexist.&quot;\n",
       "* &quot;I just don&#x27;t want to lose what we&#x27;ve built here.&quot;\n",
       "\n",
       "Answer: Steven is hesitant about selling the startup, he is not sure if the two companies&#x27; cultures can coexist, and he is also worried about losing what they have built.</span></div></div></pre></div>\n",
       "<script type=\"text/javascript\">(()=>{var t={296:(t,e,n)=>{var i=NaN,o=\"[object Symbol]\",r=/^\\s+|\\s+$/g,a=/^[-+]0x[0-9a-f]+$/i,s=/^0b[01]+$/i,c=/^0o[0-7]+$/i,d=parseInt,u=\"object\"==typeof n.g&&n.g&&n.g.Object===Object&&n.g,l=\"object\"==typeof self&&self&&self.Object===Object&&self,f=u||l||Function(\"return this\")(),h=Object.prototype.toString,p=Math.max,m=Math.min,g=function(){return f.Date.now()};function b(t){var e=typeof t;return!!t&&(\"object\"==e||\"function\"==e)}function y(t){if(\"number\"==typeof t)return t;if(function(t){return\"symbol\"==typeof t||function(t){return!!t&&\"object\"==typeof t}(t)&&h.call(t)==o}(t))return i;if(b(t)){var e=\"function\"==typeof t.valueOf?t.valueOf():t;t=b(e)?e+\"\":e}if(\"string\"!=typeof t)return 0===t?t:+t;t=t.replace(r,\"\");var n=s.test(t);return n||c.test(t)?d(t.slice(2),n?2:8):a.test(t)?i:+t}t.exports=function(t,e,n){var i,o,r,a,s,c,d=0,u=!1,l=!1,f=!0;if(\"function\"!=typeof t)throw new TypeError(\"Expected a function\");function h(e){var n=i,r=o;return i=o=void 0,d=e,a=t.apply(r,n)}function v(t){var n=t-c;return void 0===c||n>=e||n<0||l&&t-d>=r}function _(){var t=g();if(v(t))return w(t);s=setTimeout(_,function(t){var n=e-(t-c);return l?m(n,r-(t-d)):n}(t))}function w(t){return s=void 0,f&&i?h(t):(i=o=void 0,a)}function j(){var t=g(),n=v(t);if(i=arguments,o=this,c=t,n){if(void 0===s)return function(t){return d=t,s=setTimeout(_,e),u?h(t):a}(c);if(l)return s=setTimeout(_,e),h(c)}return void 0===s&&(s=setTimeout(_,e)),a}return e=y(e)||0,b(n)&&(u=!!n.leading,r=(l=\"maxWait\"in n)?p(y(n.maxWait)||0,e):r,f=\"trailing\"in n?!!n.trailing:f),j.cancel=function(){void 0!==s&&clearTimeout(s),d=0,i=c=o=s=void 0},j.flush=function(){return void 0===s?a:w(g())},j}},777:t=>{var e,n,i=Math.max,o=(e=function(t,e){return function(t,e,n){if(\"function\"!=typeof t)throw new TypeError(\"Expected a function\");return setTimeout((function(){t.apply(void 0,n)}),1)}(t,0,e)},n=i(void 0===n?e.length-1:n,0),function(){for(var t=arguments,o=-1,r=i(t.length-n,0),a=Array(r);++o<r;)a[o]=t[n+o];o=-1;for(var s=Array(n+1);++o<n;)s[o]=t[o];return s[n]=a,function(t,e,n){switch(n.length){case 0:return t.call(e);case 1:return t.call(e,n[0]);case 2:return t.call(e,n[0],n[1]);case 3:return t.call(e,n[0],n[1],n[2])}return t.apply(e,n)}(e,this,s)});t.exports=o}},e={};function n(i){var o=e[i];if(void 0!==o)return o.exports;var r=e[i]={exports:{}};return t[i](r,r.exports,n),r.exports}n.n=t=>{var e=t&&t.__esModule?()=>t.default:()=>t;return n.d(e,{a:e}),e},n.d=(t,e)=>{for(var i in e)n.o(e,i)&&!n.o(t,i)&&Object.defineProperty(t,i,{enumerable:!0,get:e[i]})},n.g=function(){if(\"object\"==typeof globalThis)return globalThis;try{return this||new Function(\"return this\")()}catch(t){if(\"object\"==typeof window)return window}}(),n.o=(t,e)=>Object.prototype.hasOwnProperty.call(t,e),(()=>{\"use strict\";const t=t=>{const e=new Set;do{for(const n of Reflect.ownKeys(t))e.add([t,n])}while((t=Reflect.getPrototypeOf(t))&&t!==Object.prototype);return e};function e(e,{include:n,exclude:i}={}){const o=t=>{const e=e=>\"string\"==typeof e?t===e:e.test(t);return n?n.some(e):!i||!i.some(e)};for(const[n,i]of t(e.constructor.prototype)){if(\"constructor\"===i||!o(i))continue;const t=Reflect.getOwnPropertyDescriptor(n,i);t&&\"function\"==typeof t.value&&(e[i]=e[i].bind(e))}return e}var i=n(777),o=n.n(i),r=n(296),a=n.n(r);class s{constructor(t,n){e(this),this.interfaceId=t,this.callbackMap={},this.data={},this.pendingData={},this.jcomm=new c(\"guidance_interface_target_\"+this.interfaceId,this.updateData,\"open\"),this.debouncedSendPendingData500=a()(this.sendPendingData,500),this.debouncedSendPendingData1000=a()(this.sendPendingData,1e3),n&&o()(n)}send(t,e){this.addPendingData(t,e),this.sendPendingData()}sendEvent(t){for(const e of Object.keys(t))this.addPendingData(e,t[e]);this.sendPendingData()}debouncedSendEvent500(t){for(const e of Object.keys(t))this.addPendingData(e,t[e]);this.debouncedSendPendingData500()}debouncedSend500(t,e){this.addPendingData(t,e),this.debouncedSendPendingData500()}debouncedSend1000(t,e){this.addPendingData(t,e),this.debouncedSendPendingData1000()}addPendingData(t,e){Array.isArray(t)||(t=[t]);for(const n in t)this.pendingData[t[n]]=e}updateData(t){t=JSON.parse(t.data);for(const e in t)this.data[e]=t[e];for(const e in t)e in this.callbackMap&&this.callbackMap[e](this.data[e])}subscribe(t,e){this.callbackMap[t]=e,o()((e=>this.callbackMap[t](this.data[t])))}sendPendingData(){this.jcomm.send_data(this.pendingData),this.pendingData={}}}class c{constructor(t,e,n=\"open\"){this._fire_callback=this._fire_callback.bind(this),this._register=this._register.bind(this),this.jcomm=void 0,this.callback=e,void 0!==window.Jupyter?\"register\"===n?Jupyter.notebook.kernel.comm_manager.register_target(t,this._register):(this.jcomm=Jupyter.notebook.kernel.comm_manager.new_comm(t),this.jcomm.on_msg(this._fire_callback)):void 0!==window._mgr&&(\"register\"===n?window._mgr.widgetManager.proxyKernel.registerCommTarget(t,this._register):(this.jcomm=window._mgr.widgetManager.proxyKernel.createComm(t),this.jcomm.open({},\"\"),this.jcomm.onMsg=this._fire_callback))}send_data(t){void 0!==this.jcomm?this.jcomm.send(t):console.error(\"Jupyter comm module not yet loaded! So we can't send the message.\")}_register(t,e){this.jcomm=t,this.jcomm.on_msg(this._fire_callback)}_fire_callback(t){this.callback(t.content.data)}}class d{constructor(t,n){e(this),this.id=t,this.comm=new s(t),this.comm.subscribe(\"append\",this.appendData),this.comm.subscribe(\"replace\",this.replaceData),this.comm.subscribe(\"event\",this.eventOccurred),this.element=document.getElementById(\"guidance-content-\"+t),this.stop_button=document.getElementById(\"guidance-stop-button-\"+t),this.stop_button.onclick=()=>this.comm.send(\"event\",\"stop\")}appendData(t){t&&(this.stop_button.style.display=\"inline-block\",this.element.innerHTML+=t)}replaceData(t){t&&(this.stop_button.style.display=\"inline-block\",this.element.innerHTML=t)}eventOccurred(t){\"complete\"===t&&(this.stop_button.style.display=\"none\")}}window._guidanceDisplay=function(t,e){return new d(t,e)}})()})();; window._guidanceDisplay(\"7e3892b5-6ccf-435f-9b06-6952650c7b14\");</script>"
      ]
     },
     "metadata": {},
     "output_type": "display_data"
    }
   ],
   "source": [
    "vicuna_answer = guidance('''{{#system~}}\n",
    "{{system_prompt}}\n",
    "{{~/system}}\n",
    "{{#user~}}\n",
    "Here is a meeting transcript:\n",
    "----\n",
    "{{transcript}}\n",
    "----\n",
    "Based on the above, please answer the following question:\n",
    "Question: {{query}}\n",
    "Please extract from the transcript whichever parts will support the answer, and then answer the question.\n",
    "{{/user}}\n",
    "{{#assistant~}}\n",
    "Ok, first I will copy from the transcript the parts that will support my answer, and then I will answer the question.\n",
    "Relevant parts:\n",
    "{{gen 'rest' temperature=0}}\n",
    "{{~/assistant~}}''', llm=vicuna, system_prompt=vicuna_system)\n",
    "p = vicuna_answer(transcript=meeting_transcript, query='How does Steven feel about selling?', silent=False)\n",
    "# {{gen 'quotes' pattern=\"(John|Steven|Lucy):.*\" temperature=0 stop=\"\\\\n\"}}\n"
   ]
  },
  {
   "cell_type": "code",
   "execution_count": 10,
   "metadata": {},
   "outputs": [
    {
     "data": {
      "text/html": [
       "<div id=\"guidance-stop-button-2cdb3ed0-7cfc-45cf-9181-4cdd12593be1\" style=\"cursor: pointer; margin: 0px; display: none; float: right; padding: 3px; border-radius: 4px 4px 4px 4px; border: 0px solid rgba(127, 127, 127, 1); padding-left: 10px; padding-right: 10px; font-size: 13px; background-color: rgba(127, 127, 127, 0.25);\">Stop program</div><div id=\"guidance-content-2cdb3ed0-7cfc-45cf-9181-4cdd12593be1\"><pre style='margin: 0px; padding: 0px; padding-left: 8px; margin-left: -8px; border-radius: 0px; border-left: 1px solid rgba(127, 127, 127, 0.2); white-space: pre-wrap; font-family: ColfaxAI, Arial; font-size: 15px; line-height: 23px;'><div style='display: flex; border-bottom: 1px solid rgba(127, 127, 127, 0.2); align-items: center;'><div style='flex: 0 0 80px; opacity: 0.5;'>system</div><div style='flex-grow: 1; padding: 5px; padding-top: 10px; padding-bottom: 10px; margin-top: 0px; white-space: pre-wrap; margin-bottom: 0px;'><span style='background-color: rgba(0, 138.56128016, 250.76166089, 0.25); display: inline;' title='{{system_prompt}}'>You are a helpful assistant.</span></div></div><div style='display: flex; border-bottom: 1px solid rgba(127, 127, 127, 0.2); align-items: center;'><div style='flex: 0 0 80px; opacity: 0.5;'>user</div><div style='flex-grow: 1; padding: 5px; padding-top: 10px; padding-bottom: 10px; margin-top: 0px; white-space: pre-wrap; margin-bottom: 0px;'>Here are a few webpages from a websearch:\n",
       "----\n",
       "WEBPAGE 1\n",
       "<span style='background-color: rgba(0, 138.56128016, 250.76166089, 0.25); display: inline;' title='{{page.title}}'>Fish oil - Mayo Clinic</span>\n",
       "<span style='background-color: rgba(0, 138.56128016, 250.76166089, 0.25); display: inline;' title='{{page.text}}'>Overview\n",
       "Fish oil is a dietary source of omega-3 fatty acids. Your body needs omega-3 fatty acids for many functions, from muscle activity to cell growth.\n",
       "\n",
       "Omega-3 fatty acids are derived from food. They can&#x27;t be manufactured in the body. Fish oil contains two omega-3s called docosahexaenoic acid (DHA) and eicosapentaenoic acid (EPA). Dietary sources of DHA and EPA are fatty fish, such as salmon, mackerel and trout, and shellfish, such as mussels, oysters and crabs. Some nuts, seeds and vegetable oils contain another omega-3 called alpha-linolenic acid (ALA).\n",
       "\n",
       "Fish oil supplements come in liquid, capsule and pill form.\n",
       "\n",
       "People take fish oil for its anti-inflammatory effects.\n",
       "\n",
       "Evidence\n",
       "Research on the use of fish oil for specific conditions shows:\n",
       "\n",
       "- Heart disease. While research shows that people who eat dietary sources of fish oil at least twice a week have a lower risk of dying of heart disease, taking fish oil supplements seems to have little to no benefits to heart health.\n",
       "- High blood pressure. Multiple studies report modest reductions in blood pressure in people who take fish oil supplements. There&#x27;s some evidence that the beneficial effects of fish oil might be greater for people with moderate to severe high blood pressure than for those with mild blood pressure elevation.\n",
       "- High triglycerides and cholesterol. There&#x27;s strong evidence that omega-3 fatty acids can significantly reduce blood triglyceride levels. There also appears to be a slight improvement in high-density lipoprotein (HDL, or &quot;good&quot;) cholesterol, although an increase in levels of low-density lipoprotein (LDL, or &quot;bad&quot;) cholesterol also was observed.\n",
       "- Rheumatoid arthritis. Studies suggest fish oil supplements might help reduce pain, improve morning stiffness and relieve joint tenderness in people with rheumatoid arthritis. While relief is often modest, it might be enough to reduce the need for anti-inflammatory medications.\n",
       "\n",
       "Our take\n",
       "Green light: Generally safe\n",
       "Generally safe\n",
       "Omega-3 fatty acids are essential for good health. Try to get them from your diet by eating fish — broiled or baked, not fried. Fish oil supplements might be helpful if you have high triglycerides or rheumatoid arthritis.\n",
       "\n",
       "Fish oil appears to contain almost no mercury, which can be a cause for concern in certain types of fish. While generally safe, getting too much fish oil can increase your risk of bleeding and might affect your immune response. It&#x27;s not clear whether fish oil is safe for people who are allergic to seafood. Take fish oil supplements under a doctor&#x27;s supervision.\n",
       "\n",
       "Safety and side effects\n",
       "When taken as recommended, fish oil supplements are generally considered safe.\n",
       "\n",
       "However, fish oil supplements can cause mild side effects, including:\n",
       "- A fishy aftertaste\n",
       "- Bad breath\n",
       "- Heartburn, nausea or diarrhea\n",
       "- Rash\n",
       "Taking high doses of fish oil supplements might increase the risk of bleeding and possibly increase the risk of stroke.\n",
       "</span>\n",
       "----\n",
       "WEBPAGE 2\n",
       "<span style='background-color: rgba(0, 138.56128016, 250.76166089, 0.25); display: inline;' title='{{page2.title}}'>Should I take Fish oil? - The New York Times</span>\n",
       "<span style='background-color: rgba(0, 138.56128016, 250.76166089, 0.25); display: inline;' title='{{page2.text}}'>Should I Take Fish Oil?\n",
       "Omega-3 in fish oil is said to improve arthritis and reduce the likelihood of heart attacks. But the science suggests: Maybe just eat a fish once in a while.\n",
       "\n",
       "In 1971, a team of Danish researchers found that an Inuit population in Greenland had lower cholesterol levels and incidence of heart disease than Danes and Inuits who lived in Denmark. A theory arose: The indigenous people’s high marine-fat diet gave them heart protections.\n",
       "\n",
       "Since then, fish oil and omega-3 fatty acids — the health-boosting star component of fish oil — have been the subject of tens of thousands of papers exploring their health benefits.\n",
       "\n",
       "Today, the “Eskimo theory” has been largely discredited. “We really don’t know if the Eskimos got heart disease or not,” said Malden C. Nesheim, an emeritus professor of nutrition at Cornell University, who chaired an Institute of Medicine committee assessing the risks and benefits of seafood in the early 2000s, in a 2018 interview with The New York Times. “I’ve been an omega-3 skeptic since doing this study.”\n",
       "\n",
       "What do proponents of fish oil say it will do for you?\n",
       "Fish oil is said to: improve arthritis; reduce ADHD; reduce the likelihood of heart attack and cancer; improve high-density lipoprotein (HDL, the so-called good) cholesterol.\n",
       "\n",
       "Should I try fish oil supplements?\n",
       "For healthy individuals, fish oil supplements are unnecessary. It’s better to eat a few servings of fish a week, instead.\n",
       "\n",
       "The largest study — called the Vital study — done by Brigham and Women’s Hospital, an affiliate of Harvard Medical School, followed more than 25,000 people since 2010 and focused on whether taking daily dietary supplements of vitamin D or omega-3 fatty acids reduced the risk of cardiac events or cancer in otherwise healthy individuals.\n",
       "\n",
       "It found that omega-3 supplements didn’t reduce the risk of major cardiac events in a usual-risk population, but did reduce the risk in a subset of people with low fish intake by 19 percent. The study is considered the medical gold standard.\n",
       "\n",
       "African-Americans benefited regardless of fish intake, showing a 77 percent lower risk of heart attack. “This could be a chance finding,” said Dr. JoAnn Manson, a director of the study and the chief of the Division of Preventive Medicine at Brigham and Women’s Hospital. “We do plan to pursue it in greater detail and try to replicate it in a separate trial because if this can be reproduced, that would be a very dramatic benefit to African-Americans.”\n",
       "\n",
       "Because there is still more research to be done, experts don’t necessarily recommended that African-Americans take omega-3.\n",
       "\n",
       "If you have some history of heart disease or high triglycerides (an estimated 25 percent of adults in the United States do, according to data from the National Health and Nutrition Examination Survey in 2015), it may be a good idea to take omega-3.\n",
       "\n",
       "The potential downside, because supplements are not regulated, is that production isn’t standardized so we don’t know what’s in them, according to Dr. Pieter Cohen, of Cambridge Health Alliance, who is an associate professor of medicine at Harvard Medical School.\n",
       "\n",
       "He said that supplements are expensive and that money could alternatively be spent on a healthier diet. As an internist, Dr. Cohen has seen negative behavioral effects in some of his patients who take supplements.\n",
       "\n",
       "“I have many patients who are like, ‘I’ll take my supplement and then I won’t worry about eating healthfully during the day,’” Dr. Cohen said. “That’s really misguided. Because in this case we have absolutely no evidence that replacing a healthy meal of fish with an omega-3 supplement is better.”\n",
       "</span>\n",
       "----\n",
       "Based on the information above, please answer the following question:\n",
       "Question: <span style='background-color: rgba(0, 138.56128016, 250.76166089, 0.25); display: inline;' title='{{query}}'>Should I take fish oil?</span>\n",
       "Make sure to attribute any factual claims to the appropriate source. For example, if a factual claim is supported by webpage 1, add [1] after the factual claim.\n",
       "</div></div><div style='display: flex; border-bottom: 1px solid rgba(127, 127, 127, 0.2); align-items: center;'><div style='flex: 0 0 80px; opacity: 0.5;'>assistant</div><div style='flex-grow: 1; padding: 5px; padding-top: 10px; padding-bottom: 10px; margin-top: 0px; white-space: pre-wrap; margin-bottom: 0px;'><span style='background-color: rgba(0, 165, 0, 0.25); opacity: 1.0; display: inline;' title='{{gen &#x27;answer&#x27;}}'>According to the information provided, it is generally unnecessary for healthy individuals to take fish oil supplements. It is better to get omega-3 fatty acids from the diet by eating fish [2]. However, fish oil supplements might be helpful for people with high triglycerides or rheumatoid arthritis [1]. It is important to take fish oil supplements under a doctor&#x27;s supervision, as taking high doses might increase the risk of bleeding and possibly increase the risk of stroke [1].</span></div></div></pre></div>\n",
       "<script type=\"text/javascript\">(()=>{var t={296:(t,e,n)=>{var i=NaN,o=\"[object Symbol]\",r=/^\\s+|\\s+$/g,a=/^[-+]0x[0-9a-f]+$/i,s=/^0b[01]+$/i,c=/^0o[0-7]+$/i,d=parseInt,u=\"object\"==typeof n.g&&n.g&&n.g.Object===Object&&n.g,l=\"object\"==typeof self&&self&&self.Object===Object&&self,f=u||l||Function(\"return this\")(),h=Object.prototype.toString,p=Math.max,m=Math.min,g=function(){return f.Date.now()};function b(t){var e=typeof t;return!!t&&(\"object\"==e||\"function\"==e)}function y(t){if(\"number\"==typeof t)return t;if(function(t){return\"symbol\"==typeof t||function(t){return!!t&&\"object\"==typeof t}(t)&&h.call(t)==o}(t))return i;if(b(t)){var e=\"function\"==typeof t.valueOf?t.valueOf():t;t=b(e)?e+\"\":e}if(\"string\"!=typeof t)return 0===t?t:+t;t=t.replace(r,\"\");var n=s.test(t);return n||c.test(t)?d(t.slice(2),n?2:8):a.test(t)?i:+t}t.exports=function(t,e,n){var i,o,r,a,s,c,d=0,u=!1,l=!1,f=!0;if(\"function\"!=typeof t)throw new TypeError(\"Expected a function\");function h(e){var n=i,r=o;return i=o=void 0,d=e,a=t.apply(r,n)}function v(t){var n=t-c;return void 0===c||n>=e||n<0||l&&t-d>=r}function _(){var t=g();if(v(t))return w(t);s=setTimeout(_,function(t){var n=e-(t-c);return l?m(n,r-(t-d)):n}(t))}function w(t){return s=void 0,f&&i?h(t):(i=o=void 0,a)}function j(){var t=g(),n=v(t);if(i=arguments,o=this,c=t,n){if(void 0===s)return function(t){return d=t,s=setTimeout(_,e),u?h(t):a}(c);if(l)return s=setTimeout(_,e),h(c)}return void 0===s&&(s=setTimeout(_,e)),a}return e=y(e)||0,b(n)&&(u=!!n.leading,r=(l=\"maxWait\"in n)?p(y(n.maxWait)||0,e):r,f=\"trailing\"in n?!!n.trailing:f),j.cancel=function(){void 0!==s&&clearTimeout(s),d=0,i=c=o=s=void 0},j.flush=function(){return void 0===s?a:w(g())},j}},777:t=>{var e,n,i=Math.max,o=(e=function(t,e){return function(t,e,n){if(\"function\"!=typeof t)throw new TypeError(\"Expected a function\");return setTimeout((function(){t.apply(void 0,n)}),1)}(t,0,e)},n=i(void 0===n?e.length-1:n,0),function(){for(var t=arguments,o=-1,r=i(t.length-n,0),a=Array(r);++o<r;)a[o]=t[n+o];o=-1;for(var s=Array(n+1);++o<n;)s[o]=t[o];return s[n]=a,function(t,e,n){switch(n.length){case 0:return t.call(e);case 1:return t.call(e,n[0]);case 2:return t.call(e,n[0],n[1]);case 3:return t.call(e,n[0],n[1],n[2])}return t.apply(e,n)}(e,this,s)});t.exports=o}},e={};function n(i){var o=e[i];if(void 0!==o)return o.exports;var r=e[i]={exports:{}};return t[i](r,r.exports,n),r.exports}n.n=t=>{var e=t&&t.__esModule?()=>t.default:()=>t;return n.d(e,{a:e}),e},n.d=(t,e)=>{for(var i in e)n.o(e,i)&&!n.o(t,i)&&Object.defineProperty(t,i,{enumerable:!0,get:e[i]})},n.g=function(){if(\"object\"==typeof globalThis)return globalThis;try{return this||new Function(\"return this\")()}catch(t){if(\"object\"==typeof window)return window}}(),n.o=(t,e)=>Object.prototype.hasOwnProperty.call(t,e),(()=>{\"use strict\";const t=t=>{const e=new Set;do{for(const n of Reflect.ownKeys(t))e.add([t,n])}while((t=Reflect.getPrototypeOf(t))&&t!==Object.prototype);return e};function e(e,{include:n,exclude:i}={}){const o=t=>{const e=e=>\"string\"==typeof e?t===e:e.test(t);return n?n.some(e):!i||!i.some(e)};for(const[n,i]of t(e.constructor.prototype)){if(\"constructor\"===i||!o(i))continue;const t=Reflect.getOwnPropertyDescriptor(n,i);t&&\"function\"==typeof t.value&&(e[i]=e[i].bind(e))}return e}var i=n(777),o=n.n(i),r=n(296),a=n.n(r);class s{constructor(t,n){e(this),this.interfaceId=t,this.callbackMap={},this.data={},this.pendingData={},this.jcomm=new c(\"guidance_interface_target_\"+this.interfaceId,this.updateData,\"open\"),this.debouncedSendPendingData500=a()(this.sendPendingData,500),this.debouncedSendPendingData1000=a()(this.sendPendingData,1e3),n&&o()(n)}send(t,e){this.addPendingData(t,e),this.sendPendingData()}sendEvent(t){for(const e of Object.keys(t))this.addPendingData(e,t[e]);this.sendPendingData()}debouncedSendEvent500(t){for(const e of Object.keys(t))this.addPendingData(e,t[e]);this.debouncedSendPendingData500()}debouncedSend500(t,e){this.addPendingData(t,e),this.debouncedSendPendingData500()}debouncedSend1000(t,e){this.addPendingData(t,e),this.debouncedSendPendingData1000()}addPendingData(t,e){Array.isArray(t)||(t=[t]);for(const n in t)this.pendingData[t[n]]=e}updateData(t){t=JSON.parse(t.data);for(const e in t)this.data[e]=t[e];for(const e in t)e in this.callbackMap&&this.callbackMap[e](this.data[e])}subscribe(t,e){this.callbackMap[t]=e,o()((e=>this.callbackMap[t](this.data[t])))}sendPendingData(){this.jcomm.send_data(this.pendingData),this.pendingData={}}}class c{constructor(t,e,n=\"open\"){this._fire_callback=this._fire_callback.bind(this),this._register=this._register.bind(this),this.jcomm=void 0,this.callback=e,void 0!==window.Jupyter?\"register\"===n?Jupyter.notebook.kernel.comm_manager.register_target(t,this._register):(this.jcomm=Jupyter.notebook.kernel.comm_manager.new_comm(t),this.jcomm.on_msg(this._fire_callback)):void 0!==window._mgr&&(\"register\"===n?window._mgr.widgetManager.proxyKernel.registerCommTarget(t,this._register):(this.jcomm=window._mgr.widgetManager.proxyKernel.createComm(t),this.jcomm.open({},\"\"),this.jcomm.onMsg=this._fire_callback))}send_data(t){void 0!==this.jcomm?this.jcomm.send(t):console.error(\"Jupyter comm module not yet loaded! So we can't send the message.\")}_register(t,e){this.jcomm=t,this.jcomm.on_msg(this._fire_callback)}_fire_callback(t){this.callback(t.content.data)}}class d{constructor(t,n){e(this),this.id=t,this.comm=new s(t),this.comm.subscribe(\"append\",this.appendData),this.comm.subscribe(\"replace\",this.replaceData),this.comm.subscribe(\"event\",this.eventOccurred),this.element=document.getElementById(\"guidance-content-\"+t),this.stop_button=document.getElementById(\"guidance-stop-button-\"+t),this.stop_button.onclick=()=>this.comm.send(\"event\",\"stop\")}appendData(t){t&&(this.stop_button.style.display=\"inline-block\",this.element.innerHTML+=t)}replaceData(t){t&&(this.stop_button.style.display=\"inline-block\",this.element.innerHTML=t)}eventOccurred(t){\"complete\"===t&&(this.stop_button.style.display=\"none\")}}window._guidanceDisplay=function(t,e){return new d(t,e)}})()})();; window._guidanceDisplay(\"2cdb3ed0-7cfc-45cf-9181-4cdd12593be1\");</script>"
      ]
     },
     "metadata": {},
     "output_type": "display_data"
    }
   ],
   "source": [
    "chatgpt_answer = guidance('''{{#system~}}\n",
    "{{system_prompt}}\n",
    "{{~/system}}\n",
    "{{#user~}}\n",
    "Here are a few webpages from a websearch:\n",
    "----\n",
    "WEBPAGE 1\n",
    "{{page.title}}\n",
    "{{page.text}}\n",
    "----\n",
    "WEBPAGE 2\n",
    "{{page2.title}}\n",
    "{{page2.text}}\n",
    "----\n",
    "Based on the information above, please answer the following question:\n",
    "Question: {{query}}\n",
    "Make sure to attribute any factual claims to the appropriate source. For example, if a factual claim is supported by webpage 1, add [1] after the factual claim.\n",
    "{{/user}}\n",
    "{{#assistant~}}\n",
    "{{gen 'answer'}}\n",
    "{{~/assistant~}}''', llm=chatgpt, system_prompt=chatgpt_system)\n",
    "p = chatgpt_answer(page=pages[0], page2=pages[1], query=query, silent=False)\n"
   ]
  }
 ],
 "metadata": {
  "kernelspec": {
   "display_name": "guidance",
   "language": "python",
   "name": "python3"
  },
  "language_info": {
   "codemirror_mode": {
    "name": "ipython",
    "version": 3
   },
   "file_extension": ".py",
   "mimetype": "text/x-python",
   "name": "python",
   "nbconvert_exporter": "python",
   "pygments_lexer": "ipython3",
   "version": "3.9.16"
  },
  "orig_nbformat": 4
 },
 "nbformat": 4,
 "nbformat_minor": 2
}
