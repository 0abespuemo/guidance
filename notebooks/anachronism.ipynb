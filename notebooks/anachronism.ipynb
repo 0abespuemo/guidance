{
 "cells": [
  {
   "cell_type": "code",
   "execution_count": 1,
   "metadata": {},
   "outputs": [
    {
     "name": "stderr",
     "output_type": "stream",
     "text": [
      "/home/marcotcr/.virtualenvs/guidance/lib/python3.9/site-packages/tqdm/auto.py:21: TqdmWarning: IProgress not found. Please update jupyter and ipywidgets. See https://ipywidgets.readthedocs.io/en/stable/user_install.html\n",
      "  from .autonotebook import tqdm as notebook_tqdm\n"
     ]
    }
   ],
   "source": [
    "import guidance\n",
    "import datasets"
   ]
  },
  {
   "cell_type": "code",
   "execution_count": 2,
   "metadata": {},
   "outputs": [
    {
     "name": "stderr",
     "output_type": "stream",
     "text": [
      "2023-03-13 13:43:36.127627: I tensorflow/core/platform/cpu_feature_guard.cc:193] This TensorFlow binary is optimized with oneAPI Deep Neural Network Library (oneDNN) to use the following CPU instructions in performance-critical operations:  AVX2 AVX512F FMA\n",
      "To enable them in other operations, rebuild TensorFlow with the appropriate compiler flags.\n",
      "2023-03-13 13:43:36.229442: W tensorflow/compiler/xla/stream_executor/platform/default/dso_loader.cc:64] Could not load dynamic library 'libcudart.so.11.0'; dlerror: libcudart.so.11.0: cannot open shared object file: No such file or directory; LD_LIBRARY_PATH: /usr/local/lib:/usr/local/opencv-3.1.0/lib:/usr/local/cuda-10.0/lib64:/usr/lib/x86_64-linux-gnu/openmpi/lib/\n",
      "2023-03-13 13:43:36.229459: I tensorflow/compiler/xla/stream_executor/cuda/cudart_stub.cc:29] Ignore above cudart dlerror if you do not have a GPU set up on your machine.\n",
      "2023-03-13 13:43:36.697345: W tensorflow/compiler/xla/stream_executor/platform/default/dso_loader.cc:64] Could not load dynamic library 'libnvinfer.so.7'; dlerror: libnvinfer.so.7: cannot open shared object file: No such file or directory; LD_LIBRARY_PATH: /usr/local/lib:/usr/local/opencv-3.1.0/lib:/usr/local/cuda-10.0/lib64:/usr/lib/x86_64-linux-gnu/openmpi/lib/\n",
      "2023-03-13 13:43:36.697405: W tensorflow/compiler/xla/stream_executor/platform/default/dso_loader.cc:64] Could not load dynamic library 'libnvinfer_plugin.so.7'; dlerror: libnvinfer_plugin.so.7: cannot open shared object file: No such file or directory; LD_LIBRARY_PATH: /usr/local/lib:/usr/local/opencv-3.1.0/lib:/usr/local/cuda-10.0/lib64:/usr/lib/x86_64-linux-gnu/openmpi/lib/\n",
      "2023-03-13 13:43:36.697411: W tensorflow/compiler/tf2tensorrt/utils/py_utils.cc:38] TF-TRT Warning: Cannot dlopen some TensorRT libraries. If you would like to use Nvidia GPU with TensorRT, please make sure the missing libraries mentioned above are installed properly.\n",
      "/home/marcotcr/.virtualenvs/guidance/lib/python3.9/site-packages/flax/core/frozen_dict.py:169: FutureWarning: jax.tree_util.register_keypaths is deprecated, and will be removed in a future release. Please use `register_pytree_with_keys()` instead.\n",
      "  jax.tree_util.register_keypaths(\n",
      "Found cached dataset bigbench (/home/marcotcr/.cache/huggingface/datasets/bigbench/anachronisms/1.0.0/d2757373c3fb6b35a846ee951265c3f8fbf0124fb650b12cef5678cf902914d2)\n",
      "100%|██████████| 3/3 [00:00<00:00, 917.86it/s]\n"
     ]
    }
   ],
   "source": [
    "d = datasets.load_dataset('bigbench', 'anachronisms')"
   ]
  },
  {
   "cell_type": "code",
   "execution_count": 3,
   "metadata": {},
   "outputs": [],
   "source": [
    "inputs = [x.split('\\n')[0] for x in d['validation']['inputs']]\n",
    "labels = [x[0] for x in d['validation']['targets']]"
   ]
  },
  {
   "cell_type": "code",
   "execution_count": 4,
   "metadata": {},
   "outputs": [],
   "source": [
    "llm = guidance.llms.OpenAI(\"text-davinci-003\") # could also specify default temperature here"
   ]
  },
  {
   "cell_type": "code",
   "execution_count": 5,
   "metadata": {},
   "outputs": [],
   "source": [
    "instruction = 'Given a sentence tell me whether it contains an anachronism (i.e. whether it could have happened or not based on the time periods associated with the entities).'\n",
    "examples = [\n",
    "    {'input': 'I wrote about shakespeare',\n",
    "    'entities': [{'entity': 'I', 'time': 'present'}, {'entity': 'Shakespeare', 'time': '16th century'}],\n",
    "    'reasoning': 'I can write about Shakespeare because he lived in the past with respect to me.',\n",
    "    'answer': 'No'},\n",
    "    {'input': 'Shakespeare wrote about me',\n",
    "    'entities': [{'entity': 'Shakespeare', 'time': '16th century'}, {'entity': 'I', 'time': 'present'}],\n",
    "    'reasoning': 'Shakespeare cannot have written about me, because he died before I was born',\n",
    "    'answer': 'Yes'}\n",
    "    ]"
   ]
  },
  {
   "cell_type": "code",
   "execution_count": 6,
   "metadata": {},
   "outputs": [
    {
     "data": {
      "text/html": [
       "<style type='text/css'>\n",
       ":root {\n",
       "  --txt: #000;\n",
       "  --inserted: rgba(0, 138.56128016, 250.76166089, 0.25);\n",
       "  --generated: rgba(0, 165, 0, 0.25);\n",
       "}\n",
       "@media screen and (prefers-color-scheme: dark) {\n",
       "  :root {\n",
       "    --txt: #fff;\n",
       "  }\n",
       "}\n",
       "</style><pre style='margin: 0px; padding: 0px; padding-left: 8px; margin-left: -8px; border-radius: 0px; border-left: 1px solid rgba(127, 127, 127, 0.2); white-space: pre-wrap; font-family: ColfaxAI, Arial; font-size: 15px; line-height: 23px;'><span style='background-color: var(--inserted); display: inline;' title='{{instruction}}'>Given a sentence tell me whether it contains an anachronism (i.e. whether it could have happened or not based on the time periods associated with the entities).</span>\n",
       "---<span style='opacity: 1.0; display: inline; background-color: var(--inserted);' title='{{#each examples}}\n",
       "Sentence: {{this.input}}\n",
       "Anachronism: {{this.answer}}\n",
       "{{/each}}'><div style='border-left: 1px dashed rgb(0, 0, 0, .2); border-top: 0px solid rgb(0, 0, 0, .2); margin-right: -4px; display: inline; width: 4px; height: 24px;'></div>\n",
       "Sentence: <span style='background-color: var(--inserted); display: inline;' title='{{this.input}}'>I wrote about shakespeare</span>\n",
       "Anachronism: <span style='background-color: var(--inserted); display: inline;' title='{{this.answer}}'>No</span>\n",
       "<div style='border-left: 1px dashed rgb(0, 0, 0, .2); border-top: 0px solid rgb(0, 0, 0, .2); margin-right: -4px; display: inline; width: 4px; height: 24px;'></div>\n",
       "Sentence: <span style='background-color: var(--inserted); display: inline;' title='{{this.input}}'>Shakespeare wrote about me</span>\n",
       "Anachronism: <span style='background-color: var(--inserted); display: inline;' title='{{this.answer}}'>Yes</span>\n",
       "<div style='border-left: 1px dashed rgb(0, 0, 0, .2); border-top: 0px solid rgb(0, 0, 0, .2); margin-right: -4px; display: inline; width: 4px; height: 24px;'></div></span>\n",
       "Sentence: <span style='background-color: var(--inserted); display: inline;' title='{{input}}'>I am a man</span>\n",
       "Anachronism:<span style='background-color: rgba(0, 165, 0, 0.25); opacity: 1.0; display: inline;' title='{{#select &quot;answer&quot;}} Yes{{or}} No{{/select}}'> No</span></pre>"
      ],
      "text/plain": [
       "Given a sentence tell me whether it contains an anachronism (i.e. whether it could have happened or not based on the time periods associated with the entities).\n",
       "---\n",
       "Sentence: I wrote about shakespeare\n",
       "Anachronism: No\n",
       "\n",
       "Sentence: Shakespeare wrote about me\n",
       "Anachronism: Yes\n",
       "\n",
       "Sentence: I am a man\n",
       "Anachronism: No"
      ]
     },
     "execution_count": 6,
     "metadata": {},
     "output_type": "execute_result"
    }
   ],
   "source": [
    "fewshot_prompt = guidance(\"\"\"{{instruction}}\n",
    "---{{#each examples}}\n",
    "Sentence: {{this.input}}\n",
    "Anachronism: {{this.answer}}\n",
    "{{/each}}\n",
    "Sentence: {{input}}\n",
    "Anachronism:{{#select \"answer\"}} Yes{{or}} No{{/select}}\"\"\", llm=llm)\n",
    "fewshot_prompt(examples=examples, instruction=instruction, input='I am a man')"
   ]
  },
  {
   "cell_type": "code",
   "execution_count": 8,
   "metadata": {},
   "outputs": [
    {
     "data": {
      "text/html": [
       "<style type='text/css'>\n",
       ":root {\n",
       "  --txt: #000;\n",
       "  --inserted: rgba(0, 138.56128016, 250.76166089, 0.25);\n",
       "  --generated: rgba(0, 165, 0, 0.25);\n",
       "}\n",
       "@media screen and (prefers-color-scheme: dark) {\n",
       "  :root {\n",
       "    --txt: #fff;\n",
       "  }\n",
       "}\n",
       "</style><pre style='margin: 0px; padding: 0px; padding-left: 8px; margin-left: -8px; border-radius: 0px; border-left: 1px solid rgba(127, 127, 127, 0.2); white-space: pre-wrap; font-family: ColfaxAI, Arial; font-size: 15px; line-height: 23px;'><span style='background-color: var(--inserted); display: inline;' title='{{instruction}}'>Given a sentence tell me whether it contains an anachronism (i.e. whether it could have happened or not based on the time periods associated with the entities).</span>\n",
       "----<span style='opacity: 1.0; display: inline; background-color: var(--inserted);' title='{{#each examples}}\n",
       "Sentence: {{this.input}}\n",
       "Entities and dates:{{#each this.entities}}\n",
       "{{this.entity}}: {{this.time}}{{/each}}\n",
       "Reasoning: {{this.reasoning}}\n",
       "Anachronism: {{this.answer}}\n",
       "{{/each}}'><div style='border-left: 1px dashed rgb(0, 0, 0, .2); border-top: 0px solid rgb(0, 0, 0, .2); margin-right: -4px; display: inline; width: 4px; height: 24px;'></div>\n",
       "Sentence: <span style='background-color: var(--inserted); display: inline;' title='{{this.input}}'>I wrote about shakespeare</span>\n",
       "Entities and dates:<span style='opacity: 1.0; display: inline; background-color: var(--inserted);' title='{{#each this.entities}}\n",
       "{{this.entity}}: {{this.time}}{{/each}}'><div style='border-left: 1px dashed rgb(0, 0, 0, .2); border-top: 0px solid rgb(0, 0, 0, .2); margin-right: -4px; display: inline; width: 4px; height: 24px;'></div>\n",
       "<span style='background-color: var(--inserted); display: inline;' title='{{this.entity}}'>I</span>: <span style='background-color: var(--inserted); display: inline;' title='{{this.time}}'>present</span><div style='border-left: 1px dashed rgb(0, 0, 0, .2); border-top: 0px solid rgb(0, 0, 0, .2); margin-right: -4px; display: inline; width: 4px; height: 24px;'></div>\n",
       "<span style='background-color: var(--inserted); display: inline;' title='{{this.entity}}'>Shakespeare</span>: <span style='background-color: var(--inserted); display: inline;' title='{{this.time}}'>16th century</span><div style='border-left: 1px dashed rgb(0, 0, 0, .2); border-top: 0px solid rgb(0, 0, 0, .2); margin-right: -4px; display: inline; width: 4px; height: 24px;'></div></span>\n",
       "Reasoning: <span style='background-color: var(--inserted); display: inline;' title='{{this.reasoning}}'>I can write about Shakespeare because he lived in the past with respect to me.</span>\n",
       "Anachronism: <span style='background-color: var(--inserted); display: inline;' title='{{this.answer}}'>No</span>\n",
       "<div style='border-left: 1px dashed rgb(0, 0, 0, .2); border-top: 0px solid rgb(0, 0, 0, .2); margin-right: -4px; display: inline; width: 4px; height: 24px;'></div>\n",
       "Sentence: <span style='background-color: var(--inserted); display: inline;' title='{{this.input}}'>Shakespeare wrote about me</span>\n",
       "Entities and dates:<span style='opacity: 1.0; display: inline; background-color: var(--inserted);' title='{{#each this.entities}}\n",
       "{{this.entity}}: {{this.time}}{{/each}}'><div style='border-left: 1px dashed rgb(0, 0, 0, .2); border-top: 0px solid rgb(0, 0, 0, .2); margin-right: -4px; display: inline; width: 4px; height: 24px;'></div>\n",
       "<span style='background-color: var(--inserted); display: inline;' title='{{this.entity}}'>Shakespeare</span>: <span style='background-color: var(--inserted); display: inline;' title='{{this.time}}'>16th century</span><div style='border-left: 1px dashed rgb(0, 0, 0, .2); border-top: 0px solid rgb(0, 0, 0, .2); margin-right: -4px; display: inline; width: 4px; height: 24px;'></div>\n",
       "<span style='background-color: var(--inserted); display: inline;' title='{{this.entity}}'>I</span>: <span style='background-color: var(--inserted); display: inline;' title='{{this.time}}'>present</span><div style='border-left: 1px dashed rgb(0, 0, 0, .2); border-top: 0px solid rgb(0, 0, 0, .2); margin-right: -4px; display: inline; width: 4px; height: 24px;'></div></span>\n",
       "Reasoning: <span style='background-color: var(--inserted); display: inline;' title='{{this.reasoning}}'>Shakespeare cannot have written about me, because he died before I was born</span>\n",
       "Anachronism: <span style='background-color: var(--inserted); display: inline;' title='{{this.answer}}'>Yes</span>\n",
       "<div style='border-left: 1px dashed rgb(0, 0, 0, .2); border-top: 0px solid rgb(0, 0, 0, .2); margin-right: -4px; display: inline; width: 4px; height: 24px;'></div></span>---\n",
       "Sentence: <span style='background-color: var(--inserted); display: inline;' title='{{input}}'>The T-rex bit my dog</span>\n",
       "Entities and dates:\n",
       "<span style='background-color: rgba(0, 165, 0, 0.25); opacity: 1.0; display: inline;' title='{{generate &quot;entities&quot;}}'>T-rex: 65 million years ago\n",
       "My dog: present</span>\n",
       "Reasoning:<span style='background-color: rgba(0, 165, 0, 0.25); opacity: 1.0; display: inline;' title='{{generate &quot;reasoning&quot;}}'> The T-rex lived millions of years before my dog, so it cannot have bitten my dog.</span>\n",
       "Anachronism:<span style='background-color: rgba(0, 165, 0, 0.25); opacity: 1.0; display: inline;' title='{{#select &quot;answer&quot;}} Yes{{or}} No{{/select}}'> Yes</span></pre>"
      ],
      "text/plain": [
       "Given a sentence tell me whether it contains an anachronism (i.e. whether it could have happened or not based on the time periods associated with the entities).\n",
       "----\n",
       "Sentence: I wrote about shakespeare\n",
       "Entities and dates:\n",
       "I: present\n",
       "Shakespeare: 16th century\n",
       "Reasoning: I can write about Shakespeare because he lived in the past with respect to me.\n",
       "Anachronism: No\n",
       "\n",
       "Sentence: Shakespeare wrote about me\n",
       "Entities and dates:\n",
       "Shakespeare: 16th century\n",
       "I: present\n",
       "Reasoning: Shakespeare cannot have written about me, because he died before I was born\n",
       "Anachronism: Yes\n",
       "---\n",
       "Sentence: The T-rex bit my dog\n",
       "Entities and dates:\n",
       "T-rex: 65 million years ago\n",
       "My dog: present\n",
       "Reasoning: The T-rex lived millions of years before my dog, so it cannot have bitten my dog.\n",
       "Anachronism: Yes"
      ]
     },
     "execution_count": 8,
     "metadata": {},
     "output_type": "execute_result"
    }
   ],
   "source": [
    "structure_prompt = guidance('''{{instruction}}\n",
    "----{{#each examples}}\n",
    "Sentence: {{this.input}}\n",
    "Entities and dates:{{#each this.entities}}\n",
    "{{this.entity}}: {{this.time}}{{/each}}\n",
    "Reasoning: {{this.reasoning}}\n",
    "Anachronism: {{this.answer}}\n",
    "{{/each}}---\n",
    "Sentence: {{input}}\n",
    "Entities and dates:\n",
    "{{generate \"entities\"}}\n",
    "Reasoning:{{generate \"reasoning\"}}\n",
    "Anachronism:{{#select \"answer\"}} Yes{{or}} No{{/select}}''', llm=llm)\n",
    "structure_prompt(examples=examples, input='The T-rex bit my dog', instruction=instruction)"
   ]
  },
  {
   "cell_type": "code",
   "execution_count": 9,
   "metadata": {},
   "outputs": [],
   "source": [
    "import numpy as np\n",
    "input = inputs[0]\n",
    "label = labels[0]\n",
    "fews = []\n",
    "structs = []\n",
    "for input, label in zip(inputs, labels):\n",
    "    f = fewshot_prompt(examples=examples, instruction=instruction, input=input)\n",
    "    f = 'Yes' if 'Yes' in f['answer'] else 'No'\n",
    "    s = structure_prompt(examples=examples, input=input, instruction=instruction)\n",
    "    s = 'Yes' if 'Yes' in s['answer'] else 'No'\n",
    "    fews.append(f)\n",
    "    structs.append(s)\n",
    "fews = np.array(fews)\n",
    "structs = np.array(structs)"
   ]
  },
  {
   "cell_type": "code",
   "execution_count": 10,
   "metadata": {},
   "outputs": [
    {
     "name": "stdout",
     "output_type": "stream",
     "text": [
      "Few-shot 0.6304347826086957\n",
      "Structured output 0.7608695652173914\n"
     ]
    }
   ],
   "source": [
    "print('Few-shot', (np.array(labels) == fews).mean())\n",
    "print('Structured output', (np.array(labels) == structs).mean())"
   ]
  },
  {
   "cell_type": "code",
   "execution_count": null,
   "metadata": {},
   "outputs": [],
   "source": []
  }
 ],
 "metadata": {
  "kernelspec": {
   "display_name": "guidance",
   "language": "python",
   "name": "python3"
  },
  "language_info": {
   "codemirror_mode": {
    "name": "ipython",
    "version": 3
   },
   "file_extension": ".py",
   "mimetype": "text/x-python",
   "name": "python",
   "nbconvert_exporter": "python",
   "pygments_lexer": "ipython3",
   "version": "3.9.16"
  },
  "orig_nbformat": 4
 },
 "nbformat": 4,
 "nbformat_minor": 2
}
