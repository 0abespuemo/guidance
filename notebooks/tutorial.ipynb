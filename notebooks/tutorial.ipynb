{
 "cells": [
  {
   "cell_type": "code",
   "execution_count": 1,
   "metadata": {},
   "outputs": [],
   "source": [
    "import guidance"
   ]
  },
  {
   "cell_type": "code",
   "execution_count": 2,
   "metadata": {},
   "outputs": [],
   "source": [
    "guidance.llm = guidance.llms.OpenAI(\"text-davinci-003\")"
   ]
  },
  {
   "cell_type": "markdown",
   "metadata": {},
   "source": [
    "# Basic templating"
   ]
  },
  {
   "cell_type": "markdown",
   "metadata": {},
   "source": [
    "Single variable\n"
   ]
  },
  {
   "cell_type": "code",
   "execution_count": 3,
   "metadata": {},
   "outputs": [
    {
     "data": {
      "text/html": [
       "<script type='text/javascript'>console.log('asdf'); debugger;</script><pre style='margin: 0px; padding: 0px; padding-left: 8px; margin-left: -8px; border-radius: 0px; border-left: 1px solid rgba(127, 127, 127, 0.2); white-space: pre-wrap; font-family: ColfaxAI, Arial; font-size: 15px; line-height: 23px;'>What is <span style='background-color: rgba(0, 138.56128016, 250.76166089, 0.25);'>{{example}}</span>?</pre>"
      ],
      "text/plain": [
       "What is {{example}}?"
      ]
     },
     "execution_count": 3,
     "metadata": {},
     "output_type": "execute_result"
    }
   ],
   "source": [
    "prompt = guidance('''What is {{example}}?''')\n",
    "prompt"
   ]
  },
  {
   "cell_type": "code",
   "execution_count": 4,
   "metadata": {},
   "outputs": [
    {
     "data": {
      "text/html": [
       "<script type='text/javascript'>console.log('asdf'); debugger;</script><pre style='margin: 0px; padding: 0px; padding-left: 8px; margin-left: -8px; border-radius: 0px; border-left: 1px solid rgba(127, 127, 127, 0.2); white-space: pre-wrap; font-family: ColfaxAI, Arial; font-size: 15px; line-height: 23px;'>What is <span style='background-color: rgba(0, 138.56128016, 250.76166089, 0.25); display: inline;' title='&amp;#123;&amp;#123;example&amp;#125;&amp;#125;'>truth</span>?</pre>"
      ],
      "text/plain": [
       "What is truth?"
      ]
     },
     "execution_count": 4,
     "metadata": {},
     "output_type": "execute_result"
    }
   ],
   "source": [
    "prompt(example='truth')\n",
    "\n"
   ]
  },
  {
   "attachments": {},
   "cell_type": "markdown",
   "metadata": {},
   "source": [
    "Objects"
   ]
  },
  {
   "cell_type": "code",
   "execution_count": 5,
   "metadata": {},
   "outputs": [
    {
     "data": {
      "text/html": [
       "<script type='text/javascript'>console.log('asdf'); debugger;</script><pre style='margin: 0px; padding: 0px; padding-left: 8px; margin-left: -8px; border-radius: 0px; border-left: 1px solid rgba(127, 127, 127, 0.2); white-space: pre-wrap; font-family: ColfaxAI, Arial; font-size: 15px; line-height: 23px;'>List of people:\n",
       "<span style='opacity: 1.0; display: inline; background-color: rgba(0, 138.56128016, 250.76166089, 0.25);' title='&amp;#123;&amp;#123;#each people&amp;#125;&amp;#125;&amp;#123;&amp;#123;this&amp;#125;&amp;#125;\n",
       "&amp;#123;&amp;#123;/each&amp;#125;&amp;#125;'><span style='background-color: rgba(0, 138.56128016, 250.76166089, 0.25); display: inline;' title='&amp;#123;&amp;#123;this&amp;#125;&amp;#125;'>John</span>\n",
       "<span style='background-color: rgba(0, 138.56128016, 250.76166089, 0.25); display: inline;' title='&amp;#123;&amp;#123;this&amp;#125;&amp;#125;'>Mary</span>\n",
       "<span style='background-color: rgba(0, 138.56128016, 250.76166089, 0.25); display: inline;' title='&amp;#123;&amp;#123;this&amp;#125;&amp;#125;'>Bob</span>\n",
       "<span style='background-color: rgba(0, 138.56128016, 250.76166089, 0.25); display: inline;' title='&amp;#123;&amp;#123;this&amp;#125;&amp;#125;'>Alice</span>\n",
       "</span>.\n",
       "List of ideas:\n",
       "<span style='opacity: 1.0; display: inline; background-color: rgba(0, 138.56128016, 250.76166089, 0.25);' title='&amp;#123;&amp;#123;#each ideas&amp;#125;&amp;#125;&amp;#123;&amp;#123;this.name&amp;#125;&amp;#125;: &amp;#123;&amp;#123;this.description&amp;#125;&amp;#125;\n",
       "&amp;#123;&amp;#123;/each&amp;#125;&amp;#125;'><span style='background-color: rgba(0, 138.56128016, 250.76166089, 0.25); display: inline;' title='&amp;#123;&amp;#123;this.name&amp;#125;&amp;#125;'>truth</span>: <span style='background-color: rgba(0, 138.56128016, 250.76166089, 0.25); display: inline;' title='&amp;#123;&amp;#123;this.description&amp;#125;&amp;#125;'>the state of being the case</span>\n",
       "<span style='background-color: rgba(0, 138.56128016, 250.76166089, 0.25); display: inline;' title='&amp;#123;&amp;#123;this.name&amp;#125;&amp;#125;'>love</span>: <span style='background-color: rgba(0, 138.56128016, 250.76166089, 0.25); display: inline;' title='&amp;#123;&amp;#123;this.description&amp;#125;&amp;#125;'>a strong feeling of affection</span>\n",
       "</span></pre>"
      ],
      "text/plain": [
       "List of people:\n",
       "John\n",
       "Mary\n",
       "Bob\n",
       "Alice\n",
       ".\n",
       "List of ideas:\n",
       "truth: the state of being the case\n",
       "love: a strong feeling of affection"
      ]
     },
     "execution_count": 5,
     "metadata": {},
     "output_type": "execute_result"
    }
   ],
   "source": [
    "people = ['John', 'Mary', 'Bob', 'Alice']\n",
    "ideas = [{'name': 'truth', 'description': 'the state of being the case'},\n",
    "         {'name': 'love', 'description': 'a strong feeling of affection'},]\n",
    "prompt = guidance('''List of people:\n",
    "{{#each people}}{{this}}\n",
    "{{/each}}.\n",
    "List of ideas:\n",
    "{{#each ideas}}{{this.name}}: {{this.description}}\n",
    "{{/each}}''')\n",
    "prompt(people=people, ideas=ideas)"
   ]
  },
  {
   "cell_type": "markdown",
   "metadata": {},
   "source": [
    "Generating"
   ]
  },
  {
   "cell_type": "code",
   "execution_count": 6,
   "metadata": {},
   "outputs": [
    {
     "data": {
      "text/html": [
       "<script type='text/javascript'>console.log('asdf'); debugger;</script><pre style='margin: 0px; padding: 0px; padding-left: 8px; margin-left: -8px; border-radius: 0px; border-left: 1px solid rgba(127, 127, 127, 0.2); white-space: pre-wrap; font-family: ColfaxAI, Arial; font-size: 15px; line-height: 23px;'>The best thing about the beach is<span style='background-color: rgba(0, 165, 0, 0.25); opacity: 1.0; display: inline;' title='&amp;#123;&amp;#123;generate &#x27;best&#x27; temperature=0.7&amp;#125;&amp;#125;'> the fresh air and the sound of the waves. The ocean has a calming effect and the beautiful scenery is a perfect backdrop for relaxing and enjoying the day. The sun and sand provide a perfect place to soak up some Vitamin D and have fun. Additionally, the beach is a great spot for activities such as swimming, surfing, and beach volleyball.</span></pre>"
      ],
      "text/plain": [
       "The best thing about the beach is the fresh air and the sound of the waves. The ocean has a calming effect and the beautiful scenery is a perfect backdrop for relaxing and enjoying the day. The sun and sand provide a perfect place to soak up some Vitamin D and have fun. Additionally, the beach is a great spot for activities such as swimming, surfing, and beach volleyball."
      ]
     },
     "execution_count": 6,
     "metadata": {},
     "output_type": "execute_result"
    }
   ],
   "source": [
    "prompt = guidance('''The best thing about the beach is{{generate 'best' temperature=0.7}}''')\n",
    "a = prompt()\n",
    "a"
   ]
  },
  {
   "cell_type": "markdown",
   "metadata": {},
   "source": [
    "Generating with `n>1`"
   ]
  },
  {
   "cell_type": "code",
   "execution_count": 7,
   "metadata": {},
   "outputs": [
    {
     "name": "stdout",
     "output_type": "stream",
     "text": [
      "Error in prompt:  name 'echo' is not defined\n"
     ]
    },
    {
     "ename": "NameError",
     "evalue": "name 'echo' is not defined",
     "output_type": "error",
     "traceback": [
      "\u001b[0;31m---------------------------------------------------------------------------\u001b[0m",
      "\u001b[0;31mNameError\u001b[0m                                 Traceback (most recent call last)",
      "Cell \u001b[0;32mIn[7], line 2\u001b[0m\n\u001b[1;32m      1\u001b[0m prompt \u001b[39m=\u001b[39m guidance(\u001b[39m'''\u001b[39m\u001b[39mThe best thing about the beach is\u001b[39m\u001b[39m{{\u001b[39m\u001b[39mgenerate \u001b[39m\u001b[39m'\u001b[39m\u001b[39mbest\u001b[39m\u001b[39m'\u001b[39m\u001b[39m n=3 temperature=0.7}}\u001b[39m\u001b[39m'''\u001b[39m)\n\u001b[0;32m----> 2\u001b[0m a \u001b[39m=\u001b[39m prompt()\n\u001b[1;32m      3\u001b[0m a\n",
      "File \u001b[0;32m~/work/guidance/guidance/_prompt.py:286\u001b[0m, in \u001b[0;36mPrompt.__call__\u001b[0;34m(self, **kwargs)\u001b[0m\n\u001b[1;32m    284\u001b[0m \u001b[39melse\u001b[39;00m:\n\u001b[1;32m    285\u001b[0m     loop \u001b[39m=\u001b[39m asyncio\u001b[39m.\u001b[39mnew_event_loop()\n\u001b[0;32m--> 286\u001b[0m     loop\u001b[39m.\u001b[39;49mrun_until_complete(new_prompt\u001b[39m.\u001b[39;49mexecute())\n\u001b[1;32m    288\u001b[0m \u001b[39m# # otherwise we just block until the call is complete\u001b[39;00m\n\u001b[1;32m    289\u001b[0m \u001b[39m# else:\u001b[39;00m\n\u001b[1;32m    290\u001b[0m \u001b[39m#     self.event_loop.run_until_complete(new_prompt.execute())\u001b[39;00m\n\u001b[1;32m    292\u001b[0m \u001b[39mreturn\u001b[39;00m new_prompt\n",
      "File \u001b[0;32m~/.virtualenvs/guidance/lib/python3.9/site-packages/nest_asyncio.py:90\u001b[0m, in \u001b[0;36m_patch_loop.<locals>.run_until_complete\u001b[0;34m(self, future)\u001b[0m\n\u001b[1;32m     87\u001b[0m \u001b[39mif\u001b[39;00m \u001b[39mnot\u001b[39;00m f\u001b[39m.\u001b[39mdone():\n\u001b[1;32m     88\u001b[0m     \u001b[39mraise\u001b[39;00m \u001b[39mRuntimeError\u001b[39;00m(\n\u001b[1;32m     89\u001b[0m         \u001b[39m'\u001b[39m\u001b[39mEvent loop stopped before Future completed.\u001b[39m\u001b[39m'\u001b[39m)\n\u001b[0;32m---> 90\u001b[0m \u001b[39mreturn\u001b[39;00m f\u001b[39m.\u001b[39;49mresult()\n",
      "File \u001b[0;32m/usr/lib/python3.9/asyncio/futures.py:201\u001b[0m, in \u001b[0;36mFuture.result\u001b[0;34m(self)\u001b[0m\n\u001b[1;32m    199\u001b[0m \u001b[39mself\u001b[39m\u001b[39m.\u001b[39m__log_traceback \u001b[39m=\u001b[39m \u001b[39mFalse\u001b[39;00m\n\u001b[1;32m    200\u001b[0m \u001b[39mif\u001b[39;00m \u001b[39mself\u001b[39m\u001b[39m.\u001b[39m_exception \u001b[39mis\u001b[39;00m \u001b[39mnot\u001b[39;00m \u001b[39mNone\u001b[39;00m:\n\u001b[0;32m--> 201\u001b[0m     \u001b[39mraise\u001b[39;00m \u001b[39mself\u001b[39m\u001b[39m.\u001b[39m_exception\n\u001b[1;32m    202\u001b[0m \u001b[39mreturn\u001b[39;00m \u001b[39mself\u001b[39m\u001b[39m.\u001b[39m_result\n",
      "File \u001b[0;32m/usr/lib/python3.9/asyncio/tasks.py:256\u001b[0m, in \u001b[0;36mTask.__step\u001b[0;34m(***failed resolving arguments***)\u001b[0m\n\u001b[1;32m    252\u001b[0m \u001b[39mtry\u001b[39;00m:\n\u001b[1;32m    253\u001b[0m     \u001b[39mif\u001b[39;00m exc \u001b[39mis\u001b[39;00m \u001b[39mNone\u001b[39;00m:\n\u001b[1;32m    254\u001b[0m         \u001b[39m# We use the `send` method directly, because coroutines\u001b[39;00m\n\u001b[1;32m    255\u001b[0m         \u001b[39m# don't have `__iter__` and `__next__` methods.\u001b[39;00m\n\u001b[0;32m--> 256\u001b[0m         result \u001b[39m=\u001b[39m coro\u001b[39m.\u001b[39;49msend(\u001b[39mNone\u001b[39;49;00m)\n\u001b[1;32m    257\u001b[0m     \u001b[39melse\u001b[39;00m:\n\u001b[1;32m    258\u001b[0m         result \u001b[39m=\u001b[39m coro\u001b[39m.\u001b[39mthrow(exc)\n",
      "File \u001b[0;32m~/work/guidance/guidance/_prompt.py:352\u001b[0m, in \u001b[0;36mPrompt.execute\u001b[0;34m(self)\u001b[0m\n\u001b[1;32m    350\u001b[0m \u001b[39mself\u001b[39m\u001b[39m.\u001b[39mexecuting \u001b[39m=\u001b[39m \u001b[39mTrue\u001b[39;00m\n\u001b[1;32m    351\u001b[0m \u001b[39mself\u001b[39m\u001b[39m.\u001b[39m_executor \u001b[39m=\u001b[39m PromptExecutor(\u001b[39mself\u001b[39m)\n\u001b[0;32m--> 352\u001b[0m \u001b[39mawait\u001b[39;00m \u001b[39mself\u001b[39m\u001b[39m.\u001b[39m_executor\u001b[39m.\u001b[39mrun()\n\u001b[1;32m    353\u001b[0m \u001b[39mself\u001b[39m\u001b[39m.\u001b[39m_text \u001b[39m=\u001b[39m \u001b[39mself\u001b[39m\u001b[39m.\u001b[39m_executor\u001b[39m.\u001b[39mprefix\n\u001b[1;32m    354\u001b[0m \u001b[39mdel\u001b[39;00m \u001b[39mself\u001b[39m\u001b[39m.\u001b[39m_executor\n",
      "File \u001b[0;32m~/work/guidance/guidance/_prompt.py:624\u001b[0m, in \u001b[0;36mPromptExecutor.run\u001b[0;34m(self)\u001b[0m\n\u001b[1;32m    622\u001b[0m \u001b[39mexcept\u001b[39;00m \u001b[39mException\u001b[39;00m \u001b[39mas\u001b[39;00m e:\n\u001b[1;32m    623\u001b[0m     \u001b[39mprint\u001b[39m(\u001b[39m\"\u001b[39m\u001b[39mError in prompt: \u001b[39m\u001b[39m\"\u001b[39m, e)\n\u001b[0;32m--> 624\u001b[0m     \u001b[39mraise\u001b[39;00m e\n",
      "File \u001b[0;32m~/work/guidance/guidance/_prompt.py:621\u001b[0m, in \u001b[0;36mPromptExecutor.run\u001b[0;34m(self)\u001b[0m\n\u001b[1;32m    618\u001b[0m \u001b[39m\u001b[39m\u001b[39m\"\"\" Execute the prompt.\u001b[39;00m\n\u001b[1;32m    619\u001b[0m \u001b[39m\"\"\"\u001b[39;00m\n\u001b[1;32m    620\u001b[0m \u001b[39mtry\u001b[39;00m:\n\u001b[0;32m--> 621\u001b[0m     \u001b[39mawait\u001b[39;00m \u001b[39mself\u001b[39m\u001b[39m.\u001b[39mvisit(\u001b[39mself\u001b[39m\u001b[39m.\u001b[39mparse_tree)\n\u001b[1;32m    622\u001b[0m \u001b[39mexcept\u001b[39;00m \u001b[39mException\u001b[39;00m \u001b[39mas\u001b[39;00m e:\n\u001b[1;32m    623\u001b[0m     \u001b[39mprint\u001b[39m(\u001b[39m\"\u001b[39m\u001b[39mError in prompt: \u001b[39m\u001b[39m\"\u001b[39m, e)\n",
      "File \u001b[0;32m~/work/guidance/guidance/_prompt.py:912\u001b[0m, in \u001b[0;36mPromptExecutor.visit\u001b[0;34m(self, node, next_node, prev_node, parent_node, grandparent_node)\u001b[0m\n\u001b[1;32m    910\u001b[0m     \u001b[39melse\u001b[39;00m:\n\u001b[1;32m    911\u001b[0m         inner_prev_node \u001b[39m=\u001b[39m prev_node\n\u001b[0;32m--> 912\u001b[0m     visited_children\u001b[39m.\u001b[39mappend(\u001b[39mawait\u001b[39;00m \u001b[39mself\u001b[39m\u001b[39m.\u001b[39mvisit(child, inner_next_node, inner_prev_node, node, parent_node))\n\u001b[1;32m    913\u001b[0m \u001b[39m# visited_children = [self.visit(child) for child in node.children]\u001b[39;00m\n\u001b[1;32m    915\u001b[0m \u001b[39mif\u001b[39;00m \u001b[39mlen\u001b[39m(visited_children) \u001b[39m==\u001b[39m \u001b[39m1\u001b[39m:\n",
      "File \u001b[0;32m~/work/guidance/guidance/_prompt.py:912\u001b[0m, in \u001b[0;36mPromptExecutor.visit\u001b[0;34m(self, node, next_node, prev_node, parent_node, grandparent_node)\u001b[0m\n\u001b[1;32m    910\u001b[0m     \u001b[39melse\u001b[39;00m:\n\u001b[1;32m    911\u001b[0m         inner_prev_node \u001b[39m=\u001b[39m prev_node\n\u001b[0;32m--> 912\u001b[0m     visited_children\u001b[39m.\u001b[39mappend(\u001b[39mawait\u001b[39;00m \u001b[39mself\u001b[39m\u001b[39m.\u001b[39mvisit(child, inner_next_node, inner_prev_node, node, parent_node))\n\u001b[1;32m    913\u001b[0m \u001b[39m# visited_children = [self.visit(child) for child in node.children]\u001b[39;00m\n\u001b[1;32m    915\u001b[0m \u001b[39mif\u001b[39;00m \u001b[39mlen\u001b[39m(visited_children) \u001b[39m==\u001b[39m \u001b[39m1\u001b[39m:\n",
      "File \u001b[0;32m~/work/guidance/guidance/_prompt.py:729\u001b[0m, in \u001b[0;36mPromptExecutor.visit\u001b[0;34m(self, node, next_node, prev_node, parent_node, grandparent_node)\u001b[0m\n\u001b[1;32m    727\u001b[0m \u001b[39m# visit our children\u001b[39;00m\n\u001b[1;32m    728\u001b[0m \u001b[39mself\u001b[39m\u001b[39m.\u001b[39mblock_content\u001b[39m.\u001b[39mappend([])\n\u001b[0;32m--> 729\u001b[0m visited_children \u001b[39m=\u001b[39m [\u001b[39mawait\u001b[39;00m \u001b[39mself\u001b[39m\u001b[39m.\u001b[39mvisit(child, next_node, prev_node, node, parent_node) \u001b[39mfor\u001b[39;00m child \u001b[39min\u001b[39;00m node\u001b[39m.\u001b[39mchildren]\n\u001b[1;32m    730\u001b[0m \u001b[39mself\u001b[39m\u001b[39m.\u001b[39mblock_content\u001b[39m.\u001b[39mpop()\n\u001b[1;32m    731\u001b[0m out \u001b[39m=\u001b[39m \u001b[39m\"\u001b[39m\u001b[39m\"\u001b[39m\u001b[39m.\u001b[39mjoin(\u001b[39m\"\u001b[39m\u001b[39m\"\u001b[39m \u001b[39mif\u001b[39;00m c \u001b[39mis\u001b[39;00m \u001b[39mNone\u001b[39;00m \u001b[39melse\u001b[39;00m \u001b[39mstr\u001b[39m(c) \u001b[39mfor\u001b[39;00m c \u001b[39min\u001b[39;00m visited_children)\n",
      "File \u001b[0;32m~/work/guidance/guidance/_prompt.py:729\u001b[0m, in \u001b[0;36m<listcomp>\u001b[0;34m(.0)\u001b[0m\n\u001b[1;32m    727\u001b[0m \u001b[39m# visit our children\u001b[39;00m\n\u001b[1;32m    728\u001b[0m \u001b[39mself\u001b[39m\u001b[39m.\u001b[39mblock_content\u001b[39m.\u001b[39mappend([])\n\u001b[0;32m--> 729\u001b[0m visited_children \u001b[39m=\u001b[39m [\u001b[39mawait\u001b[39;00m \u001b[39mself\u001b[39m\u001b[39m.\u001b[39mvisit(child, next_node, prev_node, node, parent_node) \u001b[39mfor\u001b[39;00m child \u001b[39min\u001b[39;00m node\u001b[39m.\u001b[39mchildren]\n\u001b[1;32m    730\u001b[0m \u001b[39mself\u001b[39m\u001b[39m.\u001b[39mblock_content\u001b[39m.\u001b[39mpop()\n\u001b[1;32m    731\u001b[0m out \u001b[39m=\u001b[39m \u001b[39m\"\u001b[39m\u001b[39m\"\u001b[39m\u001b[39m.\u001b[39mjoin(\u001b[39m\"\u001b[39m\u001b[39m\"\u001b[39m \u001b[39mif\u001b[39;00m c \u001b[39mis\u001b[39;00m \u001b[39mNone\u001b[39;00m \u001b[39melse\u001b[39;00m \u001b[39mstr\u001b[39m(c) \u001b[39mfor\u001b[39;00m c \u001b[39min\u001b[39;00m visited_children)\n",
      "File \u001b[0;32m~/work/guidance/guidance/_prompt.py:912\u001b[0m, in \u001b[0;36mPromptExecutor.visit\u001b[0;34m(self, node, next_node, prev_node, parent_node, grandparent_node)\u001b[0m\n\u001b[1;32m    910\u001b[0m     \u001b[39melse\u001b[39;00m:\n\u001b[1;32m    911\u001b[0m         inner_prev_node \u001b[39m=\u001b[39m prev_node\n\u001b[0;32m--> 912\u001b[0m     visited_children\u001b[39m.\u001b[39mappend(\u001b[39mawait\u001b[39;00m \u001b[39mself\u001b[39m\u001b[39m.\u001b[39mvisit(child, inner_next_node, inner_prev_node, node, parent_node))\n\u001b[1;32m    913\u001b[0m \u001b[39m# visited_children = [self.visit(child) for child in node.children]\u001b[39;00m\n\u001b[1;32m    915\u001b[0m \u001b[39mif\u001b[39;00m \u001b[39mlen\u001b[39m(visited_children) \u001b[39m==\u001b[39m \u001b[39m1\u001b[39m:\n",
      "File \u001b[0;32m~/work/guidance/guidance/_prompt.py:812\u001b[0m, in \u001b[0;36mPromptExecutor.visit\u001b[0;34m(self, node, next_node, prev_node, parent_node, grandparent_node)\u001b[0m\n\u001b[1;32m    810\u001b[0m \u001b[39m# call the command\u001b[39;00m\n\u001b[1;32m    811\u001b[0m \u001b[39mif\u001b[39;00m inspect\u001b[39m.\u001b[39miscoroutinefunction(command_function):\n\u001b[0;32m--> 812\u001b[0m     command_output \u001b[39m=\u001b[39m \u001b[39mawait\u001b[39;00m command_function(\u001b[39m*\u001b[39mpositional_args, \u001b[39m*\u001b[39m\u001b[39m*\u001b[39mnamed_args)\n\u001b[1;32m    813\u001b[0m \u001b[39melse\u001b[39;00m:\n\u001b[1;32m    814\u001b[0m     command_output \u001b[39m=\u001b[39m command_function(\u001b[39m*\u001b[39mpositional_args, \u001b[39m*\u001b[39m\u001b[39m*\u001b[39mnamed_args)\n",
      "File \u001b[0;32m~/work/guidance/guidance/_prompt.py:1099\u001b[0m, in \u001b[0;36m_generate\u001b[0;34m(variable_name, partial_output, parse, stop, max_tokens, n, temperature, top_p, logprobs, hidden, parser_prefix, parser, prefix, suffix, next_text, prev_text, **kwargs)\u001b[0m\n\u001b[1;32m   1097\u001b[0m \u001b[39mid\u001b[39m \u001b[39m=\u001b[39m uuid\u001b[39m.\u001b[39muuid4()\u001b[39m.\u001b[39mhex\n\u001b[1;32m   1098\u001b[0m l \u001b[39m=\u001b[39m \u001b[39mlen\u001b[39m(generated_values)\n\u001b[0;32m-> 1099\u001b[0m out \u001b[39m=\u001b[39m \u001b[39m\"\u001b[39m\u001b[39m{{\u001b[39m\u001b[39m!--\u001b[39m\u001b[39m\"\u001b[39m \u001b[39m+\u001b[39m \u001b[39mf\u001b[39m\u001b[39m\"\u001b[39m\u001b[39mGMARKER_generate_many_start_\u001b[39m\u001b[39m{\u001b[39;00mecho\u001b[39m}\u001b[39;00m\u001b[39m_\u001b[39m\u001b[39m{\u001b[39;00ml\u001b[39m}\u001b[39;00m\u001b[39m$\u001b[39m\u001b[39m{\u001b[39;00m\u001b[39mid\u001b[39m\u001b[39m}\u001b[39;00m\u001b[39m$\u001b[39m\u001b[39m\"\u001b[39m \u001b[39m+\u001b[39m \u001b[39m\"\u001b[39m\u001b[39m--}}\u001b[39m\u001b[39m\"\u001b[39m\n\u001b[1;32m   1100\u001b[0m \u001b[39mfor\u001b[39;00m i, value \u001b[39min\u001b[39;00m \u001b[39menumerate\u001b[39m(generated_values):\n\u001b[1;32m   1101\u001b[0m     \u001b[39mif\u001b[39;00m i \u001b[39m>\u001b[39m \u001b[39m0\u001b[39m:\n",
      "\u001b[0;31mNameError\u001b[0m: name 'echo' is not defined"
     ]
    }
   ],
   "source": [
    "prompt = guidance('''The best thing about the beach is{{generate 'best' n=3 temperature=0.7}}''')\n",
    "a = prompt()\n",
    "a"
   ]
  },
  {
   "cell_type": "code",
   "execution_count": 8,
   "metadata": {},
   "outputs": [
    {
     "name": "stdout",
     "output_type": "stream",
     "text": [
      "Error in prompt:  name 'echo' is not defined\n"
     ]
    },
    {
     "ename": "NameError",
     "evalue": "name 'echo' is not defined",
     "output_type": "error",
     "traceback": [
      "\u001b[0;31m---------------------------------------------------------------------------\u001b[0m",
      "\u001b[0;31mNameError\u001b[0m                                 Traceback (most recent call last)",
      "Cell \u001b[0;32mIn[8], line 5\u001b[0m\n\u001b[1;32m      2\u001b[0m     \u001b[39mreturn\u001b[39;00m \u001b[39m'\u001b[39m\u001b[39m\\n\u001b[39;00m\u001b[39m'\u001b[39m\u001b[39m.\u001b[39mjoin(best)\n\u001b[1;32m      3\u001b[0m prompt \u001b[39m=\u001b[39m guidance(\u001b[39m'''\u001b[39m\u001b[39mThe best thing about the beach is\u001b[39m\u001b[39m{{\u001b[39m\u001b[39m#block hidden=True}}\u001b[39m\u001b[39m{{\u001b[39m\u001b[39mgenerate \u001b[39m\u001b[39m'\u001b[39m\u001b[39mbest\u001b[39m\u001b[39m'\u001b[39m\u001b[39m temperature=0.7 n=3}}\u001b[39m\u001b[39m{{\u001b[39m\u001b[39m/block}}\u001b[39m\n\u001b[1;32m      4\u001b[0m \u001b[39m{{\u001b[39m\u001b[39maggregate best}}\u001b[39m\u001b[39m'''\u001b[39m)\n\u001b[0;32m----> 5\u001b[0m a \u001b[39m=\u001b[39m prompt(aggregate\u001b[39m=\u001b[39;49maggregate)\n\u001b[1;32m      6\u001b[0m a\n",
      "File \u001b[0;32m~/work/guidance/guidance/_prompt.py:286\u001b[0m, in \u001b[0;36mPrompt.__call__\u001b[0;34m(self, **kwargs)\u001b[0m\n\u001b[1;32m    284\u001b[0m \u001b[39melse\u001b[39;00m:\n\u001b[1;32m    285\u001b[0m     loop \u001b[39m=\u001b[39m asyncio\u001b[39m.\u001b[39mnew_event_loop()\n\u001b[0;32m--> 286\u001b[0m     loop\u001b[39m.\u001b[39;49mrun_until_complete(new_prompt\u001b[39m.\u001b[39;49mexecute())\n\u001b[1;32m    288\u001b[0m \u001b[39m# # otherwise we just block until the call is complete\u001b[39;00m\n\u001b[1;32m    289\u001b[0m \u001b[39m# else:\u001b[39;00m\n\u001b[1;32m    290\u001b[0m \u001b[39m#     self.event_loop.run_until_complete(new_prompt.execute())\u001b[39;00m\n\u001b[1;32m    292\u001b[0m \u001b[39mreturn\u001b[39;00m new_prompt\n",
      "File \u001b[0;32m~/.virtualenvs/guidance/lib/python3.9/site-packages/nest_asyncio.py:90\u001b[0m, in \u001b[0;36m_patch_loop.<locals>.run_until_complete\u001b[0;34m(self, future)\u001b[0m\n\u001b[1;32m     87\u001b[0m \u001b[39mif\u001b[39;00m \u001b[39mnot\u001b[39;00m f\u001b[39m.\u001b[39mdone():\n\u001b[1;32m     88\u001b[0m     \u001b[39mraise\u001b[39;00m \u001b[39mRuntimeError\u001b[39;00m(\n\u001b[1;32m     89\u001b[0m         \u001b[39m'\u001b[39m\u001b[39mEvent loop stopped before Future completed.\u001b[39m\u001b[39m'\u001b[39m)\n\u001b[0;32m---> 90\u001b[0m \u001b[39mreturn\u001b[39;00m f\u001b[39m.\u001b[39;49mresult()\n",
      "File \u001b[0;32m/usr/lib/python3.9/asyncio/futures.py:201\u001b[0m, in \u001b[0;36mFuture.result\u001b[0;34m(self)\u001b[0m\n\u001b[1;32m    199\u001b[0m \u001b[39mself\u001b[39m\u001b[39m.\u001b[39m__log_traceback \u001b[39m=\u001b[39m \u001b[39mFalse\u001b[39;00m\n\u001b[1;32m    200\u001b[0m \u001b[39mif\u001b[39;00m \u001b[39mself\u001b[39m\u001b[39m.\u001b[39m_exception \u001b[39mis\u001b[39;00m \u001b[39mnot\u001b[39;00m \u001b[39mNone\u001b[39;00m:\n\u001b[0;32m--> 201\u001b[0m     \u001b[39mraise\u001b[39;00m \u001b[39mself\u001b[39m\u001b[39m.\u001b[39m_exception\n\u001b[1;32m    202\u001b[0m \u001b[39mreturn\u001b[39;00m \u001b[39mself\u001b[39m\u001b[39m.\u001b[39m_result\n",
      "File \u001b[0;32m/usr/lib/python3.9/asyncio/tasks.py:256\u001b[0m, in \u001b[0;36mTask.__step\u001b[0;34m(***failed resolving arguments***)\u001b[0m\n\u001b[1;32m    252\u001b[0m \u001b[39mtry\u001b[39;00m:\n\u001b[1;32m    253\u001b[0m     \u001b[39mif\u001b[39;00m exc \u001b[39mis\u001b[39;00m \u001b[39mNone\u001b[39;00m:\n\u001b[1;32m    254\u001b[0m         \u001b[39m# We use the `send` method directly, because coroutines\u001b[39;00m\n\u001b[1;32m    255\u001b[0m         \u001b[39m# don't have `__iter__` and `__next__` methods.\u001b[39;00m\n\u001b[0;32m--> 256\u001b[0m         result \u001b[39m=\u001b[39m coro\u001b[39m.\u001b[39;49msend(\u001b[39mNone\u001b[39;49;00m)\n\u001b[1;32m    257\u001b[0m     \u001b[39melse\u001b[39;00m:\n\u001b[1;32m    258\u001b[0m         result \u001b[39m=\u001b[39m coro\u001b[39m.\u001b[39mthrow(exc)\n",
      "File \u001b[0;32m~/work/guidance/guidance/_prompt.py:352\u001b[0m, in \u001b[0;36mPrompt.execute\u001b[0;34m(self)\u001b[0m\n\u001b[1;32m    350\u001b[0m \u001b[39mself\u001b[39m\u001b[39m.\u001b[39mexecuting \u001b[39m=\u001b[39m \u001b[39mTrue\u001b[39;00m\n\u001b[1;32m    351\u001b[0m \u001b[39mself\u001b[39m\u001b[39m.\u001b[39m_executor \u001b[39m=\u001b[39m PromptExecutor(\u001b[39mself\u001b[39m)\n\u001b[0;32m--> 352\u001b[0m \u001b[39mawait\u001b[39;00m \u001b[39mself\u001b[39m\u001b[39m.\u001b[39m_executor\u001b[39m.\u001b[39mrun()\n\u001b[1;32m    353\u001b[0m \u001b[39mself\u001b[39m\u001b[39m.\u001b[39m_text \u001b[39m=\u001b[39m \u001b[39mself\u001b[39m\u001b[39m.\u001b[39m_executor\u001b[39m.\u001b[39mprefix\n\u001b[1;32m    354\u001b[0m \u001b[39mdel\u001b[39;00m \u001b[39mself\u001b[39m\u001b[39m.\u001b[39m_executor\n",
      "File \u001b[0;32m~/work/guidance/guidance/_prompt.py:624\u001b[0m, in \u001b[0;36mPromptExecutor.run\u001b[0;34m(self)\u001b[0m\n\u001b[1;32m    622\u001b[0m \u001b[39mexcept\u001b[39;00m \u001b[39mException\u001b[39;00m \u001b[39mas\u001b[39;00m e:\n\u001b[1;32m    623\u001b[0m     \u001b[39mprint\u001b[39m(\u001b[39m\"\u001b[39m\u001b[39mError in prompt: \u001b[39m\u001b[39m\"\u001b[39m, e)\n\u001b[0;32m--> 624\u001b[0m     \u001b[39mraise\u001b[39;00m e\n",
      "File \u001b[0;32m~/work/guidance/guidance/_prompt.py:621\u001b[0m, in \u001b[0;36mPromptExecutor.run\u001b[0;34m(self)\u001b[0m\n\u001b[1;32m    618\u001b[0m \u001b[39m\u001b[39m\u001b[39m\"\"\" Execute the prompt.\u001b[39;00m\n\u001b[1;32m    619\u001b[0m \u001b[39m\"\"\"\u001b[39;00m\n\u001b[1;32m    620\u001b[0m \u001b[39mtry\u001b[39;00m:\n\u001b[0;32m--> 621\u001b[0m     \u001b[39mawait\u001b[39;00m \u001b[39mself\u001b[39m\u001b[39m.\u001b[39mvisit(\u001b[39mself\u001b[39m\u001b[39m.\u001b[39mparse_tree)\n\u001b[1;32m    622\u001b[0m \u001b[39mexcept\u001b[39;00m \u001b[39mException\u001b[39;00m \u001b[39mas\u001b[39;00m e:\n\u001b[1;32m    623\u001b[0m     \u001b[39mprint\u001b[39m(\u001b[39m\"\u001b[39m\u001b[39mError in prompt: \u001b[39m\u001b[39m\"\u001b[39m, e)\n",
      "File \u001b[0;32m~/work/guidance/guidance/_prompt.py:912\u001b[0m, in \u001b[0;36mPromptExecutor.visit\u001b[0;34m(self, node, next_node, prev_node, parent_node, grandparent_node)\u001b[0m\n\u001b[1;32m    910\u001b[0m     \u001b[39melse\u001b[39;00m:\n\u001b[1;32m    911\u001b[0m         inner_prev_node \u001b[39m=\u001b[39m prev_node\n\u001b[0;32m--> 912\u001b[0m     visited_children\u001b[39m.\u001b[39mappend(\u001b[39mawait\u001b[39;00m \u001b[39mself\u001b[39m\u001b[39m.\u001b[39mvisit(child, inner_next_node, inner_prev_node, node, parent_node))\n\u001b[1;32m    913\u001b[0m \u001b[39m# visited_children = [self.visit(child) for child in node.children]\u001b[39;00m\n\u001b[1;32m    915\u001b[0m \u001b[39mif\u001b[39;00m \u001b[39mlen\u001b[39m(visited_children) \u001b[39m==\u001b[39m \u001b[39m1\u001b[39m:\n",
      "File \u001b[0;32m~/work/guidance/guidance/_prompt.py:912\u001b[0m, in \u001b[0;36mPromptExecutor.visit\u001b[0;34m(self, node, next_node, prev_node, parent_node, grandparent_node)\u001b[0m\n\u001b[1;32m    910\u001b[0m     \u001b[39melse\u001b[39;00m:\n\u001b[1;32m    911\u001b[0m         inner_prev_node \u001b[39m=\u001b[39m prev_node\n\u001b[0;32m--> 912\u001b[0m     visited_children\u001b[39m.\u001b[39mappend(\u001b[39mawait\u001b[39;00m \u001b[39mself\u001b[39m\u001b[39m.\u001b[39mvisit(child, inner_next_node, inner_prev_node, node, parent_node))\n\u001b[1;32m    913\u001b[0m \u001b[39m# visited_children = [self.visit(child) for child in node.children]\u001b[39;00m\n\u001b[1;32m    915\u001b[0m \u001b[39mif\u001b[39;00m \u001b[39mlen\u001b[39m(visited_children) \u001b[39m==\u001b[39m \u001b[39m1\u001b[39m:\n",
      "File \u001b[0;32m~/work/guidance/guidance/_prompt.py:880\u001b[0m, in \u001b[0;36mPromptExecutor.visit\u001b[0;34m(self, node, next_node, prev_node, parent_node, grandparent_node)\u001b[0m\n\u001b[1;32m    877\u001b[0m     named_args[\u001b[39m\"\u001b[39m\u001b[39mparser_node\u001b[39m\u001b[39m\"\u001b[39m] \u001b[39m=\u001b[39m node\n\u001b[1;32m    879\u001b[0m \u001b[39mif\u001b[39;00m inspect\u001b[39m.\u001b[39miscoroutinefunction(command_function):\n\u001b[0;32m--> 880\u001b[0m     command_output \u001b[39m=\u001b[39m \u001b[39mawait\u001b[39;00m command_function(\u001b[39m*\u001b[39mpositional_args, \u001b[39m*\u001b[39m\u001b[39m*\u001b[39mnamed_args)\n\u001b[1;32m    881\u001b[0m \u001b[39melse\u001b[39;00m:\n\u001b[1;32m    882\u001b[0m     command_output \u001b[39m=\u001b[39m command_function(\u001b[39m*\u001b[39mpositional_args, \u001b[39m*\u001b[39m\u001b[39m*\u001b[39mnamed_args)\n",
      "File \u001b[0;32m~/work/guidance/guidance/_prompt.py:1349\u001b[0m, in \u001b[0;36m_block\u001b[0;34m(name, block_content, parser, hidden)\u001b[0m\n\u001b[1;32m   1346\u001b[0m \u001b[39massert\u001b[39;00m parser \u001b[39mis\u001b[39;00m \u001b[39mnot\u001b[39;00m \u001b[39mNone\u001b[39;00m\n\u001b[1;32m   1348\u001b[0m pos \u001b[39m=\u001b[39m \u001b[39mlen\u001b[39m(parser\u001b[39m.\u001b[39mprefix)\n\u001b[0;32m-> 1349\u001b[0m out \u001b[39m=\u001b[39m \u001b[39mawait\u001b[39;00m parser\u001b[39m.\u001b[39mvisit(block_content[\u001b[39m0\u001b[39m])\n\u001b[1;32m   1350\u001b[0m \u001b[39mif\u001b[39;00m name \u001b[39mis\u001b[39;00m \u001b[39mnot\u001b[39;00m \u001b[39mNone\u001b[39;00m:\n\u001b[1;32m   1351\u001b[0m     parser\u001b[39m.\u001b[39mset_variable(name, strip_markers(out))\n",
      "File \u001b[0;32m~/work/guidance/guidance/_prompt.py:912\u001b[0m, in \u001b[0;36mPromptExecutor.visit\u001b[0;34m(self, node, next_node, prev_node, parent_node, grandparent_node)\u001b[0m\n\u001b[1;32m    910\u001b[0m     \u001b[39melse\u001b[39;00m:\n\u001b[1;32m    911\u001b[0m         inner_prev_node \u001b[39m=\u001b[39m prev_node\n\u001b[0;32m--> 912\u001b[0m     visited_children\u001b[39m.\u001b[39mappend(\u001b[39mawait\u001b[39;00m \u001b[39mself\u001b[39m\u001b[39m.\u001b[39mvisit(child, inner_next_node, inner_prev_node, node, parent_node))\n\u001b[1;32m    913\u001b[0m \u001b[39m# visited_children = [self.visit(child) for child in node.children]\u001b[39;00m\n\u001b[1;32m    915\u001b[0m \u001b[39mif\u001b[39;00m \u001b[39mlen\u001b[39m(visited_children) \u001b[39m==\u001b[39m \u001b[39m1\u001b[39m:\n",
      "File \u001b[0;32m~/work/guidance/guidance/_prompt.py:912\u001b[0m, in \u001b[0;36mPromptExecutor.visit\u001b[0;34m(self, node, next_node, prev_node, parent_node, grandparent_node)\u001b[0m\n\u001b[1;32m    910\u001b[0m     \u001b[39melse\u001b[39;00m:\n\u001b[1;32m    911\u001b[0m         inner_prev_node \u001b[39m=\u001b[39m prev_node\n\u001b[0;32m--> 912\u001b[0m     visited_children\u001b[39m.\u001b[39mappend(\u001b[39mawait\u001b[39;00m \u001b[39mself\u001b[39m\u001b[39m.\u001b[39mvisit(child, inner_next_node, inner_prev_node, node, parent_node))\n\u001b[1;32m    913\u001b[0m \u001b[39m# visited_children = [self.visit(child) for child in node.children]\u001b[39;00m\n\u001b[1;32m    915\u001b[0m \u001b[39mif\u001b[39;00m \u001b[39mlen\u001b[39m(visited_children) \u001b[39m==\u001b[39m \u001b[39m1\u001b[39m:\n",
      "File \u001b[0;32m~/work/guidance/guidance/_prompt.py:729\u001b[0m, in \u001b[0;36mPromptExecutor.visit\u001b[0;34m(self, node, next_node, prev_node, parent_node, grandparent_node)\u001b[0m\n\u001b[1;32m    727\u001b[0m \u001b[39m# visit our children\u001b[39;00m\n\u001b[1;32m    728\u001b[0m \u001b[39mself\u001b[39m\u001b[39m.\u001b[39mblock_content\u001b[39m.\u001b[39mappend([])\n\u001b[0;32m--> 729\u001b[0m visited_children \u001b[39m=\u001b[39m [\u001b[39mawait\u001b[39;00m \u001b[39mself\u001b[39m\u001b[39m.\u001b[39mvisit(child, next_node, prev_node, node, parent_node) \u001b[39mfor\u001b[39;00m child \u001b[39min\u001b[39;00m node\u001b[39m.\u001b[39mchildren]\n\u001b[1;32m    730\u001b[0m \u001b[39mself\u001b[39m\u001b[39m.\u001b[39mblock_content\u001b[39m.\u001b[39mpop()\n\u001b[1;32m    731\u001b[0m out \u001b[39m=\u001b[39m \u001b[39m\"\u001b[39m\u001b[39m\"\u001b[39m\u001b[39m.\u001b[39mjoin(\u001b[39m\"\u001b[39m\u001b[39m\"\u001b[39m \u001b[39mif\u001b[39;00m c \u001b[39mis\u001b[39;00m \u001b[39mNone\u001b[39;00m \u001b[39melse\u001b[39;00m \u001b[39mstr\u001b[39m(c) \u001b[39mfor\u001b[39;00m c \u001b[39min\u001b[39;00m visited_children)\n",
      "File \u001b[0;32m~/work/guidance/guidance/_prompt.py:729\u001b[0m, in \u001b[0;36m<listcomp>\u001b[0;34m(.0)\u001b[0m\n\u001b[1;32m    727\u001b[0m \u001b[39m# visit our children\u001b[39;00m\n\u001b[1;32m    728\u001b[0m \u001b[39mself\u001b[39m\u001b[39m.\u001b[39mblock_content\u001b[39m.\u001b[39mappend([])\n\u001b[0;32m--> 729\u001b[0m visited_children \u001b[39m=\u001b[39m [\u001b[39mawait\u001b[39;00m \u001b[39mself\u001b[39m\u001b[39m.\u001b[39mvisit(child, next_node, prev_node, node, parent_node) \u001b[39mfor\u001b[39;00m child \u001b[39min\u001b[39;00m node\u001b[39m.\u001b[39mchildren]\n\u001b[1;32m    730\u001b[0m \u001b[39mself\u001b[39m\u001b[39m.\u001b[39mblock_content\u001b[39m.\u001b[39mpop()\n\u001b[1;32m    731\u001b[0m out \u001b[39m=\u001b[39m \u001b[39m\"\u001b[39m\u001b[39m\"\u001b[39m\u001b[39m.\u001b[39mjoin(\u001b[39m\"\u001b[39m\u001b[39m\"\u001b[39m \u001b[39mif\u001b[39;00m c \u001b[39mis\u001b[39;00m \u001b[39mNone\u001b[39;00m \u001b[39melse\u001b[39;00m \u001b[39mstr\u001b[39m(c) \u001b[39mfor\u001b[39;00m c \u001b[39min\u001b[39;00m visited_children)\n",
      "File \u001b[0;32m~/work/guidance/guidance/_prompt.py:912\u001b[0m, in \u001b[0;36mPromptExecutor.visit\u001b[0;34m(self, node, next_node, prev_node, parent_node, grandparent_node)\u001b[0m\n\u001b[1;32m    910\u001b[0m     \u001b[39melse\u001b[39;00m:\n\u001b[1;32m    911\u001b[0m         inner_prev_node \u001b[39m=\u001b[39m prev_node\n\u001b[0;32m--> 912\u001b[0m     visited_children\u001b[39m.\u001b[39mappend(\u001b[39mawait\u001b[39;00m \u001b[39mself\u001b[39m\u001b[39m.\u001b[39mvisit(child, inner_next_node, inner_prev_node, node, parent_node))\n\u001b[1;32m    913\u001b[0m \u001b[39m# visited_children = [self.visit(child) for child in node.children]\u001b[39;00m\n\u001b[1;32m    915\u001b[0m \u001b[39mif\u001b[39;00m \u001b[39mlen\u001b[39m(visited_children) \u001b[39m==\u001b[39m \u001b[39m1\u001b[39m:\n",
      "File \u001b[0;32m~/work/guidance/guidance/_prompt.py:812\u001b[0m, in \u001b[0;36mPromptExecutor.visit\u001b[0;34m(self, node, next_node, prev_node, parent_node, grandparent_node)\u001b[0m\n\u001b[1;32m    810\u001b[0m \u001b[39m# call the command\u001b[39;00m\n\u001b[1;32m    811\u001b[0m \u001b[39mif\u001b[39;00m inspect\u001b[39m.\u001b[39miscoroutinefunction(command_function):\n\u001b[0;32m--> 812\u001b[0m     command_output \u001b[39m=\u001b[39m \u001b[39mawait\u001b[39;00m command_function(\u001b[39m*\u001b[39mpositional_args, \u001b[39m*\u001b[39m\u001b[39m*\u001b[39mnamed_args)\n\u001b[1;32m    813\u001b[0m \u001b[39melse\u001b[39;00m:\n\u001b[1;32m    814\u001b[0m     command_output \u001b[39m=\u001b[39m command_function(\u001b[39m*\u001b[39mpositional_args, \u001b[39m*\u001b[39m\u001b[39m*\u001b[39mnamed_args)\n",
      "File \u001b[0;32m~/work/guidance/guidance/_prompt.py:1099\u001b[0m, in \u001b[0;36m_generate\u001b[0;34m(variable_name, partial_output, parse, stop, max_tokens, n, temperature, top_p, logprobs, hidden, parser_prefix, parser, prefix, suffix, next_text, prev_text, **kwargs)\u001b[0m\n\u001b[1;32m   1097\u001b[0m \u001b[39mid\u001b[39m \u001b[39m=\u001b[39m uuid\u001b[39m.\u001b[39muuid4()\u001b[39m.\u001b[39mhex\n\u001b[1;32m   1098\u001b[0m l \u001b[39m=\u001b[39m \u001b[39mlen\u001b[39m(generated_values)\n\u001b[0;32m-> 1099\u001b[0m out \u001b[39m=\u001b[39m \u001b[39m\"\u001b[39m\u001b[39m{{\u001b[39m\u001b[39m!--\u001b[39m\u001b[39m\"\u001b[39m \u001b[39m+\u001b[39m \u001b[39mf\u001b[39m\u001b[39m\"\u001b[39m\u001b[39mGMARKER_generate_many_start_\u001b[39m\u001b[39m{\u001b[39;00mecho\u001b[39m}\u001b[39;00m\u001b[39m_\u001b[39m\u001b[39m{\u001b[39;00ml\u001b[39m}\u001b[39;00m\u001b[39m$\u001b[39m\u001b[39m{\u001b[39;00m\u001b[39mid\u001b[39m\u001b[39m}\u001b[39;00m\u001b[39m$\u001b[39m\u001b[39m\"\u001b[39m \u001b[39m+\u001b[39m \u001b[39m\"\u001b[39m\u001b[39m--}}\u001b[39m\u001b[39m\"\u001b[39m\n\u001b[1;32m   1100\u001b[0m \u001b[39mfor\u001b[39;00m i, value \u001b[39min\u001b[39;00m \u001b[39menumerate\u001b[39m(generated_values):\n\u001b[1;32m   1101\u001b[0m     \u001b[39mif\u001b[39;00m i \u001b[39m>\u001b[39m \u001b[39m0\u001b[39m:\n",
      "\u001b[0;31mNameError\u001b[0m: name 'echo' is not defined"
     ]
    }
   ],
   "source": [
    "def aggregate(best):\n",
    "    return '\\n'.join(best)\n",
    "prompt = guidance('''The best thing about the beach is{{#block hidden=True}}{{generate 'best' temperature=0.7 n=3}}{{/block}}\n",
    "{{aggregate best}}''')\n",
    "a = prompt(aggregate=aggregate)\n",
    "a"
   ]
  },
  {
   "cell_type": "code",
   "execution_count": null,
   "metadata": {},
   "outputs": [],
   "source": []
  }
 ],
 "metadata": {
  "kernelspec": {
   "display_name": "guidance",
   "language": "python",
   "name": "python3"
  },
  "language_info": {
   "codemirror_mode": {
    "name": "ipython",
    "version": 3
   },
   "file_extension": ".py",
   "mimetype": "text/x-python",
   "name": "python",
   "nbconvert_exporter": "python",
   "pygments_lexer": "ipython3",
   "version": "3.9.16"
  },
  "orig_nbformat": 4
 },
 "nbformat": 4,
 "nbformat_minor": 2
}
