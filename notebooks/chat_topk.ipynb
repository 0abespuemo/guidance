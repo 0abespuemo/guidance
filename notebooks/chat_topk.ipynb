{
 "cells": [
  {
   "cell_type": "code",
   "execution_count": 12,
   "metadata": {},
   "outputs": [
    {
     "name": "stdout",
     "output_type": "stream",
     "text": [
      "Option 0: \n",
      "Pros: Establishes a consistent reading habit and is easy to track.\n",
      "Cons: May feel repetitive and lacks social interaction.\n",
      "---\n",
      "Option 1: \n",
      "Pros: Provides motivation, accountability, and social interaction.\n",
      "Cons: May have less control over book choices and reading pace.\n",
      "---\n",
      "Option 2: \n",
      "Pros: Encourages consistent reading and offers a support system.\n",
      "Cons: Limited book choices and potential scheduling conflicts.\n",
      "---\n",
      "Option 3: \n",
      "Pros: Enhances reading experience through discussions and motivation.\n",
      "Cons: May require more time commitment and less personal book choice.\n",
      "---\n",
      "Option 4: \n",
      "Pros: Promotes regular reading and offers a sense of accountability.\n",
      "Cons: Less control over book selection and possible time constraints.\n",
      "---\n",
      "Best=1 (Option 1 provides a good balance of motivation, accountability, and social interaction while still allowing for some personal choice in reading.)\n",
      "['Set a daily reading goal, such as one chapter or 30 minutes every day.', 'Join a book club to stay motivated and accountable for regular reading.', 'Join a book club to stay accountable and motivated to read consistently.', 'Join a book club to stay motivated and engage in discussions with like-minded readers.', 'Join a book club to stay accountable and motivated to read regularly.']\n"
     ]
    }
   ],
   "source": [
    "import guidance\n",
    "import re\n",
    "\n",
    "guidance.llm = guidance.llms.OpenAI(\"gpt-4\")\n",
    "\n",
    "def parse_best(prosandcons, options):\n",
    "    print(prosandcons)\n",
    "    print(options)\n",
    "    best = int(re.findall(r'Best=(\\d+)', prosandcons)[0])\n",
    "    return options[best]\n",
    "\n",
    "create_plan = guidance('''{{#system~}}\n",
    "You are a helpful assistant.\n",
    "{{~/system}}\n",
    "{{#block hidden=True}}\n",
    "{{#user~}}\n",
    "I want to {{goal}}.\n",
    "{{~! generate potential options ~}}\n",
    "Can you please generate one option for how to accomplish this?\n",
    "Please make the option very short, at most one line.\n",
    "{{~/user}}\n",
    "{{#assistant~}}\n",
    "{{gen 'options' n=5 temperature=1.0 stop='<|im_end|>' max_tokens=500}}\n",
    "{{~/assistant}}\n",
    "{{/block}}\n",
    "{{~! generate pros and cons and select the best option ~}}\n",
    "{{#block hidden=True}}\n",
    "{{#user~}}\n",
    "I want to {{goal}}.\n",
    "\n",
    "Can you please comment on the pros and cons of each of the following options, and then pick the best option?\n",
    "---{{#each options}}\n",
    "Option {{@index}}: {{this}}{{/each}}\n",
    "---\n",
    "Please discuss each option very briefly (one line for pros, one for cons), and end by saying Best=X, where X is the best option.\n",
    "{{~/user}}\n",
    "{{#assistant~}}\n",
    "{{gen 'prosandcons' stop='<|im_end|>' temperature=0.0 max_tokens=500}}\n",
    "{{~/assistant}}\n",
    "{{/block}}\n",
    "{{#user~}}\n",
    "I want to {{goal}}.\n",
    "{{~! Create a plan }}\n",
    "Here is my plan:\n",
    "{{parse_best prosandcons options}}\n",
    "Please elaborate on this plan, and tell me how to best accomplish it.\n",
    "{{~/user}}\n",
    "{{#assistant~}}\n",
    "{{gen 'plan' max_tokens=500 stop='<|im_end|>'}}\n",
    "{{~/assistant}}''')\n",
    "\n",
    "out = create_plan(goal='read more books', parse_best=parse_best)\n",
    "out"
   ]
  },
  {
   "cell_type": "code",
   "execution_count": 10,
   "metadata": {},
   "outputs": [
    {
     "name": "stdout",
     "output_type": "stream",
     "text": [
      "Option 0: Join a book club to stay motivated with monthly selections and discussions.\n",
      "Option 1: Join a book club to read and discuss new titles monthly.\n",
      "Option 2: Join a book club to stay motivated and on track with regular readings.\n",
      "Option 3: Join a book club to stay motivated and discuss your reads with others.\n",
      "Option 4: Set a goal to read for 20 minutes every day before bedtime.\n"
     ]
    }
   ],
   "source": [
    "print('\\n'.join(['Option %d: %s' % (i, x) for i, x in enumerate(out['options'])]))"
   ]
  },
  {
   "cell_type": "code",
   "execution_count": 11,
   "metadata": {},
   "outputs": [
    {
     "name": "stdout",
     "output_type": "stream",
     "text": [
      "Option 0: \n",
      "Pros: Encourages motivation and engagement through discussions.\n",
      "Cons: Limited to monthly selections, may not cater to personal interests.\n",
      "---\n",
      "Option 1: \n",
      "Pros: Exposure to new titles and genres.\n",
      "Cons: May not provide enough motivation to stay on track.\n",
      "---\n",
      "Option 2: \n",
      "Pros: Provides structure and motivation through regular readings.\n",
      "Cons: Limited interaction with others, may not cover diverse genres.\n",
      "---\n",
      "Option 3: \n",
      "Pros: Motivation through discussions and shared experiences.\n",
      "Cons: May not have a consistent reading schedule.\n",
      "---\n",
      "Option 4: \n",
      "Pros: Develops a daily reading habit and routine.\n",
      "Cons: Lacks social interaction and discussions.\n",
      "\n",
      "Best=4\n"
     ]
    }
   ],
   "source": [
    "print(out['prosandcons'])"
   ]
  }
 ],
 "metadata": {
  "kernelspec": {
   "display_name": "guidance",
   "language": "python",
   "name": "python3"
  },
  "language_info": {
   "codemirror_mode": {
    "name": "ipython",
    "version": 3
   },
   "file_extension": ".py",
   "mimetype": "text/x-python",
   "name": "python",
   "nbconvert_exporter": "python",
   "pygments_lexer": "ipython3",
   "version": "3.9.16"
  },
  "orig_nbformat": 4
 },
 "nbformat": 4,
 "nbformat_minor": 2
}
