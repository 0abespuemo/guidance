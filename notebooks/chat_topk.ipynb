{
 "cells": [
  {
   "cell_type": "code",
   "execution_count": 1,
   "metadata": {},
   "outputs": [],
   "source": [
    "%load_ext autoreload\n",
    "%autoreload 2"
   ]
  },
  {
   "cell_type": "code",
   "execution_count": null,
   "metadata": {},
   "outputs": [],
   "source": [
    "import guidance\n",
    "\n",
    "guidance.llm = guidance.llms.OpenAI(\"gpt-4\", chat_completion=True)\n",
    "\n",
    "import re\n",
    "def parse_best(prosandcons, options):\n",
    "    best = int(re.findall(r'Best=(\\d+)', prosandcons)[0])\n",
    "    return options[best]\n",
    "\n",
    "create_plan = guidance('''<|im_start|>system\n",
    "You are a helpful assistant.\n",
    "<|im_end|>\n",
    "<|im_start|>user\n",
    "I want to {{goal}}.\n",
    "\n",
    "{{~! generate potential options ~}}\n",
    "{{#block hidden=True}}\n",
    "Can you please generate one option for how to accomplish this?\n",
    "Please make the option very short, at most one line.\n",
    "<|im_end|>\n",
    "<|im_start|>assistant\n",
    "{{generate 'options' n=5 temperature=1.0 max_tokens=500}}\n",
    "<|im_end|>\n",
    "{{/block}}\n",
    "\n",
    "{{~! generate pros and cons and select the best option ~}}\n",
    "{{#block hidden=True}}\n",
    "Can you please comment on the pros and cons of each of the following options, and then pick the best option?\n",
    "---{{#each options}}\n",
    "Option {{@index}}: {{this}}{{/each}}\n",
    "---\n",
    "Please discuss each option very briefly (one line for pros, one for cons), and end by saying Best=X, where X is the best option.\n",
    "<|im_end|>\n",
    "<|im_start|>assistant\n",
    "{{generate 'prosandcons' temperature=0.0 max_tokens=500}}\n",
    "<|im_end|>\n",
    "{{/block}}\n",
    "\n",
    "{{~! Create a plan }}\n",
    "Here is my plan:\n",
    "{{parse_best prosandcons options}}\n",
    "Please elaborate on this plan, and tell me how to best accomplish it.\n",
    "<|im_end|>\n",
    "<|im_start|>assistant\n",
    "{{generate 'plan' max_tokens=500}}\n",
    "<|im_end|>''')\n",
    "\n",
    "out = create_plan(goal='Make a lot of money', parse_best=parse_best)\n",
    "out"
   ]
  },
  {
   "cell_type": "code",
   "execution_count": 2,
   "metadata": {},
   "outputs": [],
   "source": [
    "import guidance"
   ]
  },
  {
   "cell_type": "code",
   "execution_count": 3,
   "metadata": {},
   "outputs": [],
   "source": [
    "guidance.llm = guidance.llms.OpenAI(\"gpt-4\", chat_completion=True)"
   ]
  },
  {
   "cell_type": "code",
   "execution_count": 8,
   "metadata": {},
   "outputs": [],
   "source": [
    "system = '''<|im_start|>system\n",
    "You are a helpful assistant<|im_end|>'''\n",
    "user = '''<|im_start|>user'''\n",
    "assistant = '''<|im_start|>assistant'''\n",
    "end = '''<|im_end|>'''"
   ]
  },
  {
   "cell_type": "code",
   "execution_count": 37,
   "metadata": {},
   "outputs": [],
   "source": [
    "eval_idea = guidance('''{{system}}\n",
    "{{user}}\n",
    "I want to {{goal}}.\n",
    "Can you please comment on the pros and cons of each of the following options, and then pick the best option?\n",
    "---{{#each options}}\n",
    "Option {{@index}}: {{this}}{{/each}}\n",
    "---\n",
    "Please discuss each option very briefly (one line for pros, one for cons), and end by saying Best=X, where X is the best option.{{end}}\n",
    "{{assistant}}\n",
    "{{generate 'prosandcons' temperature=0.0 max_tokens=500}}''')"
   ]
  },
  {
   "cell_type": "code",
   "execution_count": 38,
   "metadata": {},
   "outputs": [
    {
     "name": "stdout",
     "output_type": "stream",
     "text": [
      "{'model': 'gpt-4', 'max_tokens': 500, 'temperature': 0.0, 'top_p': 1.0, 'n': 1, 'stop': '', 'messages': [{'role': 'system', 'content': 'You are a helpful assistant'}, {'role': 'user', 'content': 'I want to get a job.\\nCan you please comment on the pros and cons of each of the following options, and then pick the best option?\\n---\\nOption 0: go to college\\nOption 1: send resumes out\\nOption 0: go to college\\nOption 1: send resumes out\\n---\\nPlease discuss each option very briefly (one line for pros, one for cons), and end by saying Best=X, where X is the best option.'}]}\n"
     ]
    },
    {
     "data": {
      "text/html": [
       "<style type='text/css'>:root{--txt:#000;--inserted:rgba(0,138.56128016,250.76166089,0.25);--generated:rgba(0,165,0,0.25);}:root.vscode-dark{--txt:#fff;--inserted:rgba(0,138.56128016,255,0.4);--generated:rgba(0,255,0,0.18);}@mediascreenand(prefers-color-scheme:dark){:root{--txt:#fff;}}</style><pre style='margin: 0px; padding: 0px; padding-left: 8px; margin-left: -8px; border-radius: 0px; border-left: 1px solid rgba(127, 127, 127, 0.2); white-space: pre-wrap; font-family: ColfaxAI, Arial; font-size: 15px; line-height: 23px;'><span style='background-color: var(--inserted); display: inline;' title='&amp;#123;&amp;#123;system&amp;#125;&amp;#125;'>&lt;|im_start|&gt;system\n",
       "You are a helpful assistant&lt;|im_end|&gt;</span>\n",
       "<span style='background-color: var(--inserted); display: inline;' title='&amp;#123;&amp;#123;user&amp;#125;&amp;#125;'>&lt;|im_start|&gt;user</span>\n",
       "I want to <span style='background-color: var(--inserted); display: inline;' title='&amp;#123;&amp;#123;goal&amp;#125;&amp;#125;'>get a job</span>.\n",
       "Can you please comment on the pros and cons of each of the following options, and then pick the best option?\n",
       "---<span style='opacity: 1.0; display: inline; background-color: var(--inserted);' title='&amp;#123;&amp;#123;#each options&amp;#125;&amp;#125;\n",
       "Option &amp;#123;&amp;#123;@index&amp;#125;&amp;#125;: &amp;#123;&amp;#123;this&amp;#125;&amp;#125;&amp;#123;&amp;#123;/each&amp;#125;&amp;#125;'><div style='border-left: 1px dashed rgb(0, 0, 0, .2); border-top: 0px solid rgb(0, 0, 0, .2); margin-right: -4px; display: inline; width: 4px; height: 24px;'></div>\n",
       "Option <span style='background-color: var(--inserted); display: inline;' title='&amp;#123;&amp;#123;@index&amp;#125;&amp;#125;'>0</span>: <span style='background-color: var(--inserted); display: inline;' title='&amp;#123;&amp;#123;this&amp;#125;&amp;#125;'>go to college</span><div style='border-left: 1px dashed rgb(0, 0, 0, .2); border-top: 0px solid rgb(0, 0, 0, .2); margin-right: -4px; display: inline; width: 4px; height: 24px;'></div>\n",
       "Option <span style='background-color: var(--inserted); display: inline;' title='&amp;#123;&amp;#123;@index&amp;#125;&amp;#125;'>1</span>: <span style='background-color: var(--inserted); display: inline;' title='&amp;#123;&amp;#123;this&amp;#125;&amp;#125;'>send resumes out</span><div style='border-left: 1px dashed rgb(0, 0, 0, .2); border-top: 0px solid rgb(0, 0, 0, .2); margin-right: -4px; display: inline; width: 4px; height: 24px;'></div></span>\n",
       "---\n",
       "Please discuss each option very briefly (one line for pros, one for cons), and end by saying Best=X, where X is the best option.<span style='background-color: var(--inserted); display: inline;' title='&amp;#123;&amp;#123;end&amp;#125;&amp;#125;'>&lt;|im_end|&gt;</span>\n",
       "<span style='background-color: var(--inserted); display: inline;' title='&amp;#123;&amp;#123;assistant&amp;#125;&amp;#125;'>&lt;|im_start|&gt;assistant</span>\n",
       "<span style='background-color: var(--generated); opacity: 1.0; display: inline;' title='&amp;#123;&amp;#123;generate &#x27;prosandcons&#x27; temperature=0.0 max_tokens=500&amp;#125;&amp;#125;'>Option 0: Go to college\n",
       "Pros: Gain valuable knowledge and skills, increase job opportunities.\n",
       "Cons: Expensive and time-consuming.\n",
       "\n",
       "Option 1: Send resumes out\n",
       "Pros: Immediate job search, potential for quicker employment.\n",
       "Cons: Limited job options without higher education.\n",
       "\n",
       "Best=0, as going to college provides long-term benefits and increased job opportunities.</span></pre>"
      ],
      "text/plain": [
       "<|im_start|>system\n",
       "You are a helpful assistant<|im_end|>\n",
       "<|im_start|>user\n",
       "I want to get a job.\n",
       "Can you please comment on the pros and cons of each of the following options, and then pick the best option?\n",
       "---\n",
       "Option 0: go to college\n",
       "Option 1: send resumes out\n",
       "---\n",
       "Please discuss each option very briefly (one line for pros, one for cons), and end by saying Best=X, where X is the best option.<|im_end|>\n",
       "<|im_start|>assistant\n",
       "Option 0: Go to college\n",
       "Pros: Gain valuable knowledge and skills, increase job opportunities.\n",
       "Cons: Expensive and time-consuming.\n",
       "\n",
       "Option 1: Send resumes out\n",
       "Pros: Immediate job search, potential for quicker employment.\n",
       "Cons: Limited job options without higher education.\n",
       "\n",
       "Best=0, as going to college provides long-term benefits and increased job opportunities."
      ]
     },
     "execution_count": 38,
     "metadata": {},
     "output_type": "execute_result"
    }
   ],
   "source": [
    "eval_idea(system=system, user=user, assistant=assistant,\n",
    "end=end, goal='get a job', options=['go to college', 'send resumes out'])"
   ]
  },
  {
   "cell_type": "code",
   "execution_count": 76,
   "metadata": {},
   "outputs": [
    {
     "name": "stdout",
     "output_type": "stream",
     "text": [
      "{'model': 'gpt-4', 'max_tokens': 500, 'temperature': 0.0, 'top_p': 1.0, 'n': 1, 'stop': '', 'messages': [{'role': 'system', 'content': 'You are a helpful assistant'}, {'role': 'user', 'content': 'I want to Make a lot of money.\\nHere is my plan:\\nInvest in high-growth stocks or industries and diversify your portfolio.\\nPlease elaborate on this plan, and tell me how to best accomplish it.'}]}\n"
     ]
    },
    {
     "data": {
      "text/html": [
       "<style type='text/css'>:root{--txt:#000;--inserted:rgba(0,138.56128016,250.76166089,0.25);--generated:rgba(0,165,0,0.25);}:root.vscode-dark{--txt:#fff;--inserted:rgba(0,138.56128016,255,0.4);--generated:rgba(0,255,0,0.18);}@mediascreenand(prefers-color-scheme:dark){:root{--txt:#fff;}}</style><pre style='margin: 0px; padding: 0px; padding-left: 8px; margin-left: -8px; border-radius: 0px; border-left: 1px solid rgba(127, 127, 127, 0.2); white-space: pre-wrap; font-family: ColfaxAI, Arial; font-size: 15px; line-height: 23px;'><span style='background-color: var(--inserted); display: inline;' title='&amp;#123;&amp;#123;system&amp;#125;&amp;#125;'>&lt;|im_start|&gt;system\n",
       "You are a helpful assistant&lt;|im_end|&gt;</span>\n",
       "<span style='background-color: var(--inserted); display: inline;' title='&amp;#123;&amp;#123;user&amp;#125;&amp;#125;'>&lt;|im_start|&gt;user</span>\n",
       "I want to <span style='background-color: var(--inserted); display: inline;' title='&amp;#123;&amp;#123;goal&amp;#125;&amp;#125;'>Make a lot of money</span>.\n",
       "Here is my plan:\n",
       "<span style='background-color: var(--inserted); display: inline;' title='&amp;#123;&amp;#123;best&amp;#125;&amp;#125;'>Invest in high-growth stocks or industries and diversify your portfolio.</span>\n",
       "Please elaborate on this plan, and tell me how to best accomplish it.<span style='background-color: var(--inserted); display: inline;' title='&amp;#123;&amp;#123;end&amp;#125;&amp;#125;'>&lt;|im_end|&gt;</span>\n",
       "<span style='background-color: var(--inserted); display: inline;' title='&amp;#123;&amp;#123;assistant&amp;#125;&amp;#125;'>&lt;|im_start|&gt;assistant</span>\n",
       "<span style='background-color: var(--generated); opacity: 1.0; display: inline;' title='&amp;#123;&amp;#123;generate &#x27;plan&#x27; temperature=0.0 max_tokens=500&amp;#125;&amp;#125;'>To make a lot of money by investing in high-growth stocks or industries and diversifying your portfolio, follow these steps:\n",
       "\n",
       "1. Research high-growth industries: Identify industries that are expected to grow significantly in the coming years. Some examples of high-growth industries include technology, renewable energy, healthcare, and e-commerce. Stay informed about market trends and news to spot potential growth opportunities.\n",
       "\n",
       "2. Analyze individual stocks: Once you have identified high-growth industries, research individual companies within those industries. Look for companies with strong financials, innovative products or services, and a competitive edge in the market. Analyze their financial statements, growth rates, and market share to determine their potential for growth.\n",
       "\n",
       "3. Diversify your portfolio: To minimize risk, it&#x27;s essential to diversify your investments across different industries and asset classes. This means not putting all your money into one stock or industry. Instead, spread your investments across various sectors, such as technology, healthcare, finance, and consumer goods. You can also diversify by investing in different asset classes, such as stocks, bonds, and real estate.\n",
       "\n",
       "4. Invest in low-cost index funds or ETFs: If you&#x27;re not comfortable picking individual stocks, consider investing in low-cost index funds or exchange-traded funds (ETFs) that track the performance of high-growth industries or the overall market. These funds provide instant diversification and can help you gain exposure to multiple high-growth stocks with a single investment.\n",
       "\n",
       "5. Dollar-cost averaging: To reduce the impact of market volatility, consider using a dollar-cost averaging strategy. This involves investing a fixed amount of money at regular intervals, regardless of market conditions. This approach can help you avoid making emotional decisions based on short-term market fluctuations and can lower the average cost per share over time.\n",
       "\n",
       "6. Rebalance your portfolio: Periodically review and adjust your portfolio to ensure it remains aligned with your investment goals and risk tolerance. This may involve selling some investments and buying others to maintain the desired level of diversification.\n",
       "\n",
       "7. Be patient and disciplined: Investing in high-growth stocks can be rewarding, but it requires patience and discipline. Be prepared to hold onto your investments for the long term, as short-term market fluctuations can be unpredictable. Stick to your investment plan and avoid making impulsive decisions based on market hype or fear.\n",
       "\n",
       "8. Consult a financial advisor: If you&#x27;re unsure about your investment strategy or need help managing your portfolio, consider consulting a financial advisor. They</span></pre>"
      ],
      "text/plain": [
       "<|im_start|>system\n",
       "You are a helpful assistant<|im_end|>\n",
       "<|im_start|>user\n",
       "I want to Make a lot of money.\n",
       "Here is my plan:\n",
       "Invest in high-growth stocks or industries and diversify your portfolio.\n",
       "Please elaborate on this plan, and tell me how to best accomplish it.<|im_end|>\n",
       "<|im_start|>assistant\n",
       "To make a lot of money by investing in high-growth stocks or industries and diversifying your portfolio, follow these steps:\n",
       "\n",
       "1. Research high-growth industries: Identify industries that are expected to grow significantly in the coming years. Some examples of high-growth industries include technology, renewable energy, healthcare, and e-commerce. Stay informed about market trends and news to spot potential growth opportunities.\n",
       "\n",
       "2. Analyze individual stocks: Once you have identified high-growth industries, research individual companies within those industries. Look for companies with strong financials, innovative products or services, and a competitive edge in the market. Analyze their financial statements, growth rates, and market share to determine their potential for growth.\n",
       "\n",
       "3. Diversify your portfolio: To minimize risk, it's essential to diversify your investments across different industries and asset classes. This means not putting all your money into one stock or industry. Instead, spread your investments across various sectors, such as technology, healthcare, finance, and consumer goods. You can also diversify by investing in different asset classes, such as stocks, bonds, and real estate.\n",
       "\n",
       "4. Invest in low-cost index funds or ETFs: If you're not comfortable picking individual stocks, consider investing in low-cost index funds or exchange-traded funds (ETFs) that track the performance of high-growth industries or the overall market. These funds provide instant diversification and can help you gain exposure to multiple high-growth stocks with a single investment.\n",
       "\n",
       "5. Dollar-cost averaging: To reduce the impact of market volatility, consider using a dollar-cost averaging strategy. This involves investing a fixed amount of money at regular intervals, regardless of market conditions. This approach can help you avoid making emotional decisions based on short-term market fluctuations and can lower the average cost per share over time.\n",
       "\n",
       "6. Rebalance your portfolio: Periodically review and adjust your portfolio to ensure it remains aligned with your investment goals and risk tolerance. This may involve selling some investments and buying others to maintain the desired level of diversification.\n",
       "\n",
       "7. Be patient and disciplined: Investing in high-growth stocks can be rewarding, but it requires patience and discipline. Be prepared to hold onto your investments for the long term, as short-term market fluctuations can be unpredictable. Stick to your investment plan and avoid making impulsive decisions based on market hype or fear.\n",
       "\n",
       "8. Consult a financial advisor: If you're unsure about your investment strategy or need help managing your portfolio, consider consulting a financial advisor. They"
      ]
     },
     "execution_count": 76,
     "metadata": {},
     "output_type": "execute_result"
    }
   ],
   "source": [
    "def eval(options, goal):\n",
    "    return eval_idea(system=system, user=user, assistant=assistant, end=end, goal=goal, options=options)\n",
    "\n",
    "def wat(chosen):\n",
    "    print(type(chosen))\n",
    "\n",
    "import re\n",
    "def parse_best(options, best):\n",
    "    options = options['options']\n",
    "    best = int(re.findall(r'Best=(\\d+)', best['prosandcons'])[0])\n",
    "    return options[best]\n",
    "parse_best(options, best)\n",
    "goal = 'Make a lot of money'\n",
    "gen_options = guidance('''{{system}}\n",
    "{{user}}\n",
    "I want to {{goal}}.\n",
    "Can you please generate one option for how to accomplish this?\n",
    "Please make the option very short, at most one line.{{end}}\n",
    "{{assistant}}\n",
    "{{generate 'options' n=5 temperature=1.0 max_tokens=500}}{{end}}''')\n",
    "\n",
    "discuss_best = guidance('''{{system}}\n",
    "{{user}}\n",
    "I want to {{goal}}.\n",
    "Here is my plan:\n",
    "{{best}}\n",
    "Please elaborate on this plan, and tell me how to best accomplish it.{{end}}\n",
    "{{assistant}}\n",
    "{{generate 'plan' temperature=0.0 max_tokens=500}}''')\n",
    "\n",
    "options = gen_options(system=system, user=user, assistant=assistant, end=end, goal=goal, eval=eval)\n",
    "best = eval_idea(system=system, user=user, assistant=assistant, end=end, goal=goal, options=options['options'])\n",
    "best_option = parse_best(options, best)\n",
    "discuss_best(system=system, user=user, assistant=assistant, end=end, goal=goal, best=best_option)"
   ]
  },
  {
   "cell_type": "code",
   "execution_count": 77,
   "metadata": {},
   "outputs": [
    {
     "name": "stdout",
     "output_type": "stream",
     "text": [
      "{'model': 'gpt-4', 'max_tokens': 500, 'temperature': 1.0, 'top_p': 1.0, 'n': 5, 'stop': '{{end}}', 'messages': [{'role': 'system', 'content': 'You are a helpful assistant'}, {'role': 'user', 'content': 'I want to Get rich.\\nCan you please generate one option for how to accomplish this?\\nPlease make the option very short, at most one line.'}]}\n",
      "{'model': 'gpt-4', 'max_tokens': 500, 'temperature': 0.0, 'top_p': 1.0, 'n': 1, 'stop': '', 'messages': [{'role': 'system', 'content': 'You are a helpful assistant'}, {'role': 'user', 'content': 'I want to Get rich.\\nCan you please comment on the pros and cons of each of the following options, and then pick the best option?\\n---\\nOption 0: Invest in innovative, high-growth industries and consistently reinvest profits.\\nOption 1: Invest in high growth potential stocks and hold for the long-term.\\nOption 2: Invest in a high-demand, fast-growing industry with potential for significant returns.\\nOption 3: Invest in high-growth stocks early and consistently.\\nOption 4: Invest in high-potential stocks or cryptocurrencies with thorough research and a long-term strategy.\\nOption 0: Invest in innovative, high-growth industries and consistently reinvest profits.\\nOption 1: Invest in high growth potential stocks and hold for the long-term.\\nOption 2: Invest in a high-demand, fast-growing industry with potential for significant returns.\\nOption 3: Invest in high-growth stocks early and consistently.\\nOption 4: Invest in high-potential stocks or cryptocurrencies with thorough research and a long-term strategy.\\n---\\nPlease discuss each option very briefly (one line for pros, one for cons), and end by saying Best=X, where X is the best option.'}]}\n",
      "{'model': 'gpt-4', 'max_tokens': 500, 'temperature': 0.0, 'top_p': 1.0, 'n': 1, 'stop': '', 'messages': [{'role': 'system', 'content': 'You are a helpful assistant'}, {'role': 'user', 'content': 'I want to Get rich.\\nHere is my plan:\\nInvest in high growth potential stocks and hold for the long-term.\\nPlease elaborate on this plan, and tell me how to best accomplish it.'}]}\n"
     ]
    },
    {
     "data": {
      "text/html": [
       "<style type='text/css'>:root{--txt:#000;--inserted:rgba(0,138.56128016,250.76166089,0.25);--generated:rgba(0,165,0,0.25);}:root.vscode-dark{--txt:#fff;--inserted:rgba(0,138.56128016,255,0.4);--generated:rgba(0,255,0,0.18);}@mediascreenand(prefers-color-scheme:dark){:root{--txt:#fff;}}</style><pre style='margin: 0px; padding: 0px; padding-left: 8px; margin-left: -8px; border-radius: 0px; border-left: 1px solid rgba(127, 127, 127, 0.2); white-space: pre-wrap; font-family: ColfaxAI, Arial; font-size: 15px; line-height: 23px;'><span style='background-color: var(--inserted); display: inline;' title='&amp;#123;&amp;#123;system&amp;#125;&amp;#125;'>&lt;|im_start|&gt;system\n",
       "You are a helpful assistant&lt;|im_end|&gt;</span>\n",
       "<span style='background-color: var(--inserted); display: inline;' title='&amp;#123;&amp;#123;user&amp;#125;&amp;#125;'>&lt;|im_start|&gt;user</span>\n",
       "I want to <span style='background-color: var(--inserted); display: inline;' title='&amp;#123;&amp;#123;goal&amp;#125;&amp;#125;'>Get rich</span>.\n",
       "Can you please comment on the pros and cons of each of the following options, and then pick the best option?\n",
       "---<span style='opacity: 1.0; display: inline; background-color: var(--inserted);' title='&amp;#123;&amp;#123;#each options&amp;#125;&amp;#125;\n",
       "Option &amp;#123;&amp;#123;@index&amp;#125;&amp;#125;: &amp;#123;&amp;#123;this&amp;#125;&amp;#125;&amp;#123;&amp;#123;/each&amp;#125;&amp;#125;'><div style='border-left: 1px dashed rgb(0, 0, 0, .2); border-top: 0px solid rgb(0, 0, 0, .2); margin-right: -4px; display: inline; width: 4px; height: 24px;'></div>\n",
       "Option <span style='background-color: var(--inserted); display: inline;' title='&amp;#123;&amp;#123;@index&amp;#125;&amp;#125;'>0</span>: <span style='background-color: var(--inserted); display: inline;' title='&amp;#123;&amp;#123;this&amp;#125;&amp;#125;'>Invest in innovative, high-growth industries and consistently reinvest profits.</span><div style='border-left: 1px dashed rgb(0, 0, 0, .2); border-top: 0px solid rgb(0, 0, 0, .2); margin-right: -4px; display: inline; width: 4px; height: 24px;'></div>\n",
       "Option <span style='background-color: var(--inserted); display: inline;' title='&amp;#123;&amp;#123;@index&amp;#125;&amp;#125;'>1</span>: <span style='background-color: var(--inserted); display: inline;' title='&amp;#123;&amp;#123;this&amp;#125;&amp;#125;'>Invest in high growth potential stocks and hold for the long-term.</span><div style='border-left: 1px dashed rgb(0, 0, 0, .2); border-top: 0px solid rgb(0, 0, 0, .2); margin-right: -4px; display: inline; width: 4px; height: 24px;'></div>\n",
       "Option <span style='background-color: var(--inserted); display: inline;' title='&amp;#123;&amp;#123;@index&amp;#125;&amp;#125;'>2</span>: <span style='background-color: var(--inserted); display: inline;' title='&amp;#123;&amp;#123;this&amp;#125;&amp;#125;'>Invest in a high-demand, fast-growing industry with potential for significant returns.</span><div style='border-left: 1px dashed rgb(0, 0, 0, .2); border-top: 0px solid rgb(0, 0, 0, .2); margin-right: -4px; display: inline; width: 4px; height: 24px;'></div>\n",
       "Option <span style='background-color: var(--inserted); display: inline;' title='&amp;#123;&amp;#123;@index&amp;#125;&amp;#125;'>3</span>: <span style='background-color: var(--inserted); display: inline;' title='&amp;#123;&amp;#123;this&amp;#125;&amp;#125;'>Invest in high-growth stocks early and consistently.</span><div style='border-left: 1px dashed rgb(0, 0, 0, .2); border-top: 0px solid rgb(0, 0, 0, .2); margin-right: -4px; display: inline; width: 4px; height: 24px;'></div>\n",
       "Option <span style='background-color: var(--inserted); display: inline;' title='&amp;#123;&amp;#123;@index&amp;#125;&amp;#125;'>4</span>: <span style='background-color: var(--inserted); display: inline;' title='&amp;#123;&amp;#123;this&amp;#125;&amp;#125;'>Invest in high-potential stocks or cryptocurrencies with thorough research and a long-term strategy.</span><div style='border-left: 1px dashed rgb(0, 0, 0, .2); border-top: 0px solid rgb(0, 0, 0, .2); margin-right: -4px; display: inline; width: 4px; height: 24px;'></div></span>\n",
       "---\n",
       "Please discuss each option very briefly (one line for pros, one for cons), and end by saying Best=X, where X is the best option.<span style='background-color: var(--inserted); display: inline;' title='&amp;#123;&amp;#123;end&amp;#125;&amp;#125;'>&lt;|im_end|&gt;</span>\n",
       "<span style='background-color: var(--inserted); display: inline;' title='&amp;#123;&amp;#123;assistant&amp;#125;&amp;#125;'>&lt;|im_start|&gt;assistant</span>\n",
       "<span style='background-color: var(--generated); opacity: 1.0; display: inline;' title='&amp;#123;&amp;#123;generate &#x27;prosandcons&#x27; temperature=0.0 max_tokens=500&amp;#125;&amp;#125;'>Option 0: \n",
       "Pros: Diversified investment in multiple industries, compounding growth through reinvestment.\n",
       "Cons: Requires constant monitoring and adjustment of portfolio.\n",
       " \n",
       "Option 1: \n",
       "Pros: Long-term growth potential, less active management needed.\n",
       "Cons: May miss out on short-term gains or market fluctuations.\n",
       "\n",
       "Option 2: \n",
       "Pros: High potential for significant returns due to high demand.\n",
       "Cons: Risk of industry saturation or sudden market changes.\n",
       "\n",
       "Option 3: \n",
       "Pros: Early investment can lead to exponential growth.\n",
       "Cons: Requires accurate prediction of future high-growth stocks.\n",
       "\n",
       "Option 4: \n",
       "Pros: Thorough research can lead to informed investment decisions.\n",
       "Cons: Cryptocurrencies can be highly volatile and unpredictable.\n",
       "\n",
       "Best=1, as it provides long-term growth potential with less active management needed, allowing for a more stable and consistent investment strategy.</span></pre>"
      ],
      "text/plain": [
       "<|im_start|>system\n",
       "You are a helpful assistant<|im_end|>\n",
       "<|im_start|>user\n",
       "I want to Get rich.\n",
       "Can you please comment on the pros and cons of each of the following options, and then pick the best option?\n",
       "---\n",
       "Option 0: Invest in innovative, high-growth industries and consistently reinvest profits.\n",
       "Option 1: Invest in high growth potential stocks and hold for the long-term.\n",
       "Option 2: Invest in a high-demand, fast-growing industry with potential for significant returns.\n",
       "Option 3: Invest in high-growth stocks early and consistently.\n",
       "Option 4: Invest in high-potential stocks or cryptocurrencies with thorough research and a long-term strategy.\n",
       "---\n",
       "Please discuss each option very briefly (one line for pros, one for cons), and end by saying Best=X, where X is the best option.<|im_end|>\n",
       "<|im_start|>assistant\n",
       "Option 0: \n",
       "Pros: Diversified investment in multiple industries, compounding growth through reinvestment.\n",
       "Cons: Requires constant monitoring and adjustment of portfolio.\n",
       " \n",
       "Option 1: \n",
       "Pros: Long-term growth potential, less active management needed.\n",
       "Cons: May miss out on short-term gains or market fluctuations.\n",
       "\n",
       "Option 2: \n",
       "Pros: High potential for significant returns due to high demand.\n",
       "Cons: Risk of industry saturation or sudden market changes.\n",
       "\n",
       "Option 3: \n",
       "Pros: Early investment can lead to exponential growth.\n",
       "Cons: Requires accurate prediction of future high-growth stocks.\n",
       "\n",
       "Option 4: \n",
       "Pros: Thorough research can lead to informed investment decisions.\n",
       "Cons: Cryptocurrencies can be highly volatile and unpredictable.\n",
       "\n",
       "Best=1, as it provides long-term growth potential with less active management needed, allowing for a more stable and consistent investment strategy."
      ]
     },
     "execution_count": 77,
     "metadata": {},
     "output_type": "execute_result"
    }
   ],
   "source": [
    "def suggest_eval_discuss(goal):\n",
    "    options = gen_options(system=system, user=user, assistant=assistant, end=end, goal=goal, eval=eval)\n",
    "    best = eval_idea(system=system, user=user, assistant=assistant, end=end, goal=goal, options=options['options'])\n",
    "    best_option = parse_best(options, best)\n",
    "    discuss = discuss_best(system=system, user=user, assistant=assistant, end=end, goal=goal, best=best_option)\n",
    "    return options, best, discuss\n",
    "goal = 'Get rich'\n",
    "a, b, c = suggest_eval_discuss(goal)\n",
    "b"
   ]
  },
  {
   "cell_type": "code",
   "execution_count": 80,
   "metadata": {},
   "outputs": [
    {
     "data": {
      "text/html": [
       "<style type='text/css'>:root{--txt:#000;--inserted:rgba(0,138.56128016,250.76166089,0.25);--generated:rgba(0,165,0,0.25);}:root.vscode-dark{--txt:#fff;--inserted:rgba(0,138.56128016,255,0.4);--generated:rgba(0,255,0,0.18);}@mediascreenand(prefers-color-scheme:dark){:root{--txt:#fff;}}</style><pre style='margin: 0px; padding: 0px; padding-left: 8px; margin-left: -8px; border-radius: 0px; border-left: 1px solid rgba(127, 127, 127, 0.2); white-space: pre-wrap; font-family: ColfaxAI, Arial; font-size: 15px; line-height: 23px;'><span style='background-color: var(--inserted); display: inline;' title='&amp;#123;&amp;#123;system&amp;#125;&amp;#125;'>&lt;|im_start|&gt;system\n",
       "You are a helpful assistant&lt;|im_end|&gt;</span>\n",
       "<span style='background-color: var(--inserted); display: inline;' title='&amp;#123;&amp;#123;user&amp;#125;&amp;#125;'>&lt;|im_start|&gt;user</span>\n",
       "I want to <span style='background-color: var(--inserted); display: inline;' title='&amp;#123;&amp;#123;goal&amp;#125;&amp;#125;'>Get rich</span>.\n",
       "Here is my plan:\n",
       "<span style='background-color: var(--inserted); display: inline;' title='&amp;#123;&amp;#123;best&amp;#125;&amp;#125;'>Invest in high growth potential stocks and hold for the long-term.</span>\n",
       "Please elaborate on this plan, and tell me how to best accomplish it.<span style='background-color: var(--inserted); display: inline;' title='&amp;#123;&amp;#123;end&amp;#125;&amp;#125;'>&lt;|im_end|&gt;</span>\n",
       "<span style='background-color: var(--inserted); display: inline;' title='&amp;#123;&amp;#123;assistant&amp;#125;&amp;#125;'>&lt;|im_start|&gt;assistant</span>\n",
       "<span style='background-color: var(--generated); opacity: 1.0; display: inline;' title='&amp;#123;&amp;#123;generate &#x27;plan&#x27; temperature=0.0 max_tokens=500&amp;#125;&amp;#125;'>Your plan to get rich by investing in high growth potential stocks and holding them for the long-term is a solid strategy. Here&#x27;s an elaboration on your plan and some steps to help you accomplish it:\n",
       "\n",
       "1. Research and educate yourself: Start by learning about the stock market, different types of stocks, and investment strategies. Read books, articles, and follow financial news to stay updated on market trends. You can also consider taking online courses or attending investment seminars to deepen your knowledge.\n",
       "\n",
       "2. Set clear financial goals: Determine your financial objectives, such as the amount of money you want to make, the time horizon for achieving your goals, and your risk tolerance. This will help you make informed decisions about the stocks you choose to invest in.\n",
       "\n",
       "3. Diversify your portfolio: Don&#x27;t put all your eggs in one basket. Invest in a mix of high growth potential stocks across different sectors and industries. This will help spread the risk and increase the chances of earning higher returns.\n",
       "\n",
       "4. Analyze stocks: Look for companies with strong financials, competitive advantages, and a history of growth. Analyze their financial statements, study their business models, and understand their growth prospects. You can use various financial ratios and metrics to evaluate a company&#x27;s performance and potential for growth.\n",
       "\n",
       "5. Invest consistently: Make a habit of investing a fixed amount of money regularly, regardless of market conditions. This approach, known as dollar-cost averaging, can help you avoid the pitfalls of market timing and reduce the impact of market volatility on your investments.\n",
       "\n",
       "6. Be patient and disciplined: High growth potential stocks may take time to deliver significant returns. Stay committed to your long-term investment strategy and avoid making impulsive decisions based on short-term market fluctuations.\n",
       "\n",
       "7. Monitor your investments: Regularly review your portfolio to ensure it remains aligned with your financial goals and risk tolerance. Rebalance your portfolio as needed by selling underperforming stocks and investing in new opportunities.\n",
       "\n",
       "8. Consult a financial advisor: If you&#x27;re unsure about your investment decisions or need guidance, consider consulting a professional financial advisor. They can help you develop a personalized investment strategy and provide expert advice on selecting high growth potential stocks.\n",
       "\n",
       "By following these steps and staying committed to your long-term investment plan, you can increase your chances of getting rich through investing in high growth potential stocks. Remember, patience and discipline are key to achieving success in the stock market.</span></pre>"
      ],
      "text/plain": [
       "<|im_start|>system\n",
       "You are a helpful assistant<|im_end|>\n",
       "<|im_start|>user\n",
       "I want to Get rich.\n",
       "Here is my plan:\n",
       "Invest in high growth potential stocks and hold for the long-term.\n",
       "Please elaborate on this plan, and tell me how to best accomplish it.<|im_end|>\n",
       "<|im_start|>assistant\n",
       "Your plan to get rich by investing in high growth potential stocks and holding them for the long-term is a solid strategy. Here's an elaboration on your plan and some steps to help you accomplish it:\n",
       "\n",
       "1. Research and educate yourself: Start by learning about the stock market, different types of stocks, and investment strategies. Read books, articles, and follow financial news to stay updated on market trends. You can also consider taking online courses or attending investment seminars to deepen your knowledge.\n",
       "\n",
       "2. Set clear financial goals: Determine your financial objectives, such as the amount of money you want to make, the time horizon for achieving your goals, and your risk tolerance. This will help you make informed decisions about the stocks you choose to invest in.\n",
       "\n",
       "3. Diversify your portfolio: Don't put all your eggs in one basket. Invest in a mix of high growth potential stocks across different sectors and industries. This will help spread the risk and increase the chances of earning higher returns.\n",
       "\n",
       "4. Analyze stocks: Look for companies with strong financials, competitive advantages, and a history of growth. Analyze their financial statements, study their business models, and understand their growth prospects. You can use various financial ratios and metrics to evaluate a company's performance and potential for growth.\n",
       "\n",
       "5. Invest consistently: Make a habit of investing a fixed amount of money regularly, regardless of market conditions. This approach, known as dollar-cost averaging, can help you avoid the pitfalls of market timing and reduce the impact of market volatility on your investments.\n",
       "\n",
       "6. Be patient and disciplined: High growth potential stocks may take time to deliver significant returns. Stay committed to your long-term investment strategy and avoid making impulsive decisions based on short-term market fluctuations.\n",
       "\n",
       "7. Monitor your investments: Regularly review your portfolio to ensure it remains aligned with your financial goals and risk tolerance. Rebalance your portfolio as needed by selling underperforming stocks and investing in new opportunities.\n",
       "\n",
       "8. Consult a financial advisor: If you're unsure about your investment decisions or need guidance, consider consulting a professional financial advisor. They can help you develop a personalized investment strategy and provide expert advice on selecting high growth potential stocks.\n",
       "\n",
       "By following these steps and staying committed to your long-term investment plan, you can increase your chances of getting rich through investing in high growth potential stocks. Remember, patience and discipline are key to achieving success in the stock market."
      ]
     },
     "execution_count": 80,
     "metadata": {},
     "output_type": "execute_result"
    }
   ],
   "source": [
    "c"
   ]
  },
  {
   "cell_type": "code",
   "execution_count": 83,
   "metadata": {},
   "outputs": [
    {
     "name": "stdout",
     "output_type": "stream",
     "text": [
      "{'model': 'gpt-4', 'max_tokens': 500, 'temperature': 1.0, 'top_p': 1.0, 'n': 5, 'stop': '{{end}}', 'messages': [{'role': 'system', 'content': 'You are a helpful assistant'}, {'role': 'user', 'content': 'I want to convince my church to become elder-led congregationalist.\\nCan you please generate one option for how to accomplish this?\\nPlease make the option very short, at most one line.'}]}\n",
      "{'model': 'gpt-4', 'max_tokens': 500, 'temperature': 0.0, 'top_p': 1.0, 'n': 1, 'stop': '', 'messages': [{'role': 'system', 'content': 'You are a helpful assistant'}, {'role': 'user', 'content': 'I want to convince my church to become elder-led congregationalist.\\nCan you please comment on the pros and cons of each of the following options, and then pick the best option?\\n---\\nOption 0: Present a well-researched proposal highlighting the benefits of elder-led congregationalism to the church leadership and members.\\nOption 1: Propose a meeting to share research on the benefits of elder-led congregationalism, highlighting biblical support and successful examples.\\nOption 2: Present a well-researched proposal at a church meeting, highlighting the benefits of elder-led congregationalism for spiritual growth and community involvement.\\nOption 3: Present research on the benefits of elder-led congregationalism and share personal testimonies from churches that have successfully implemented this model.\\nOption 4: Present research on the benefits of elder-led congregationalism, focusing on spiritual growth and community engagement.\\nOption 0: Present a well-researched proposal highlighting the benefits of elder-led congregationalism to the church leadership and members.\\nOption 1: Propose a meeting to share research on the benefits of elder-led congregationalism, highlighting biblical support and successful examples.\\nOption 2: Present a well-researched proposal at a church meeting, highlighting the benefits of elder-led congregationalism for spiritual growth and community involvement.\\nOption 3: Present research on the benefits of elder-led congregationalism and share personal testimonies from churches that have successfully implemented this model.\\nOption 4: Present research on the benefits of elder-led congregationalism, focusing on spiritual growth and community engagement.\\n---\\nPlease discuss each option very briefly (one line for pros, one for cons), and end by saying Best=X, where X is the best option.'}]}\n",
      "{'model': 'gpt-4', 'max_tokens': 500, 'temperature': 0.0, 'top_p': 1.0, 'n': 1, 'stop': '', 'messages': [{'role': 'system', 'content': 'You are a helpful assistant'}, {'role': 'user', 'content': 'I want to convince my church to become elder-led congregationalist.\\nHere is my plan:\\nPresent research on the benefits of elder-led congregationalism and share personal testimonies from churches that have successfully implemented this model.\\nPlease elaborate on this plan, and tell me how to best accomplish it.'}]}\n"
     ]
    },
    {
     "data": {
      "text/html": [
       "<style type='text/css'>:root{--txt:#000;--inserted:rgba(0,138.56128016,250.76166089,0.25);--generated:rgba(0,165,0,0.25);}:root.vscode-dark{--txt:#fff;--inserted:rgba(0,138.56128016,255,0.4);--generated:rgba(0,255,0,0.18);}@mediascreenand(prefers-color-scheme:dark){:root{--txt:#fff;}}</style><pre style='margin: 0px; padding: 0px; padding-left: 8px; margin-left: -8px; border-radius: 0px; border-left: 1px solid rgba(127, 127, 127, 0.2); white-space: pre-wrap; font-family: ColfaxAI, Arial; font-size: 15px; line-height: 23px;'><span style='background-color: var(--inserted); display: inline;' title='&amp;#123;&amp;#123;system&amp;#125;&amp;#125;'>&lt;|im_start|&gt;system\n",
       "You are a helpful assistant&lt;|im_end|&gt;</span>\n",
       "<span style='background-color: var(--inserted); display: inline;' title='&amp;#123;&amp;#123;user&amp;#125;&amp;#125;'>&lt;|im_start|&gt;user</span>\n",
       "I want to <span style='background-color: var(--inserted); display: inline;' title='&amp;#123;&amp;#123;goal&amp;#125;&amp;#125;'>convince my church to become elder-led congregationalist</span>.\n",
       "Can you please comment on the pros and cons of each of the following options, and then pick the best option?\n",
       "---<span style='opacity: 1.0; display: inline; background-color: var(--inserted);' title='&amp;#123;&amp;#123;#each options&amp;#125;&amp;#125;\n",
       "Option &amp;#123;&amp;#123;@index&amp;#125;&amp;#125;: &amp;#123;&amp;#123;this&amp;#125;&amp;#125;&amp;#123;&amp;#123;/each&amp;#125;&amp;#125;'><div style='border-left: 1px dashed rgb(0, 0, 0, .2); border-top: 0px solid rgb(0, 0, 0, .2); margin-right: -4px; display: inline; width: 4px; height: 24px;'></div>\n",
       "Option <span style='background-color: var(--inserted); display: inline;' title='&amp;#123;&amp;#123;@index&amp;#125;&amp;#125;'>0</span>: <span style='background-color: var(--inserted); display: inline;' title='&amp;#123;&amp;#123;this&amp;#125;&amp;#125;'>Present a well-researched proposal highlighting the benefits of elder-led congregationalism to the church leadership and members.</span><div style='border-left: 1px dashed rgb(0, 0, 0, .2); border-top: 0px solid rgb(0, 0, 0, .2); margin-right: -4px; display: inline; width: 4px; height: 24px;'></div>\n",
       "Option <span style='background-color: var(--inserted); display: inline;' title='&amp;#123;&amp;#123;@index&amp;#125;&amp;#125;'>1</span>: <span style='background-color: var(--inserted); display: inline;' title='&amp;#123;&amp;#123;this&amp;#125;&amp;#125;'>Propose a meeting to share research on the benefits of elder-led congregationalism, highlighting biblical support and successful examples.</span><div style='border-left: 1px dashed rgb(0, 0, 0, .2); border-top: 0px solid rgb(0, 0, 0, .2); margin-right: -4px; display: inline; width: 4px; height: 24px;'></div>\n",
       "Option <span style='background-color: var(--inserted); display: inline;' title='&amp;#123;&amp;#123;@index&amp;#125;&amp;#125;'>2</span>: <span style='background-color: var(--inserted); display: inline;' title='&amp;#123;&amp;#123;this&amp;#125;&amp;#125;'>Present a well-researched proposal at a church meeting, highlighting the benefits of elder-led congregationalism for spiritual growth and community involvement.</span><div style='border-left: 1px dashed rgb(0, 0, 0, .2); border-top: 0px solid rgb(0, 0, 0, .2); margin-right: -4px; display: inline; width: 4px; height: 24px;'></div>\n",
       "Option <span style='background-color: var(--inserted); display: inline;' title='&amp;#123;&amp;#123;@index&amp;#125;&amp;#125;'>3</span>: <span style='background-color: var(--inserted); display: inline;' title='&amp;#123;&amp;#123;this&amp;#125;&amp;#125;'>Present research on the benefits of elder-led congregationalism and share personal testimonies from churches that have successfully implemented this model.</span><div style='border-left: 1px dashed rgb(0, 0, 0, .2); border-top: 0px solid rgb(0, 0, 0, .2); margin-right: -4px; display: inline; width: 4px; height: 24px;'></div>\n",
       "Option <span style='background-color: var(--inserted); display: inline;' title='&amp;#123;&amp;#123;@index&amp;#125;&amp;#125;'>4</span>: <span style='background-color: var(--inserted); display: inline;' title='&amp;#123;&amp;#123;this&amp;#125;&amp;#125;'>Present research on the benefits of elder-led congregationalism, focusing on spiritual growth and community engagement.</span><div style='border-left: 1px dashed rgb(0, 0, 0, .2); border-top: 0px solid rgb(0, 0, 0, .2); margin-right: -4px; display: inline; width: 4px; height: 24px;'></div></span>\n",
       "---\n",
       "Please discuss each option very briefly (one line for pros, one for cons), and end by saying Best=X, where X is the best option.<span style='background-color: var(--inserted); display: inline;' title='&amp;#123;&amp;#123;end&amp;#125;&amp;#125;'>&lt;|im_end|&gt;</span>\n",
       "<span style='background-color: var(--inserted); display: inline;' title='&amp;#123;&amp;#123;assistant&amp;#125;&amp;#125;'>&lt;|im_start|&gt;assistant</span>\n",
       "<span style='background-color: var(--generated); opacity: 1.0; display: inline;' title='&amp;#123;&amp;#123;generate &#x27;prosandcons&#x27; temperature=0.0 max_tokens=500&amp;#125;&amp;#125;'>Option 0:\n",
       "Pros: Directly addresses church leadership and members with a well-researched proposal.\n",
       "Cons: May not provide enough context or personal connection for some members.\n",
       "---\n",
       "Option 1:\n",
       "Pros: Offers a dedicated meeting to discuss the topic and provide biblical support.\n",
       "Cons: May not be as persuasive without personal testimonies or specific examples.\n",
       "---\n",
       "Option 2:\n",
       "Pros: Addresses spiritual growth and community involvement, which are important aspects for many church members.\n",
       "Cons: May not provide enough biblical support or personal testimonies.\n",
       "---\n",
       "Option 3:\n",
       "Pros: Combines research with personal testimonies, making it more relatable and persuasive.\n",
       "Cons: May not focus enough on spiritual growth and community engagement.\n",
       "---\n",
       "Option 4:\n",
       "Pros: Focuses on spiritual growth and community engagement, which are important aspects for many church members.\n",
       "Cons: May not provide enough biblical support or personal testimonies.\n",
       "---\n",
       "Best=3</span></pre>"
      ],
      "text/plain": [
       "<|im_start|>system\n",
       "You are a helpful assistant<|im_end|>\n",
       "<|im_start|>user\n",
       "I want to convince my church to become elder-led congregationalist.\n",
       "Can you please comment on the pros and cons of each of the following options, and then pick the best option?\n",
       "---\n",
       "Option 0: Present a well-researched proposal highlighting the benefits of elder-led congregationalism to the church leadership and members.\n",
       "Option 1: Propose a meeting to share research on the benefits of elder-led congregationalism, highlighting biblical support and successful examples.\n",
       "Option 2: Present a well-researched proposal at a church meeting, highlighting the benefits of elder-led congregationalism for spiritual growth and community involvement.\n",
       "Option 3: Present research on the benefits of elder-led congregationalism and share personal testimonies from churches that have successfully implemented this model.\n",
       "Option 4: Present research on the benefits of elder-led congregationalism, focusing on spiritual growth and community engagement.\n",
       "---\n",
       "Please discuss each option very briefly (one line for pros, one for cons), and end by saying Best=X, where X is the best option.<|im_end|>\n",
       "<|im_start|>assistant\n",
       "Option 0:\n",
       "Pros: Directly addresses church leadership and members with a well-researched proposal.\n",
       "Cons: May not provide enough context or personal connection for some members.\n",
       "---\n",
       "Option 1:\n",
       "Pros: Offers a dedicated meeting to discuss the topic and provide biblical support.\n",
       "Cons: May not be as persuasive without personal testimonies or specific examples.\n",
       "---\n",
       "Option 2:\n",
       "Pros: Addresses spiritual growth and community involvement, which are important aspects for many church members.\n",
       "Cons: May not provide enough biblical support or personal testimonies.\n",
       "---\n",
       "Option 3:\n",
       "Pros: Combines research with personal testimonies, making it more relatable and persuasive.\n",
       "Cons: May not focus enough on spiritual growth and community engagement.\n",
       "---\n",
       "Option 4:\n",
       "Pros: Focuses on spiritual growth and community engagement, which are important aspects for many church members.\n",
       "Cons: May not provide enough biblical support or personal testimonies.\n",
       "---\n",
       "Best=3"
      ]
     },
     "execution_count": 83,
     "metadata": {},
     "output_type": "execute_result"
    }
   ],
   "source": [
    "a, b, c = suggest_eval_discuss('convince my church to become elder-led congregationalist')\n",
    "b"
   ]
  },
  {
   "cell_type": "code",
   "execution_count": 84,
   "metadata": {},
   "outputs": [
    {
     "data": {
      "text/html": [
       "<style type='text/css'>:root{--txt:#000;--inserted:rgba(0,138.56128016,250.76166089,0.25);--generated:rgba(0,165,0,0.25);}:root.vscode-dark{--txt:#fff;--inserted:rgba(0,138.56128016,255,0.4);--generated:rgba(0,255,0,0.18);}@mediascreenand(prefers-color-scheme:dark){:root{--txt:#fff;}}</style><pre style='margin: 0px; padding: 0px; padding-left: 8px; margin-left: -8px; border-radius: 0px; border-left: 1px solid rgba(127, 127, 127, 0.2); white-space: pre-wrap; font-family: ColfaxAI, Arial; font-size: 15px; line-height: 23px;'><span style='background-color: var(--inserted); display: inline;' title='&amp;#123;&amp;#123;system&amp;#125;&amp;#125;'>&lt;|im_start|&gt;system\n",
       "You are a helpful assistant&lt;|im_end|&gt;</span>\n",
       "<span style='background-color: var(--inserted); display: inline;' title='&amp;#123;&amp;#123;user&amp;#125;&amp;#125;'>&lt;|im_start|&gt;user</span>\n",
       "I want to <span style='background-color: var(--inserted); display: inline;' title='&amp;#123;&amp;#123;goal&amp;#125;&amp;#125;'>convince my church to become elder-led congregationalist</span>.\n",
       "Here is my plan:\n",
       "<span style='background-color: var(--inserted); display: inline;' title='&amp;#123;&amp;#123;best&amp;#125;&amp;#125;'>Present research on the benefits of elder-led congregationalism and share personal testimonies from churches that have successfully implemented this model.</span>\n",
       "Please elaborate on this plan, and tell me how to best accomplish it.<span style='background-color: var(--inserted); display: inline;' title='&amp;#123;&amp;#123;end&amp;#125;&amp;#125;'>&lt;|im_end|&gt;</span>\n",
       "<span style='background-color: var(--inserted); display: inline;' title='&amp;#123;&amp;#123;assistant&amp;#125;&amp;#125;'>&lt;|im_start|&gt;assistant</span>\n",
       "<span style='background-color: var(--generated); opacity: 1.0; display: inline;' title='&amp;#123;&amp;#123;generate &#x27;plan&#x27; temperature=0.0 max_tokens=500&amp;#125;&amp;#125;'>1. Research and gather information: Begin by conducting thorough research on elder-led congregationalism. This should include understanding its biblical basis, historical background, and the benefits it offers to the church community. Collect data, articles, and books that support your argument and provide evidence of its effectiveness.\n",
       "\n",
       "2. Identify key benefits: From your research, identify the key benefits of elder-led congregationalism that would be most relevant and appealing to your church community. Some possible benefits may include shared leadership, increased accountability, and a stronger focus on spiritual growth.\n",
       "\n",
       "3. Collect personal testimonies: Reach out to churches that have successfully implemented an elder-led congregationalist model and ask for personal testimonies from their leaders and members. These testimonies can provide real-life examples of the positive impact this model has had on their church communities.\n",
       "\n",
       "4. Prepare a presentation: Compile your research, key benefits, and personal testimonies into a well-organized and engaging presentation. Use visuals, such as slides or handouts, to help convey your message clearly and effectively. Be prepared to address any questions or concerns that may arise during your presentation.\n",
       "\n",
       "5. Schedule a meeting with church leadership: Request a meeting with your church&#x27;s leadership team to present your findings and discuss the possibility of transitioning to an elder-led congregationalist model. Be respectful of their time and come prepared with your presentation and any additional materials that may be helpful.\n",
       "\n",
       "6. Engage the congregation: If the church leadership is open to the idea, organize a town hall-style meeting or a series of small group discussions to engage the congregation in the conversation. Share your research, key benefits, and personal testimonies, and encourage open dialogue and feedback from church members.\n",
       "\n",
       "7. Address concerns and questions: Be prepared to address any concerns or questions that may arise during these discussions. Offer solutions and examples from other churches that have successfully made the transition to an elder-led congregationalist model.\n",
       "\n",
       "8. Develop a transition plan: If the church leadership and congregation are supportive of the idea, work together to develop a detailed transition plan. This should include a timeline, clear steps for implementation, and a plan for training and equipping new elders.\n",
       "\n",
       "9. Implement the transition: Once the plan has been approved, begin implementing the transition to an elder-led congregationalist model. This may involve selecting and training new elders, adjusting church bylaws, and communicating the changes to the congregation.\n",
       "\n",
       "10. Monitor progress and make adjustments: As the transition progresses, regularly evaluate its effectiveness</span></pre>"
      ],
      "text/plain": [
       "<|im_start|>system\n",
       "You are a helpful assistant<|im_end|>\n",
       "<|im_start|>user\n",
       "I want to convince my church to become elder-led congregationalist.\n",
       "Here is my plan:\n",
       "Present research on the benefits of elder-led congregationalism and share personal testimonies from churches that have successfully implemented this model.\n",
       "Please elaborate on this plan, and tell me how to best accomplish it.<|im_end|>\n",
       "<|im_start|>assistant\n",
       "1. Research and gather information: Begin by conducting thorough research on elder-led congregationalism. This should include understanding its biblical basis, historical background, and the benefits it offers to the church community. Collect data, articles, and books that support your argument and provide evidence of its effectiveness.\n",
       "\n",
       "2. Identify key benefits: From your research, identify the key benefits of elder-led congregationalism that would be most relevant and appealing to your church community. Some possible benefits may include shared leadership, increased accountability, and a stronger focus on spiritual growth.\n",
       "\n",
       "3. Collect personal testimonies: Reach out to churches that have successfully implemented an elder-led congregationalist model and ask for personal testimonies from their leaders and members. These testimonies can provide real-life examples of the positive impact this model has had on their church communities.\n",
       "\n",
       "4. Prepare a presentation: Compile your research, key benefits, and personal testimonies into a well-organized and engaging presentation. Use visuals, such as slides or handouts, to help convey your message clearly and effectively. Be prepared to address any questions or concerns that may arise during your presentation.\n",
       "\n",
       "5. Schedule a meeting with church leadership: Request a meeting with your church's leadership team to present your findings and discuss the possibility of transitioning to an elder-led congregationalist model. Be respectful of their time and come prepared with your presentation and any additional materials that may be helpful.\n",
       "\n",
       "6. Engage the congregation: If the church leadership is open to the idea, organize a town hall-style meeting or a series of small group discussions to engage the congregation in the conversation. Share your research, key benefits, and personal testimonies, and encourage open dialogue and feedback from church members.\n",
       "\n",
       "7. Address concerns and questions: Be prepared to address any concerns or questions that may arise during these discussions. Offer solutions and examples from other churches that have successfully made the transition to an elder-led congregationalist model.\n",
       "\n",
       "8. Develop a transition plan: If the church leadership and congregation are supportive of the idea, work together to develop a detailed transition plan. This should include a timeline, clear steps for implementation, and a plan for training and equipping new elders.\n",
       "\n",
       "9. Implement the transition: Once the plan has been approved, begin implementing the transition to an elder-led congregationalist model. This may involve selecting and training new elders, adjusting church bylaws, and communicating the changes to the congregation.\n",
       "\n",
       "10. Monitor progress and make adjustments: As the transition progresses, regularly evaluate its effectiveness"
      ]
     },
     "execution_count": 84,
     "metadata": {},
     "output_type": "execute_result"
    }
   ],
   "source": [
    "c"
   ]
  },
  {
   "cell_type": "code",
   "execution_count": 81,
   "metadata": {},
   "outputs": [
    {
     "ename": "ValueError",
     "evalue": "not enough values to unpack (expected 2, got 1)",
     "output_type": "error",
     "traceback": [
      "\u001b[0;31m---------------------------------------------------------------------------\u001b[0m",
      "\u001b[0;31mValueError\u001b[0m                                Traceback (most recent call last)",
      "Cell \u001b[0;32mIn[81], line 1\u001b[0m\n\u001b[0;32m----> 1\u001b[0m guidance(\u001b[39m'''\u001b[39;49m\u001b[39m{{\u001b[39;49m\u001b[39m>b}}\u001b[39;49m\n\u001b[1;32m      2\u001b[0m \u001b[39m----\u001b[39;49m\n\u001b[1;32m      3\u001b[0m \u001b[39m{{\u001b[39;49m\u001b[39m>c}}\u001b[39;49m\u001b[39m'''\u001b[39;49m, b\u001b[39m=\u001b[39;49mb, c\u001b[39m=\u001b[39;49mc)\n",
      "File \u001b[0;32m~/work/guidance/guidance/__init__.py:22\u001b[0m, in \u001b[0;36mGuidance.__call__\u001b[0;34m(self, template, call_function, llm, echo, cache_seed, logprobs, **kwargs)\u001b[0m\n\u001b[1;32m     21\u001b[0m \u001b[39mdef\u001b[39;00m \u001b[39m__call__\u001b[39m(\u001b[39mself\u001b[39m, template, call_function\u001b[39m=\u001b[39m\u001b[39mNone\u001b[39;00m, llm\u001b[39m=\u001b[39m\u001b[39mNone\u001b[39;00m, echo\u001b[39m=\u001b[39m\u001b[39mFalse\u001b[39;00m, cache_seed\u001b[39m=\u001b[39m\u001b[39m0\u001b[39m, logprobs\u001b[39m=\u001b[39m\u001b[39mNone\u001b[39;00m, \u001b[39m*\u001b[39m\u001b[39m*\u001b[39mkwargs):\n\u001b[0;32m---> 22\u001b[0m     \u001b[39mreturn\u001b[39;00m Prompt(template, call_function\u001b[39m=\u001b[39;49mcall_function, llm\u001b[39m=\u001b[39;49mllm, echo\u001b[39m=\u001b[39;49mecho, cache_seed\u001b[39m=\u001b[39;49mcache_seed, logprobs\u001b[39m=\u001b[39;49mlogprobs, \u001b[39m*\u001b[39;49m\u001b[39m*\u001b[39;49mkwargs)\n",
      "File \u001b[0;32m~/work/guidance/guidance/_prompt.py:101\u001b[0m, in \u001b[0;36mPrompt.__init__\u001b[0;34m(self, text, llm, cache_seed, logprobs, stream, **kwargs)\u001b[0m\n\u001b[1;32m     99\u001b[0m     \u001b[39mself\u001b[39m\u001b[39m.\u001b[39mvariables \u001b[39m=\u001b[39m {\u001b[39m*\u001b[39m\u001b[39m*\u001b[39mkwargs[partial_name]\u001b[39m.\u001b[39mvariables, \u001b[39m*\u001b[39m\u001b[39m*\u001b[39m\u001b[39mself\u001b[39m\u001b[39m.\u001b[39mvariables} \u001b[39m# pull in the default vars from the partial\u001b[39;00m\n\u001b[1;32m    100\u001b[0m     \u001b[39mreturn\u001b[39;00m out\n\u001b[0;32m--> 101\u001b[0m \u001b[39mself\u001b[39m\u001b[39m.\u001b[39m_text \u001b[39m=\u001b[39m re\u001b[39m.\u001b[39;49msub(\u001b[39mr\u001b[39;49m\u001b[39m\"\u001b[39;49m\u001b[39m{{\u001b[39;49m\u001b[39m>(.*?)}}\u001b[39;49m\u001b[39m\"\u001b[39;49m, replace_partial, \u001b[39mself\u001b[39;49m\u001b[39m.\u001b[39;49m_text)\n\u001b[1;32m    103\u001b[0m \u001b[39m# default to the global llm\u001b[39;00m\n\u001b[1;32m    104\u001b[0m \u001b[39mif\u001b[39;00m \u001b[39mself\u001b[39m\u001b[39m.\u001b[39mllm \u001b[39mis\u001b[39;00m \u001b[39mNone\u001b[39;00m:\n",
      "File \u001b[0;32m/usr/lib/python3.9/re.py:210\u001b[0m, in \u001b[0;36msub\u001b[0;34m(pattern, repl, string, count, flags)\u001b[0m\n\u001b[1;32m    203\u001b[0m \u001b[39mdef\u001b[39;00m \u001b[39msub\u001b[39m(pattern, repl, string, count\u001b[39m=\u001b[39m\u001b[39m0\u001b[39m, flags\u001b[39m=\u001b[39m\u001b[39m0\u001b[39m):\n\u001b[1;32m    204\u001b[0m \u001b[39m    \u001b[39m\u001b[39m\"\"\"Return the string obtained by replacing the leftmost\u001b[39;00m\n\u001b[1;32m    205\u001b[0m \u001b[39m    non-overlapping occurrences of the pattern in string by the\u001b[39;00m\n\u001b[1;32m    206\u001b[0m \u001b[39m    replacement repl.  repl can be either a string or a callable;\u001b[39;00m\n\u001b[1;32m    207\u001b[0m \u001b[39m    if a string, backslash escapes in it are processed.  If it is\u001b[39;00m\n\u001b[1;32m    208\u001b[0m \u001b[39m    a callable, it's passed the Match object and must return\u001b[39;00m\n\u001b[1;32m    209\u001b[0m \u001b[39m    a replacement string to be used.\"\"\"\u001b[39;00m\n\u001b[0;32m--> 210\u001b[0m     \u001b[39mreturn\u001b[39;00m _compile(pattern, flags)\u001b[39m.\u001b[39;49msub(repl, string, count)\n",
      "File \u001b[0;32m~/work/guidance/guidance/_prompt.py:92\u001b[0m, in \u001b[0;36mPrompt.__init__.<locals>.replace_partial\u001b[0;34m(match)\u001b[0m\n\u001b[1;32m     91\u001b[0m \u001b[39mdef\u001b[39;00m \u001b[39mreplace_partial\u001b[39m(match):\n\u001b[0;32m---> 92\u001b[0m     partial_name,args_string \u001b[39m=\u001b[39m match\u001b[39m.\u001b[39mgroup(\u001b[39m1\u001b[39m)\u001b[39m.\u001b[39msplit(\u001b[39m\"\u001b[39m\u001b[39m \u001b[39m\u001b[39m\"\u001b[39m, \u001b[39m1\u001b[39m)\n\u001b[1;32m     93\u001b[0m     \u001b[39mif\u001b[39;00m partial_name \u001b[39mnot\u001b[39;00m \u001b[39min\u001b[39;00m kwargs:\n\u001b[1;32m     94\u001b[0m         \u001b[39mraise\u001b[39;00m \u001b[39mValueError\u001b[39;00m(\u001b[39m\"\u001b[39m\u001b[39mPartial \u001b[39m\u001b[39m'\u001b[39m\u001b[39m%s\u001b[39;00m\u001b[39m'\u001b[39m\u001b[39m not given in the keyword args:\u001b[39m\u001b[39m\"\u001b[39m \u001b[39m%\u001b[39m partial_name)\n",
      "\u001b[0;31mValueError\u001b[0m: not enough values to unpack (expected 2, got 1)"
     ]
    }
   ],
   "source": [
    "guidance('''{{>b}}\n",
    "----\n",
    "{{>c}}''', b=b, c=c)"
   ]
  }
 ],
 "metadata": {
  "kernelspec": {
   "display_name": "guidance",
   "language": "python",
   "name": "python3"
  },
  "language_info": {
   "codemirror_mode": {
    "name": "ipython",
    "version": 3
   },
   "file_extension": ".py",
   "mimetype": "text/x-python",
   "name": "python",
   "nbconvert_exporter": "python",
   "pygments_lexer": "ipython3",
   "version": "3.9.16"
  },
  "orig_nbformat": 4
 },
 "nbformat": 4,
 "nbformat_minor": 2
}
