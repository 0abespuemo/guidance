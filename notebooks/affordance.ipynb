{
 "cells": [
  {
   "cell_type": "code",
   "execution_count": 2,
   "metadata": {},
   "outputs": [],
   "source": [
    "import guidance\n",
    "import os\n",
    "import diskcache\n",
    "import pathlib\n",
    "import requests\n",
    "import html\n",
    "from urllib.parse import urlparse\n",
    "import urllib.parse\n",
    "import io\n",
    "import html\n",
    "import html.parser\n",
    "\n",
    "curr_dir = './'# pathlib.Path(__file__).parent.resolve()\n",
    "_bing_cache = diskcache.Cache(f\"{curr_dir}/../bing.diskcache\")\n",
    "\n",
    "with open(os.path.expanduser('~/.bing_api_key'), 'r') as file:\n",
    "    subscription_key = file.read().replace('\\n', '')\n",
    "\n",
    "class MLStripper(html.parser.HTMLParser):\n",
    "    def __init__(self):\n",
    "        super().__init__()\n",
    "        self.reset()\n",
    "        self.strict = False\n",
    "        self.convert_charrefs = True\n",
    "        self.text = io.StringIO()\n",
    "    def handle_data(self, d):\n",
    "        self.text.write(d)\n",
    "    def get_data(self):\n",
    "        return self.text.getvalue()\n",
    "\n",
    "def strip_tags(html):\n",
    "    s = MLStripper()\n",
    "    s.feed(html)\n",
    "    return s.get_data()\n",
    "\n",
    "def bing_search(search_terms, count=10):\n",
    "    if type(search_terms) == str:\n",
    "        search_terms = [search_terms]\n",
    "    search_url = \"https://api.bing.microsoft.com/v7.0/search\"\n",
    "    # search_url =\n",
    "#     search_term = \"Who are the founders of OpenAI?\"\n",
    "\n",
    "    headers = {\"Ocp-Apim-Subscription-Key\": subscription_key}\n",
    "    search_results = []\n",
    "    for search_term in search_terms:\n",
    "        params = {\"q\": search_term, \"textDecorations\": True, \"textFormat\": \"HTML\", \"cout\": count}\n",
    "        params_key = search_term + \"-___-\" + str(count)\n",
    "        if params_key not in _bing_cache or \"webPages\" not in _bing_cache[params_key]:\n",
    "            # print(\"SEARCHING BING\")\n",
    "            response = requests.get(search_url, headers=headers, params=params)\n",
    "            response.raise_for_status()\n",
    "            _bing_cache[params_key] = response.json()\n",
    "        # print(type(_bing_cache[params_key]))\n",
    "        # print(list(_bing_cache[params_key]))\n",
    "        # print(_bing_cache[params_key])\n",
    "        # result_batch = _bing_cache[params_key][\"webPages\"][\"value\"]\n",
    "\n",
    "        data = _bing_cache[params_key][\"webPages\"][\"value\"]\n",
    "        for r in data:\n",
    "            r[\"snippet_text\"] = strip_tags(r[\"snippet\"])\n",
    "\n",
    "        search_results.extend(data)\n",
    "\n",
    "    return search_results"
   ]
  },
  {
   "cell_type": "code",
   "execution_count": 3,
   "metadata": {},
   "outputs": [],
   "source": [
    "def top_snippets(query, n=3):\n",
    "    results = bing_search(query, count=n)[:n]\n",
    "    return [{'title': x['name'], 'snippet': x['snippet_text']} for x in results]"
   ]
  },
  {
   "cell_type": "code",
   "execution_count": 4,
   "metadata": {},
   "outputs": [],
   "source": [
    "# llm = guidance.llms.OpenAI(\"text-davinci-003\") # could also specify default temperature here\n",
    "llm = guidance.llms.OpenAI(\"text-davinci-003\") # could also specify default temperature here"
   ]
  },
  {
   "cell_type": "code",
   "execution_count": 11,
   "metadata": {},
   "outputs": [
    {
     "data": {
      "text/plain": [
       "[{'title': 'OpenAI - Wikipedia',\n",
       "  'snippet': 'OpenAI systems run on the fifth most powerful supercomputer in the world. [5] [6] [7] The organization was founded in San Francisco in 2015 by Sam Altman, Reid Hoffman, Jessica Livingston, Elon Musk, Ilya Sutskever, Peter Thiel and others, [8] [1] [9] who collectively pledged US$ 1 billion. Musk resigned from the board in 2018 but remained a donor.'},\n",
       " {'title': 'About - OpenAI',\n",
       "  'snippet': 'About OpenAI is an AI research and deployment company. Our mission is to ensure that artificial general intelligence benefits all of humanity. Our vision for the future of AGI Our mission is to ensure that artificial general intelligence—AI systems that are generally smarter than humans—benefits all of humanity. Read our plan for AGI'},\n",
       " {'title': 'Ilya Sutskever | Stanford HAI',\n",
       "  'snippet': 'Ilya Sutskever is Co-founder and Chief Scientist of OpenAI, which aims to build artificial general intelligence that benefits all of humanity. He leads research at OpenAI and is one of the architects behind the GPT models. Prior to OpenAI, Ilya was co-inventor of AlexNet and Sequence to Sequence Learning.'}]"
      ]
     },
     "execution_count": 11,
     "metadata": {},
     "output_type": "execute_result"
    }
   ],
   "source": [
    "top_snippets('openai founders')"
   ]
  },
  {
   "cell_type": "code",
   "execution_count": 43,
   "metadata": {},
   "outputs": [
    {
     "data": {
      "text/plain": [
       "[{'title': 'How do I cancel a Subscription? | Facebook Help Center',\n",
       "  'snippet': \"To stop a monthly Subscription to a creator: Go to the creator's Facebook Page using the latest version of the Facebook app for iOS, Android or from a computer. Select Go to Supporter Hub. Select . Select Manage Subscription to go to the iTunes or Google Play Store and cancel your subscription. Cancel your Subscription at least 24 hours before ...\"},\n",
       " {'title': 'News | FACEBOOK Stock Price Today | Analyst Opinions - Insider',\n",
       "  'snippet': 'Stock | News | FACEBOOK Stock Price Today | Analyst Opinions | Markets Insider Markets Stocks Indices Commodities Cryptocurrencies Currencies ETFs News Facebook Inc (A) Cert Deposito Arg Repr...'},\n",
       " {'title': 'Facebook Stock Price Today (NASDAQ: META) Quote, Market Cap, Chart ...',\n",
       "  'snippet': 'Facebook Stock Price Today (NASDAQ: META) Quote, Market Cap, Chart | WallStreetZen Meta Platforms Inc Stock Add to Watchlist Overview Forecast Earnings Dividend Ownership Statistics $197.81 +2.20 (+1.12%) Updated Mar 20, 2023 Meta Platforms shares are trading... find out Why META Price Moved with a free WallStreetZen account Why Price Moved'}]"
      ]
     },
     "execution_count": 43,
     "metadata": {},
     "output_type": "execute_result"
    }
   ],
   "source": [
    "top_snippets('facebook stop price')"
   ]
  },
  {
   "cell_type": "code",
   "execution_count": 74,
   "metadata": {},
   "outputs": [
    {
     "data": {
      "text/html": [
       "<style type='text/css'>\n",
       ":root {\n",
       "  --txt: #000;\n",
       "  --inserted: rgba(0, 138.56128016, 250.76166089, 0.25);\n",
       "  --generated: rgba(0, 165, 0, 0.25);\n",
       "}\n",
       "@media screen and (prefers-color-scheme: dark) {\n",
       "  :root {\n",
       "    --txt: #fff;\n",
       "  }\n",
       "}\n",
       "</style><pre style='margin: 0px; padding: 0px; padding-left: 8px; margin-left: -8px; border-radius: 0px; border-left: 1px solid rgba(127, 127, 127, 0.2); white-space: pre-wrap; font-family: ColfaxAI, Arial; font-size: 15px; line-height: 23px;'>&lt;|im_start|&gt;system\n",
       "Assistant is a large language model trained by OpenAI.\n",
       "Whenever its response depends on any factual information, it searches the web by using the function &lt;search&gt;query&lt;/search&gt; before responding to the user.\n",
       "For example, it might start its response with\n",
       "&lt;search&gt;Who are the founders of OpenAI&lt;/search&gt;\n",
       "After which the top snippets from search will be displayed.\n",
       "&lt;|im_end|&gt;<span style='opacity: 1.0; display: inline; background-color: var(--inserted);' title='{{#each history}}\n",
       "&lt;|im_start|&gt;{{this.user}}\n",
       "{{this.utterance}}\n",
       "&lt;|im_end|&gt;{{/each}}'><div style='border-left: 1px dashed rgb(0, 0, 0, .2); border-top: 0px solid rgb(0, 0, 0, .2); margin-right: -4px; display: inline; width: 4px; height: 24px;'></div>\n",
       "&lt;|im_start|&gt;<span style='background-color: var(--inserted); display: inline;' title='{{this.user}}'>user</span>\n",
       "<span style='background-color: var(--inserted); display: inline;' title='{{this.utterance}}'>What is truth?</span>\n",
       "&lt;|im_end|&gt;<div style='border-left: 1px dashed rgb(0, 0, 0, .2); border-top: 0px solid rgb(0, 0, 0, .2); margin-right: -4px; display: inline; width: 4px; height: 24px;'></div>\n",
       "&lt;|im_start|&gt;<span style='background-color: var(--inserted); display: inline;' title='{{this.user}}'>assistant</span>\n",
       "<span style='background-color: var(--inserted); display: inline;' title='{{this.utterance}}'>42</span>\n",
       "&lt;|im_end|&gt;<div style='border-left: 1px dashed rgb(0, 0, 0, .2); border-top: 0px solid rgb(0, 0, 0, .2); margin-right: -4px; display: inline; width: 4px; height: 24px;'></div></span>\n",
       "&lt;|im_start|&gt;user\n",
       "<span style='background-color: var(--inserted); display: inline;' title='{{query}}'>What is Facebook&#x27;s stock price right now?</span>\n",
       "&lt;|im_end|&gt;\n",
       "&lt;|im_start|&gt;assistant<span style='background-color: rgba(165, 165, 165, 0.15); display: inline;' title='{{#block hidden=True}}\n",
       "{{generate &quot;answer&quot; stop=&quot;&lt;/search&gt;&quot;}}{{/block}}'>\n",
       "<span style='background-color: rgba(0, 165, 0, 0.25); opacity: 1.0; display: inline;' title='{{generate &quot;answer&quot; stop=&quot;&lt;/search&gt;&quot;}}'>&lt;search&gt;What is Facebook&#x27;s stock price</span></span><span style='background-color: var(--inserted); display: inline;' title='{{#if (is_search answer)}}&lt;/search&gt;{{#each (search answer)}}\n",
       "&lt;result&gt;\n",
       "{{this.title}}\n",
       "{{this.snippet}}\n",
       "&lt;/result&gt;{{/each}}\n",
       "{{generate &quot;more&quot;}}\n",
       "{{/if}}'>&lt;/search&gt;<span style='opacity: 1.0; display: inline; background-color: var(--inserted);' title='{{#each (search answer)}}\n",
       "&lt;result&gt;\n",
       "{{this.title}}\n",
       "{{this.snippet}}\n",
       "&lt;/result&gt;{{/each}}'><div style='border-left: 1px dashed rgb(0, 0, 0, .2); border-top: 0px solid rgb(0, 0, 0, .2); margin-right: -4px; display: inline; width: 4px; height: 24px;'></div>\n",
       "&lt;result&gt;\n",
       "<span style='background-color: var(--inserted); display: inline;' title='{{this.title}}'>Meta Platforms, Inc. (META) Stock Price, News, Quote &amp;amp; History - Yahoo ...</span>\n",
       "<span style='background-color: var(--inserted); display: inline;' title='{{this.snippet}}'>Meta Platforms, Inc. (META) Stock Price, News, Quote &amp; History - Yahoo Finance U.S. markets closed +239.31(+2.14%) +32.59(+1.87%) (+0.57%) Meta Platforms, Inc. (META) NasdaqGS - NasdaqGS Real...</span>\n",
       "&lt;/result&gt;<div style='border-left: 1px dashed rgb(0, 0, 0, .2); border-top: 0px solid rgb(0, 0, 0, .2); margin-right: -4px; display: inline; width: 4px; height: 24px;'></div>\n",
       "&lt;result&gt;\n",
       "<span style='background-color: var(--inserted); display: inline;' title='{{this.title}}'>News | FACEBOOK Stock Price Today | Analyst Opinions - Insider</span>\n",
       "<span style='background-color: var(--inserted); display: inline;' title='{{this.snippet}}'>Facebook Inc (A) Cert Deposito Arg Repr 1-8 Sh -A- Stock 2,926.00 ARS +5.50 +0.19% Official Close 3/9/2023 BUE Add to watchlist News Analyst Data Analyst Opinions Insider Activity Dividend...</span>\n",
       "&lt;/result&gt;<div style='border-left: 1px dashed rgb(0, 0, 0, .2); border-top: 0px solid rgb(0, 0, 0, .2); margin-right: -4px; display: inline; width: 4px; height: 24px;'></div>\n",
       "&lt;result&gt;\n",
       "<span style='background-color: var(--inserted); display: inline;' title='{{this.title}}'>Facebook Stock Price Today (NASDAQ: META) Quote, Market Cap, Chart ...</span>\n",
       "<span style='background-color: var(--inserted); display: inline;' title='{{this.snippet}}'>Facebook Stock Price Today (NASDAQ: META) Quote, Market Cap, Chart | WallStreetZen Meta Platforms Inc Stock Add to Watchlist Overview Forecast Earnings Dividend Ownership Statistics $179.51 -2.18 (-1.2%) Updated Mar 10, 2023 1W - 3.1% 1M + 3.08% 3M + 56.49% 1Y - 8.04% META Price $179.51 Fair Value Price $184.94 Market Cap $465.40B 52 Week Low</span>\n",
       "&lt;/result&gt;<div style='border-left: 1px dashed rgb(0, 0, 0, .2); border-top: 0px solid rgb(0, 0, 0, .2); margin-right: -4px; display: inline; width: 4px; height: 24px;'></div></span>\n",
       "<span style='background-color: rgba(0, 165, 0, 0.25); opacity: 1.0; display: inline;' title='{{generate &quot;more&quot;}}'>The current stock price of Facebook is $179.51.</span>\n",
       "</span></pre>"
      ],
      "text/plain": [
       "<|im_start|>system\n",
       "Assistant is a large language model trained by OpenAI.\n",
       "Whenever its response depends on any factual information, it searches the web by using the function <search>query</search> before responding to the user.\n",
       "For example, it might start its response with\n",
       "<search>Who are the founders of OpenAI</search>\n",
       "After which the top snippets from search will be displayed.\n",
       "<|im_end|>\n",
       "<|im_start|>user\n",
       "What is truth?\n",
       "<|im_end|>\n",
       "<|im_start|>assistant\n",
       "42\n",
       "<|im_end|>\n",
       "<|im_start|>user\n",
       "What is Facebook's stock price right now?\n",
       "<|im_end|>\n",
       "<|im_start|>assistant\n",
       "<search>What is Facebook's stock price</search>\n",
       "<result>\n",
       "Meta Platforms, Inc. (META) Stock Price, News, Quote &amp; History - Yahoo ...\n",
       "Meta Platforms, Inc. (META) Stock Price, News, Quote & History - Yahoo Finance U.S. markets closed +239.31(+2.14%) +32.59(+1.87%) (+0.57%) Meta Platforms, Inc. (META) NasdaqGS - NasdaqGS Real...\n",
       "</result>\n",
       "<result>\n",
       "News | FACEBOOK Stock Price Today | Analyst Opinions - Insider\n",
       "Facebook Inc (A) Cert Deposito Arg Repr 1-8 Sh -A- Stock 2,926.00 ARS +5.50 +0.19% Official Close 3/9/2023 BUE Add to watchlist News Analyst Data Analyst Opinions Insider Activity Dividend...\n",
       "</result>\n",
       "<result>\n",
       "Facebook Stock Price Today (NASDAQ: META) Quote, Market Cap, Chart ...\n",
       "Facebook Stock Price Today (NASDAQ: META) Quote, Market Cap, Chart | WallStreetZen Meta Platforms Inc Stock Add to Watchlist Overview Forecast Earnings Dividend Ownership Statistics $179.51 -2.18 (-1.2%) Updated Mar 10, 2023 1W - 3.1% 1M + 3.08% 3M + 56.49% 1Y - 8.04% META Price $179.51 Fair Value Price $184.94 Market Cap $465.40B 52 Week Low\n",
       "</result>\n",
       "The current stock price of Facebook is $179.51."
      ]
     },
     "execution_count": 74,
     "metadata": {},
     "output_type": "execute_result"
    }
   ],
   "source": [
    "def is_search(completion):\n",
    "    return '<search>' in completion\n",
    "def search(query):\n",
    "    return top_snippets(query, n=3)\n",
    "prompt = guidance('''<|im_start|>system\n",
    "Assistant is a large language model trained by OpenAI.\n",
    "Whenever its response depends on any factual information, it searches the web by using the function <search>query</search> before responding to the user.\n",
    "For example, it might start its response with\n",
    "<search>Who are the founders of OpenAI</search>\n",
    "After which the top snippets from search will be displayed.\n",
    "<|im_end|>{{#each history}}\n",
    "<|im_start|>{{this.user}}\n",
    "{{this.utterance}}\n",
    "<|im_end|>{{/each}}\n",
    "<|im_start|>user\n",
    "{{query}}\n",
    "<|im_end|>\n",
    "<|im_start|>assistant{{#block hidden=True}}\n",
    "{{generate \"answer\" stop=\"</search>\"}}{{/block}}{{#if (is_search answer)}}</search>{{#each (search answer)}}\n",
    "<result>\n",
    "{{this.title}}\n",
    "{{this.snippet}}\n",
    "</result>{{/each}}\n",
    "{{generate \"more\"}}\n",
    "{{/if}}''', llm=llm)\n",
    "query = \"What is Facebook's stock price right now?\"\n",
    "prompt(is_search=is_search, search=search, query=query,\n",
    "       history=[\n",
    "    {'user': 'user', 'utterance': 'What is truth?'}, \n",
    "    {'user': 'assistant', 'utterance': '42'}\n",
    "    ])"
   ]
  }
 ],
 "metadata": {
  "kernelspec": {
   "display_name": "guidance",
   "language": "python",
   "name": "python3"
  },
  "language_info": {
   "codemirror_mode": {
    "name": "ipython",
    "version": 3
   },
   "file_extension": ".py",
   "mimetype": "text/x-python",
   "name": "python",
   "nbconvert_exporter": "python",
   "pygments_lexer": "ipython3",
   "version": "3.9.16"
  },
  "orig_nbformat": 4
 },
 "nbformat": 4,
 "nbformat_minor": 2
}
