{
 "cells": [
  {
   "attachments": {},
   "cell_type": "markdown",
   "metadata": {},
   "source": [
    "# Using `await` to create agents"
   ]
  },
  {
   "cell_type": "code",
   "execution_count": 1,
   "metadata": {},
   "outputs": [
    {
     "data": {
      "text/plain": [
       "[{'user_text': 'Hello, how are you?'},\n",
       " {'bot_text': \"I'm good, thank you for asking. How about you?\",\n",
       "  'user_text': \"I'm good, too. How are you today?\"},\n",
       " {'bot_text': \"I'm good, thank you for asking. I'm curious, do you have any questions for me?\",\n",
       "  'user_text': 'No, not really. How are you?'},\n",
       " {'bot_text': \"I'm good, thank you for asking. I'm curious, do you have any questions for me?\",\n",
       "  'user_text': 'No, not really. How are you?'},\n",
       " {'bot_text': \"I'm good, thank you for asking. I'm curious, do you have any questions for me?\",\n",
       "  'user_text': 'No, not really. How are you?'},\n",
       " {'bot_text': \"I'm good, thank you for asking. I'm curious, do you have any questions for me?\",\n",
       "  'user_text': 'No, not really. How are you?'},\n",
       " {'bot_text': \"I'm good, thank you for asking. I'm curious, do you have any questions for me?\",\n",
       "  'user_text': 'No, not really. How are you?'},\n",
       " {'bot_text': \"I'm good, thank you for asking. I'm curious, do you have any questions for me?\",\n",
       "  'user_text': 'No, not really. How are you?'},\n",
       " {'bot_text': \"I'm good, thank you for asking. I'm curious, do you have any questions for me?\",\n",
       "  'user_text': 'No, not really. How are you?'},\n",
       " {'bot_text': \"I'm good, thank you for asking. I'm curious, do you have any questions for me?\",\n",
       "  'user_text': 'No, not really. How are you?'},\n",
       " {'bot_text': \"I'm good, thank you for asking. I'm curious, do you have any questions for me?\",\n",
       "  'user_text': 'No, not really. How are you?'},\n",
       " {}]"
      ]
     },
     "execution_count": 1,
     "metadata": {},
     "output_type": "execute_result"
    }
   ],
   "source": [
    "import guidance\n",
    "guidance.llm = guidance.llms.OpenAI(\"text-curie-001\")\n",
    "\n",
    "bot_agent = guidance(r\"\"\"You are an AI bot:\n",
    "{{#each 'conversation'}}\n",
    "User: \"{{set 'this.user_text' (await 'user_text')}}\"\n",
    "AI: \"{{generate 'this.bot_text'}}\"\n",
    "{{/each}}\n",
    "\"\"\")\n",
    "\n",
    "user_agent = guidance(r\"\"\"You are a human user:\n",
    "User: \"{{conversation[0][\"user_text\"]}}\"\n",
    "{{#each 'conversation'}}\n",
    "AI: \"{{set 'this.bot_text' (await 'bot_text')}}\"\n",
    "User: \"{{generate 'this.user_text'}}\"\n",
    "{{/each}}\n",
    "\"\"\")\n",
    "\n",
    "user_agent = user_agent(conversation=[{\"user_text\": \"Hello, how are you?\"}])\n",
    "for i in range(10):\n",
    "    bot_agent = bot_agent(user_text=user_agent[\"conversation\"][-2][\"user_text\"])\n",
    "    user_agent = user_agent(bot_text=bot_agent[\"conversation\"][-2][\"bot_text\"])\n",
    "\n",
    "# dump the whole conversation\n",
    "user_agent[\"conversation\"]"
   ]
  },
  {
   "cell_type": "code",
   "execution_count": null,
   "metadata": {},
   "outputs": [],
   "source": []
  }
 ],
 "metadata": {
  "kernelspec": {
   "display_name": "adatest",
   "language": "python",
   "name": "python3"
  },
  "language_info": {
   "codemirror_mode": {
    "name": "ipython",
    "version": 3
   },
   "file_extension": ".py",
   "mimetype": "text/x-python",
   "name": "python",
   "nbconvert_exporter": "python",
   "pygments_lexer": "ipython3",
   "version": "3.10.4"
  },
  "orig_nbformat": 4
 },
 "nbformat": 4,
 "nbformat_minor": 2
}
