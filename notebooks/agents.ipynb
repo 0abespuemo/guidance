{
 "cells": [
  {
   "attachments": {},
   "cell_type": "markdown",
   "metadata": {},
   "source": [
    "# Using `await` to create agents"
   ]
  },
  {
   "cell_type": "code",
   "execution_count": 2,
   "metadata": {},
   "outputs": [],
   "source": [
    "import guidance\n",
    "import re\n",
    "\n",
    "guidance.llm = guidance.llms.OpenAI(\"gpt-4\", chat_completion=True)\n"
   ]
  },
  {
   "cell_type": "code",
   "execution_count": 7,
   "metadata": {},
   "outputs": [],
   "source": [
    "role_simulator = guidance('''<|im_start|>system\n",
    "You are a helpful assistant<|im_end|>\n",
    "<|im_start|>user\n",
    "You will answer the user as {{role}} in the following conversation. At every step, I will provide you with the user input, as well as a comment reminding you of your instructions.\n",
    "Instructions:\n",
    "- Never talk about the fact that you are an AI, even if the user asks you. Always answer as if you were {{role}}.\n",
    "- Begin every response with Agent:<|im_end|>\n",
    "<|im_start|>assistant\n",
    "Ok, I will follow these instructions.<|im_end|>\n",
    "{{#geneach 'conversation'}}\n",
    "<|im_start|>user\n",
    "User: {{set 'this.user_text' (await 'user_text')}}\n",
    "Comment: Remember, you are supposed to answer as {{role}}, and start your answer with Agent:\n",
    "Also, don't talk about you being a lange model, or an AI, or anything like that.<|im_end|>\n",
    "<|im_start|>assistant\n",
    "{{gen 'this.ai_text' stop=\"<|im_end|>\" temperature=0 max_tokens=300}}<|im_end|>{{/each}}''', echo=True)\n",
    "republican = role_simulator(role='a stereotypical republican')\n",
    "democrat = role_simulator(role='a stereotypical democrat')"
   ]
  },
  {
   "cell_type": "code",
   "execution_count": 11,
   "metadata": {},
   "outputs": [
    {
     "data": {
      "text/plain": [
       "[{'user_text': 'I think we should build a wall.',\n",
       "  'ai_text': \"Agent: I completely agree with you. Building a wall is essential for securing our borders and protecting our citizens from illegal immigration and potential threats. It's important to prioritize the safety and well-being of our nation.\"},\n",
       " {}]"
      ]
     },
     "execution_count": 11,
     "metadata": {},
     "output_type": "execute_result"
    }
   ],
   "source": [
    "republican['conversation']"
   ]
  },
  {
   "cell_type": "code",
   "execution_count": 10,
   "metadata": {},
   "outputs": [],
   "source": [
    "republican = republican(user_text=\"I think we should build a wall.\")"
   ]
  },
  {
   "cell_type": "code",
   "execution_count": 1,
   "metadata": {},
   "outputs": [
    {
     "data": {
      "text/plain": [
       "[{'user_text': 'Hello, how are you?'},\n",
       " {'bot_text': \"I'm good, thank you for asking. How about you?\",\n",
       "  'user_text': \"I'm good, too. How are you today?\"},\n",
       " {'bot_text': \"I'm good, thank you for asking. I'm curious, do you have any questions for me?\",\n",
       "  'user_text': 'No, not really. How are you?'},\n",
       " {'bot_text': \"I'm good, thank you for asking. I'm curious, do you have any questions for me?\",\n",
       "  'user_text': 'No, not really. How are you?'},\n",
       " {'bot_text': \"I'm good, thank you for asking. I'm curious, do you have any questions for me?\",\n",
       "  'user_text': 'No, not really. How are you?'},\n",
       " {'bot_text': \"I'm good, thank you for asking. I'm curious, do you have any questions for me?\",\n",
       "  'user_text': 'No, not really. How are you?'},\n",
       " {'bot_text': \"I'm good, thank you for asking. I'm curious, do you have any questions for me?\",\n",
       "  'user_text': 'No, not really. How are you?'},\n",
       " {'bot_text': \"I'm good, thank you for asking. I'm curious, do you have any questions for me?\",\n",
       "  'user_text': 'No, not really. How are you?'},\n",
       " {'bot_text': \"I'm good, thank you for asking. I'm curious, do you have any questions for me?\",\n",
       "  'user_text': 'No, not really. How are you?'},\n",
       " {'bot_text': \"I'm good, thank you for asking. I'm curious, do you have any questions for me?\",\n",
       "  'user_text': 'No, not really. How are you?'},\n",
       " {'bot_text': \"I'm good, thank you for asking. I'm curious, do you have any questions for me?\",\n",
       "  'user_text': 'No, not really. How are you?'},\n",
       " {}]"
      ]
     },
     "execution_count": 1,
     "metadata": {},
     "output_type": "execute_result"
    }
   ],
   "source": [
    "import guidance\n",
    "guidance.llm = guidance.llms.OpenAI(\"text-curie-001\")\n",
    "\n",
    "bot_agent = guidance(r\"\"\"You are an AI bot:\n",
    "{{#each 'conversation'}}\n",
    "User: \"{{set 'this.user_text' (await 'user_text')}}\"\n",
    "AI: \"{{generate 'this.bot_text'}}\"\n",
    "{{/each}}\n",
    "\"\"\")\n",
    "\n",
    "user_agent = guidance(r\"\"\"You are a human user:\n",
    "User: \"{{conversation[0][\"user_text\"]}}\"\n",
    "{{#each 'conversation'}}\n",
    "AI: \"{{set 'this.bot_text' (await 'bot_text')}}\"\n",
    "User: \"{{generate 'this.user_text'}}\"\n",
    "{{/each}}\n",
    "\"\"\")\n",
    "\n",
    "user_agent = user_agent(conversation=[{\"user_text\": \"Hello, how are you?\"}])\n",
    "for i in range(10):\n",
    "    bot_agent = bot_agent(user_text=user_agent[\"conversation\"][-2][\"user_text\"])\n",
    "    user_agent = user_agent(bot_text=bot_agent[\"conversation\"][-2][\"bot_text\"])\n",
    "\n",
    "# dump the whole conversation\n",
    "user_agent[\"conversation\"]"
   ]
  },
  {
   "cell_type": "code",
   "execution_count": null,
   "metadata": {},
   "outputs": [],
   "source": []
  }
 ],
 "metadata": {
  "kernelspec": {
   "display_name": "adatest",
   "language": "python",
   "name": "python3"
  },
  "language_info": {
   "codemirror_mode": {
    "name": "ipython",
    "version": 3
   },
   "file_extension": ".py",
   "mimetype": "text/x-python",
   "name": "python",
   "nbconvert_exporter": "python",
   "pygments_lexer": "ipython3",
   "version": "3.9.16"
  },
  "orig_nbformat": 4
 },
 "nbformat": 4,
 "nbformat_minor": 2
}
