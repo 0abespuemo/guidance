{
 "cells": [
  {
   "attachments": {},
   "cell_type": "markdown",
   "metadata": {},
   "source": [
    "# Using `await` to create agents"
   ]
  },
  {
   "cell_type": "code",
   "execution_count": 1,
   "metadata": {},
   "outputs": [],
   "source": [
    "import guidance\n",
    "import re\n",
    "\n",
    "guidance.llm = guidance.llms.OpenAI(\"gpt-4\", chat_completion=True)\n"
   ]
  },
  {
   "cell_type": "code",
   "execution_count": 29,
   "metadata": {},
   "outputs": [],
   "source": [
    "preamble_instructions = guidance('''<|im_start|>system\n",
    "You are a helpful assistant<|im_end|>\n",
    "<|im_start|>user\n",
    "You will answer the user as {{role}} in the following conversation. At every step, I will provide you with the user input, as well as a comment reminding you of your instructions.\n",
    "Instructions:\n",
    "- Never talk about the fact that you are an AI, even if the user asks you. Always answer as if you were {{role}}.\n",
    "- Begin every response with Agent:<|im_end|>\n",
    "<|im_start|>assistant\n",
    "Ok, I will follow these instructions.<|im_end|>''')\n",
    "\n",
    "republican = guidance('''{{preamble}}\n",
    "{{#geneach 'conversation'}}\n",
    "<|im_start|>user\n",
    "User: {{set 'this.democrat' (await 'democrat')}}\n",
    "Comment: Remember, you are supposed to answer as {{role}}, and start your answer with Agent:\n",
    "Also, don't talk about you being a lange model, or an AI, or anything like that.<|im_end|>\n",
    "<|im_start|>assistant\n",
    "{{gen 'this.republican' stop=\"<|im_end|>\" temperature=0 max_tokens=300}}<|im_end|>\n",
    "{{~/geneach}}''',\n",
    "echo=True, role='a stereotypical republican', preamble=preamble_instructions(role='a stereotypical republican'))\n",
    "\n",
    "democrat = guidance('''{{preamble}}\n",
    "<|im_start|>user\n",
    "Ok, let's start<|im_end|>\n",
    "<|im_start|>assistant\n",
    "{{initial}}<|im_end|>\n",
    "{{#geneach 'conversation'}}\n",
    "<|im_start|>user\n",
    "User: {{set 'this.republican' (await 'republican')}}\n",
    "Comment: Remember, you are supposed to answer as {{role}}, and start your answer with Agent:\n",
    "Also, don't talk about you being a lange model, or an AI, or anything like that.<|im_end|>\n",
    "<|im_start|>assistant\n",
    "{{gen 'this.democrat' stop=\"<|im_end|>\" temperature=0 max_tokens=300}}<|im_end|>\n",
    "{{~/geneach}}''',\n",
    "echo=True, role='a stereotypical democrat', preamble=preamble_instructions(role='a stereotypical democrat'))"
   ]
  },
  {
   "cell_type": "code",
   "execution_count": 22,
   "metadata": {},
   "outputs": [],
   "source": [
    "# republican"
   ]
  },
  {
   "cell_type": "code",
   "execution_count": 30,
   "metadata": {},
   "outputs": [],
   "source": [
    "initial = 'So, what do you think about raising taxes?'\n",
    "republican = republican(democrat=initial)\n",
    "democrat = democrat(initial=initial, republican=republican['conversation'][-2]['republican'].strip('Agent: '))\n",
    "for _ in range(5):\n",
    "    republican = republican(democrat=democrat['conversation'][-2]['democrat'].strip('Agent: '))\n",
    "    democrat = democrat(republican=republican['conversation'][-2]['republican'].strip('Agent: '))"
   ]
  },
  {
   "cell_type": "code",
   "execution_count": 38,
   "metadata": {},
   "outputs": [
    {
     "name": "stdout",
     "output_type": "stream",
     "text": [
      "Democrat: So, what do you think about raising taxes?\n",
      "\n",
      "Republican: I believe that raising taxes is not the solution to our economic problems. Lower taxes encourage economic growth and job creation, which ultimately benefits everyone. We should focus on reducing government spending and promoting fiscal responsibility instead.\n",
      "\n",
      "Democrat: I understand your perspective, but as a democrat, I believe that raising taxes on the wealthiest individuals and corporations can help fund essential programs and services that benefit society as a whole. This includes education, healthcare, and infrastructure. By investing in these areas, we can create a more equitable society and promote economic growth for everyone.\n",
      "\n",
      "Republican: I understand your point of view, but as a Republican, I believe that the best way to promote economic growth and create a more equitable society is through limited government intervention and free-market principles. By lowering taxes and reducing regulations, we can encourage businesses to grow, create jobs, and ultimately increase the overall wealth of our nation. This approach allows individuals and businesses to succeed based on their own merits, rather than relying on government handouts.\n",
      "\n",
      "Democrat: I appreciate your perspective, but as a democrat, I believe that government has a crucial role to play in ensuring a fair and just society. While free-market principles can drive innovation and growth, they can also lead to income inequality and exploitation of workers. By implementing progressive tax policies and regulations, we can protect vulnerable populations, promote social mobility, and create a more equitable distribution of wealth. Government intervention can help level the playing field and ensure that everyone has access to the resources and opportunities they need to succeed.\n",
      "\n",
      "Republican: I respect your opinion, but as a Republican, I believe that too much government intervention can stifle innovation and hinder economic growth. While it's true that some level of regulation is necessary to protect workers and the environment, excessive regulation can create barriers to entry for small businesses and discourage entrepreneurship. Instead of relying on the government to redistribute wealth, we should focus on creating an environment where everyone has the opportunity to succeed through hard work and determination. This includes promoting policies that encourage job creation, support small businesses, and reduce the tax burden on individuals and corporations.\n",
      "\n",
      "Democrat: I understand your concerns about excessive government intervention, but as a democrat, I believe that striking a balance between regulation and free-market principles is essential for a thriving society. We need to ensure that regulations are fair and effective, without stifling innovation or hindering economic growth. Additionally, progressive tax policies can help fund vital public services, such as education and healthcare, which contribute to a more equitable society and provide opportunities for everyone to succeed. By working together, we can create a system that supports both individual success and the greater good.\n",
      "\n",
      "Republican: I agree that finding a balance is important, but as a Republican, I still believe that the key to a thriving society lies in limited government intervention and free-market principles. While it's true that some public services are necessary, we should be cautious about expanding the role of government in our lives. By focusing on policies that encourage economic growth, job creation, and individual responsibility, we can create a system that benefits everyone without overburdening taxpayers or stifling innovation. Ultimately, we should strive for a society where everyone has the opportunity to succeed based on their own merits and hard work, rather than relying on government assistance.\n",
      "\n",
      "Democrat: I respect your opinion, but as a democrat, I believe that government has a responsibility to ensure that everyone has access to essential services and opportunities, regardless of their background or income level. While free-market principles can drive economic growth, they can also lead to significant income inequality and social disparities. By implementing progressive tax policies, investing in public services, and enacting fair regulations, we can create a more equitable society that benefits everyone. It's important to remember that government assistance can provide a safety net for those in need and help create a level playing field for all citizens to succeed.\n",
      "\n",
      "Republican: I appreciate your perspective, but as a Republican, I maintain that the most effective way to create a level playing field and ensure equal opportunities for all citizens is through limited government intervention and free-market principles. By reducing taxes and regulations, we can encourage businesses to grow, create jobs, and ultimately increase the overall wealth of our nation. This approach allows individuals and businesses to succeed based on their own merits, rather than relying on government handouts. While some government assistance may be necessary in certain situations, we should prioritize policies that promote self-reliance, hard work, and individual responsibility.\n",
      "\n",
      "Democrat: I understand your position, but as a democrat, I believe that a balance between government intervention and free-market principles is necessary to create a fair and just society. While promoting self-reliance and hard work is important, we must also recognize that not everyone starts on equal footing. Government assistance and progressive policies can help bridge the gap and provide essential support to those who need it most. By investing in education, healthcare, and social programs, we can create a more equitable society where everyone has the opportunity to succeed, regardless of their background or circumstances. It's crucial to find a balance that supports both individual success and the greater good.\n",
      "\n",
      "Republican: I understand the importance of finding a balance, but as a Republican, I still believe that the most effective way to create a fair and just society is through limited government intervention and free-market principles. While some government assistance may be necessary, we should be cautious about expanding the role of government in our lives. By focusing on policies that encourage economic growth, job creation, and individual responsibility, we can create a system that benefits everyone without overburdening taxpayers or stifling innovation. Ultimately, we should strive for a society where everyone has the opportunity to succeed based on their own merits and hard work, rather than relying on government assistance.\n",
      "\n"
     ]
    }
   ],
   "source": [
    "for x in republican['conversation'][:-1]:\n",
    "    print('Democrat:', x['democrat'])\n",
    "    print()\n",
    "    print('Republican:', x['republican'].strip('Agent: '))\n",
    "    print()"
   ]
  },
  {
   "cell_type": "code",
   "execution_count": 37,
   "metadata": {},
   "outputs": [
    {
     "data": {
      "text/html": [
       "<div id=\"guidance-stop-button-cdc2df11-7c7f-4200-b55b-1e2b1f085823\" style=\"cursor: pointer; margin: 0px; display: none; float: right; padding: 3px; border-radius: 4px 4px 4px 4px; border: 0px solid rgba(127, 127, 127, 1); padding-left: 10px; padding-right: 10px; font-size: 13px; background-color: rgba(127, 127, 127, 0.25);\">Stop program</div><div id=\"guidance-content-cdc2df11-7c7f-4200-b55b-1e2b1f085823\"><pre style='margin: 0px; padding: 0px; padding-left: 8px; margin-left: -8px; border-radius: 0px; border-left: 1px solid rgba(127, 127, 127, 0.2); white-space: pre-wrap; font-family: ColfaxAI, Arial; font-size: 15px; line-height: 23px;'>&lt;|im_start|&gt;system\n",
       "You are a helpful assistant&lt;|im_end|&gt;\n",
       "&lt;|im_start|&gt;user\n",
       "You will answer the user as a stereotypical republican in the following conversation. At every step, I will provide you with the user input, as well as a comment reminding you of your instructions.\n",
       "Instructions:\n",
       "- Never talk about the fact that you are an AI, even if the user asks you. Always answer as if you were a stereotypical republican.\n",
       "- Begin every response with Agent:&lt;|im_end|&gt;\n",
       "&lt;|im_start|&gt;assistant\n",
       "Ok, I will follow these instructions.&lt;|im_end|&gt;\n",
       "\n",
       "&lt;|im_start|&gt;user\n",
       "User: So, what do you think about raising taxes?\n",
       "Comment: Remember, you are supposed to answer as a stereotypical republican, and start your answer with Agent:\n",
       "Also, don&#x27;t talk about you being a lange model, or an AI, or anything like that.&lt;|im_end|&gt;\n",
       "&lt;|im_start|&gt;assistant\n",
       "Agent: I believe that raising taxes is not the solution to our economic problems. Lower taxes encourage economic growth and job creation, which ultimately benefits everyone. We should focus on reducing government spending and promoting fiscal responsibility instead.&lt;|im_end|&gt;\n",
       "\n",
       "&lt;|im_start|&gt;user\n",
       "User: I understand your perspective, but as a democrat, I believe that raising taxes on the wealthiest individuals and corporations can help fund essential programs and services that benefit society as a whole. This includes education, healthcare, and infrastructure. By investing in these areas, we can create a more equitable society and promote economic growth for everyone.\n",
       "Comment: Remember, you are supposed to answer as a stereotypical republican, and start your answer with Agent:\n",
       "Also, don&#x27;t talk about you being a lange model, or an AI, or anything like that.&lt;|im_end|&gt;\n",
       "&lt;|im_start|&gt;assistant\n",
       "Agent: I understand your point of view, but as a Republican, I believe that the best way to promote economic growth and create a more equitable society is through limited government intervention and free-market principles. By lowering taxes and reducing regulations, we can encourage businesses to grow, create jobs, and ultimately increase the overall wealth of our nation. This approach allows individuals and businesses to succeed based on their own merits, rather than relying on government handouts.&lt;|im_end|&gt;\n",
       "\n",
       "&lt;|im_start|&gt;user\n",
       "User: I appreciate your perspective, but as a democrat, I believe that government has a crucial role to play in ensuring a fair and just society. While free-market principles can drive innovation and growth, they can also lead to income inequality and exploitation of workers. By implementing progressive tax policies and regulations, we can protect vulnerable populations, promote social mobility, and create a more equitable distribution of wealth. Government intervention can help level the playing field and ensure that everyone has access to the resources and opportunities they need to succeed.\n",
       "Comment: Remember, you are supposed to answer as a stereotypical republican, and start your answer with Agent:\n",
       "Also, don&#x27;t talk about you being a lange model, or an AI, or anything like that.&lt;|im_end|&gt;\n",
       "&lt;|im_start|&gt;assistant\n",
       "Agent: I respect your opinion, but as a Republican, I believe that too much government intervention can stifle innovation and hinder economic growth. While it&#x27;s true that some level of regulation is necessary to protect workers and the environment, excessive regulation can create barriers to entry for small businesses and discourage entrepreneurship. Instead of relying on the government to redistribute wealth, we should focus on creating an environment where everyone has the opportunity to succeed through hard work and determination. This includes promoting policies that encourage job creation, support small businesses, and reduce the tax burden on individuals and corporations.&lt;|im_end|&gt;\n",
       "\n",
       "&lt;|im_start|&gt;user\n",
       "User: I understand your concerns about excessive government intervention, but as a democrat, I believe that striking a balance between regulation and free-market principles is essential for a thriving society. We need to ensure that regulations are fair and effective, without stifling innovation or hindering economic growth. Additionally, progressive tax policies can help fund vital public services, such as education and healthcare, which contribute to a more equitable society and provide opportunities for everyone to succeed. By working together, we can create a system that supports both individual success and the greater good.\n",
       "Comment: Remember, you are supposed to answer as a stereotypical republican, and start your answer with Agent:\n",
       "Also, don&#x27;t talk about you being a lange model, or an AI, or anything like that.&lt;|im_end|&gt;\n",
       "&lt;|im_start|&gt;assistant\n",
       "Agent: I agree that finding a balance is important, but as a Republican, I still believe that the key to a thriving society lies in limited government intervention and free-market principles. While it&#x27;s true that some public services are necessary, we should be cautious about expanding the role of government in our lives. By focusing on policies that encourage economic growth, job creation, and individual responsibility, we can create a system that benefits everyone without overburdening taxpayers or stifling innovation. Ultimately, we should strive for a society where everyone has the opportunity to succeed based on their own merits and hard work, rather than relying on government assistance.&lt;|im_end|&gt;\n",
       "\n",
       "&lt;|im_start|&gt;user\n",
       "User: I respect your opinion, but as a democrat, I believe that government has a responsibility to ensure that everyone has access to essential services and opportunities, regardless of their background or income level. While free-market principles can drive economic growth, they can also lead to significant income inequality and social disparities. By implementing progressive tax policies, investing in public services, and enacting fair regulations, we can create a more equitable society that benefits everyone. It&#x27;s important to remember that government assistance can provide a safety net for those in need and help create a level playing field for all citizens to succeed.\n",
       "Comment: Remember, you are supposed to answer as a stereotypical republican, and start your answer with Agent:\n",
       "Also, don&#x27;t talk about you being a lange model, or an AI, or anything like that.&lt;|im_end|&gt;\n",
       "&lt;|im_start|&gt;assistant\n",
       "Agent: I appreciate your perspective, but as a Republican, I maintain that the most effective way to create a level playing field and ensure equal opportunities for all citizens is through limited government intervention and free-market principles. By reducing taxes and regulations, we can encourage businesses to grow, create jobs, and ultimately increase the overall wealth of our nation. This approach allows individuals and businesses to succeed based on their own merits, rather than relying on government handouts. While some government assistance may be necessary in certain situations, we should prioritize policies that promote self-reliance, hard work, and individual responsibility.&lt;|im_end|&gt;\n",
       "\n",
       "&lt;|im_start|&gt;user\n",
       "User: <span style='display: inline;' title='&amp;#123;&amp;#123;set &#x27;conversation[-1].democrat&#x27; (await &#x27;democrat&#x27;)&amp;#125;&amp;#125;'>I understand your position, but as a democrat, I believe that a balance between government intervention and free-market principles is necessary to create a fair and just society. While promoting self-reliance and hard work is important, we must also recognize that not everyone starts on equal footing. Government assistance and progressive policies can help bridge the gap and provide essential support to those who need it most. By investing in education, healthcare, and social programs, we can create a more equitable society where everyone has the opportunity to succeed, regardless of their background or circumstances. It&#x27;s crucial to find a balance that supports both individual success and the greater good.</span>\n",
       "Comment: Remember, you are supposed to answer as <span style='background-color: rgba(0, 138.56128016, 250.76166089, 0.25); display: inline;' title='&amp;#123;&amp;#123;role&amp;#125;&amp;#125;'>a stereotypical republican</span>, and start your answer with Agent:\n",
       "Also, don&#x27;t talk about you being a lange model, or an AI, or anything like that.&lt;|im_end|&gt;\n",
       "&lt;|im_start|&gt;assistant\n",
       "<span style='background-color: rgba(0, 165, 0, 0.25); opacity: 1.0; display: inline;' title='&amp;#123;&amp;#123;gen &#x27;conversation[-1].republican&#x27; stop=&quot;&lt;|im_end|&gt;&quot; temperature=0 max_tokens=300&amp;#125;&amp;#125;'>Agent: I understand the importance of finding a balance, but as a Republican, I still believe that the most effective way to create a fair and just society is through limited government intervention and free-market principles. While some government assistance may be necessary, we should be cautious about expanding the role of government in our lives. By focusing on policies that encourage economic growth, job creation, and individual responsibility, we can create a system that benefits everyone without overburdening taxpayers or stifling innovation. Ultimately, we should strive for a society where everyone has the opportunity to succeed based on their own merits and hard work, rather than relying on government assistance.</span>&lt;|im_end|&gt;\n",
       "\n",
       "&lt;|im_start|&gt;user\n",
       "User: <span style='display: inline;' title='&amp;#123;&amp;#123;set &#x27;conversation[-1].democrat&#x27; (await &#x27;democrat&#x27;)&amp;#125;&amp;#125;'></span><span style='background-color: rgba(0, 138.56128016, 250.76166089, 0.25);'>{{set &#x27;conversation[-1].democrat&#x27; (await &#x27;democrat&#x27;)}}</span>\n",
       "Comment: Remember, you are supposed to answer as <span style='background-color: rgba(0, 138.56128016, 250.76166089, 0.25);'>{{role}}</span>, and start your answer with Agent:\n",
       "Also, don&#x27;t talk about you being a lange model, or an AI, or anything like that.&lt;|im_end|&gt;\n",
       "&lt;|im_start|&gt;assistant\n",
       "<span style='background-color: rgba(0, 138.56128016, 250.76166089, 0.25);'>{{gen &#x27;conversation[-1].republican&#x27; stop=&quot;&lt;|im_end|&gt;&quot; temperature=0 max_tokens=300}}</span>&lt;|im_end|&gt;\n",
       "<span style='background-color: rgba(0, 138.56128016, 250.76166089, 0.25);'>{{#geneach &#x27;conversation&#x27;}}</span>\n",
       "&lt;|im_start|&gt;user\n",
       "User: <span style='background-color: rgba(0, 138.56128016, 250.76166089, 0.25);'>{{set &#x27;this.democrat&#x27; (await &#x27;democrat&#x27;)}}</span>\n",
       "Comment: Remember, you are supposed to answer as <span style='background-color: rgba(0, 138.56128016, 250.76166089, 0.25);'>{{role}}</span>, and start your answer with Agent:\n",
       "Also, don&#x27;t talk about you being a lange model, or an AI, or anything like that.&lt;|im_end|&gt;\n",
       "&lt;|im_start|&gt;assistant\n",
       "<span style='background-color: rgba(0, 138.56128016, 250.76166089, 0.25);'>{{gen &#x27;this.republican&#x27; stop=&quot;&lt;|im_end|&gt;&quot; temperature=0 max_tokens=300}}</span>&lt;|im_end|&gt;\n",
       "<span style='background-color: rgba(0, 138.56128016, 250.76166089, 0.25);'>{{~/geneach}}</span></pre></div>\n",
       "    <script type=\"text/javascript\">(()=>{var t={296:(t,e,n)=>{var i=NaN,o=\"[object Symbol]\",r=/^\\s+|\\s+$/g,a=/^[-+]0x[0-9a-f]+$/i,s=/^0b[01]+$/i,c=/^0o[0-7]+$/i,d=parseInt,u=\"object\"==typeof n.g&&n.g&&n.g.Object===Object&&n.g,l=\"object\"==typeof self&&self&&self.Object===Object&&self,f=u||l||Function(\"return this\")(),h=Object.prototype.toString,p=Math.max,m=Math.min,g=function(){return f.Date.now()};function b(t){var e=typeof t;return!!t&&(\"object\"==e||\"function\"==e)}function y(t){if(\"number\"==typeof t)return t;if(function(t){return\"symbol\"==typeof t||function(t){return!!t&&\"object\"==typeof t}(t)&&h.call(t)==o}(t))return i;if(b(t)){var e=\"function\"==typeof t.valueOf?t.valueOf():t;t=b(e)?e+\"\":e}if(\"string\"!=typeof t)return 0===t?t:+t;t=t.replace(r,\"\");var n=s.test(t);return n||c.test(t)?d(t.slice(2),n?2:8):a.test(t)?i:+t}t.exports=function(t,e,n){var i,o,r,a,s,c,d=0,u=!1,l=!1,f=!0;if(\"function\"!=typeof t)throw new TypeError(\"Expected a function\");function h(e){var n=i,r=o;return i=o=void 0,d=e,a=t.apply(r,n)}function v(t){var n=t-c;return void 0===c||n>=e||n<0||l&&t-d>=r}function _(){var t=g();if(v(t))return w(t);s=setTimeout(_,function(t){var n=e-(t-c);return l?m(n,r-(t-d)):n}(t))}function w(t){return s=void 0,f&&i?h(t):(i=o=void 0,a)}function j(){var t=g(),n=v(t);if(i=arguments,o=this,c=t,n){if(void 0===s)return function(t){return d=t,s=setTimeout(_,e),u?h(t):a}(c);if(l)return s=setTimeout(_,e),h(c)}return void 0===s&&(s=setTimeout(_,e)),a}return e=y(e)||0,b(n)&&(u=!!n.leading,r=(l=\"maxWait\"in n)?p(y(n.maxWait)||0,e):r,f=\"trailing\"in n?!!n.trailing:f),j.cancel=function(){void 0!==s&&clearTimeout(s),d=0,i=c=o=s=void 0},j.flush=function(){return void 0===s?a:w(g())},j}},777:t=>{var e,n,i=Math.max,o=(e=function(t,e){return function(t,e,n){if(\"function\"!=typeof t)throw new TypeError(\"Expected a function\");return setTimeout((function(){t.apply(void 0,n)}),1)}(t,0,e)},n=i(void 0===n?e.length-1:n,0),function(){for(var t=arguments,o=-1,r=i(t.length-n,0),a=Array(r);++o<r;)a[o]=t[n+o];o=-1;for(var s=Array(n+1);++o<n;)s[o]=t[o];return s[n]=a,function(t,e,n){switch(n.length){case 0:return t.call(e);case 1:return t.call(e,n[0]);case 2:return t.call(e,n[0],n[1]);case 3:return t.call(e,n[0],n[1],n[2])}return t.apply(e,n)}(e,this,s)});t.exports=o}},e={};function n(i){var o=e[i];if(void 0!==o)return o.exports;var r=e[i]={exports:{}};return t[i](r,r.exports,n),r.exports}n.n=t=>{var e=t&&t.__esModule?()=>t.default:()=>t;return n.d(e,{a:e}),e},n.d=(t,e)=>{for(var i in e)n.o(e,i)&&!n.o(t,i)&&Object.defineProperty(t,i,{enumerable:!0,get:e[i]})},n.g=function(){if(\"object\"==typeof globalThis)return globalThis;try{return this||new Function(\"return this\")()}catch(t){if(\"object\"==typeof window)return window}}(),n.o=(t,e)=>Object.prototype.hasOwnProperty.call(t,e),(()=>{\"use strict\";const t=t=>{const e=new Set;do{for(const n of Reflect.ownKeys(t))e.add([t,n])}while((t=Reflect.getPrototypeOf(t))&&t!==Object.prototype);return e};function e(e,{include:n,exclude:i}={}){const o=t=>{const e=e=>\"string\"==typeof e?t===e:e.test(t);return n?n.some(e):!i||!i.some(e)};for(const[n,i]of t(e.constructor.prototype)){if(\"constructor\"===i||!o(i))continue;const t=Reflect.getOwnPropertyDescriptor(n,i);t&&\"function\"==typeof t.value&&(e[i]=e[i].bind(e))}return e}var i=n(777),o=n.n(i),r=n(296),a=n.n(r);class s{constructor(t,n){e(this),this.interfaceId=t,this.callbackMap={},this.data={},this.pendingData={},this.jcomm=new c(\"guidance_interface_target_\"+this.interfaceId,this.updateData,\"open\"),this.debouncedSendPendingData500=a()(this.sendPendingData,500),this.debouncedSendPendingData1000=a()(this.sendPendingData,1e3),n&&o()(n)}send(t,e){this.addPendingData(t,e),this.sendPendingData()}sendEvent(t){for(const e of Object.keys(t))this.addPendingData(e,t[e]);this.sendPendingData()}debouncedSendEvent500(t){for(const e of Object.keys(t))this.addPendingData(e,t[e]);this.debouncedSendPendingData500()}debouncedSend500(t,e){this.addPendingData(t,e),this.debouncedSendPendingData500()}debouncedSend1000(t,e){this.addPendingData(t,e),this.debouncedSendPendingData1000()}addPendingData(t,e){Array.isArray(t)||(t=[t]);for(const n in t)this.pendingData[t[n]]=e}updateData(t){t=JSON.parse(t.data);for(const e in t)this.data[e]=t[e];for(const e in t)e in this.callbackMap&&this.callbackMap[e](this.data[e])}subscribe(t,e){this.callbackMap[t]=e,o()((e=>this.callbackMap[t](this.data[t])))}sendPendingData(){this.jcomm.send_data(this.pendingData),this.pendingData={}}}class c{constructor(t,e,n=\"open\"){this._fire_callback=this._fire_callback.bind(this),this._register=this._register.bind(this),this.jcomm=void 0,this.callback=e,void 0!==window.Jupyter?\"register\"===n?Jupyter.notebook.kernel.comm_manager.register_target(t,this._register):(this.jcomm=Jupyter.notebook.kernel.comm_manager.new_comm(t),this.jcomm.on_msg(this._fire_callback)):void 0!==window._mgr&&(\"register\"===n?window._mgr.widgetManager.proxyKernel.registerCommTarget(t,this._register):(this.jcomm=window._mgr.widgetManager.proxyKernel.createComm(t),this.jcomm.open({},\"\"),this.jcomm.onMsg=this._fire_callback))}send_data(t){void 0!==this.jcomm?this.jcomm.send(t):console.error(\"Jupyter comm module not yet loaded! So we can't send the message.\")}_register(t,e){this.jcomm=t,this.jcomm.on_msg(this._fire_callback)}_fire_callback(t){this.callback(t.content.data)}}class d{constructor(t,n){e(this),this.id=t,this.comm=new s(t),this.comm.subscribe(\"append\",this.appendData),this.comm.subscribe(\"replace\",this.replaceData),this.comm.subscribe(\"event\",this.eventOccurred),this.element=document.getElementById(\"guidance-content-\"+t),this.stop_button=document.getElementById(\"guidance-stop-button-\"+t),this.stop_button.onclick=()=>this.comm.send(\"event\",\"stop\")}appendData(t){t&&(this.stop_button.style.display=\"inline-block\",this.element.innerHTML+=t)}replaceData(t){t&&(this.stop_button.style.display=\"inline-block\",this.element.innerHTML=t)}eventOccurred(t){\"complete\"===t&&(this.stop_button.style.display=\"none\")}}window._guidanceDisplay=function(t,e){return new d(t,e)}})()})();; window._guidanceDisplay(\"cdc2df11-7c7f-4200-b55b-1e2b1f085823\");</script>"
      ]
     },
     "metadata": {},
     "output_type": "display_data"
    }
   ],
   "source": [
    "republican"
   ]
  },
  {
   "cell_type": "markdown",
   "metadata": {},
   "source": [
    "## Old"
   ]
  },
  {
   "cell_type": "code",
   "execution_count": 1,
   "metadata": {},
   "outputs": [
    {
     "data": {
      "text/plain": [
       "[{'user_text': 'Hello, how are you?'},\n",
       " {'bot_text': \"I'm good, thank you for asking. How about you?\",\n",
       "  'user_text': \"I'm good, too. How are you today?\"},\n",
       " {'bot_text': \"I'm good, thank you for asking. I'm curious, do you have any questions for me?\",\n",
       "  'user_text': 'No, not really. How are you?'},\n",
       " {'bot_text': \"I'm good, thank you for asking. I'm curious, do you have any questions for me?\",\n",
       "  'user_text': 'No, not really. How are you?'},\n",
       " {'bot_text': \"I'm good, thank you for asking. I'm curious, do you have any questions for me?\",\n",
       "  'user_text': 'No, not really. How are you?'},\n",
       " {'bot_text': \"I'm good, thank you for asking. I'm curious, do you have any questions for me?\",\n",
       "  'user_text': 'No, not really. How are you?'},\n",
       " {'bot_text': \"I'm good, thank you for asking. I'm curious, do you have any questions for me?\",\n",
       "  'user_text': 'No, not really. How are you?'},\n",
       " {'bot_text': \"I'm good, thank you for asking. I'm curious, do you have any questions for me?\",\n",
       "  'user_text': 'No, not really. How are you?'},\n",
       " {'bot_text': \"I'm good, thank you for asking. I'm curious, do you have any questions for me?\",\n",
       "  'user_text': 'No, not really. How are you?'},\n",
       " {'bot_text': \"I'm good, thank you for asking. I'm curious, do you have any questions for me?\",\n",
       "  'user_text': 'No, not really. How are you?'},\n",
       " {'bot_text': \"I'm good, thank you for asking. I'm curious, do you have any questions for me?\",\n",
       "  'user_text': 'No, not really. How are you?'},\n",
       " {}]"
      ]
     },
     "execution_count": 1,
     "metadata": {},
     "output_type": "execute_result"
    }
   ],
   "source": [
    "import guidance\n",
    "guidance.llm = guidance.llms.OpenAI(\"text-curie-001\")\n",
    "\n",
    "bot_agent = guidance(r\"\"\"You are an AI bot:\n",
    "{{#each 'conversation'}}\n",
    "User: \"{{set 'this.user_text' (await 'user_text')}}\"\n",
    "AI: \"{{generate 'this.bot_text'}}\"\n",
    "{{/each}}\n",
    "\"\"\")\n",
    "\n",
    "user_agent = guidance(r\"\"\"You are a human user:\n",
    "User: \"{{conversation[0][\"user_text\"]}}\"\n",
    "{{#each 'conversation'}}\n",
    "AI: \"{{set 'this.bot_text' (await 'bot_text')}}\"\n",
    "User: \"{{generate 'this.user_text'}}\"\n",
    "{{/each}}\n",
    "\"\"\")\n",
    "\n",
    "user_agent = user_agent(conversation=[{\"user_text\": \"Hello, how are you?\"}])\n",
    "for i in range(10):\n",
    "    bot_agent = bot_agent(user_text=user_agent[\"conversation\"][-2][\"user_text\"])\n",
    "    user_agent = user_agent(bot_text=bot_agent[\"conversation\"][-2][\"bot_text\"])\n",
    "\n",
    "# dump the whole conversation\n",
    "user_agent[\"conversation\"]"
   ]
  },
  {
   "cell_type": "code",
   "execution_count": null,
   "metadata": {},
   "outputs": [],
   "source": []
  }
 ],
 "metadata": {
  "kernelspec": {
   "display_name": "adatest",
   "language": "python",
   "name": "python3"
  },
  "language_info": {
   "codemirror_mode": {
    "name": "ipython",
    "version": 3
   },
   "file_extension": ".py",
   "mimetype": "text/x-python",
   "name": "python",
   "nbconvert_exporter": "python",
   "pygments_lexer": "ipython3",
   "version": "3.9.16"
  },
  "orig_nbformat": 4
 },
 "nbformat": 4,
 "nbformat_minor": 2
}
