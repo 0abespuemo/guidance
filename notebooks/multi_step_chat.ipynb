{
 "cells": [
  {
   "cell_type": "code",
   "execution_count": 27,
   "metadata": {},
   "outputs": [
    {
     "name": "stdout",
     "output_type": "stream",
     "text": [
      "The autoreload extension is already loaded. To reload it, use:\n",
      "  %reload_ext autoreload\n"
     ]
    }
   ],
   "source": [
    "%load_ext autoreload\n",
    "%autoreload 2"
   ]
  },
  {
   "cell_type": "code",
   "execution_count": 28,
   "metadata": {},
   "outputs": [],
   "source": [
    "import guidance\n",
    "\n",
    "# guidance.llm = guidance.llms.OpenAI(\"gpt-3.5-turbo\", chat_completion=True)\n",
    "guidance.llm = guidance.llms.OpenAI(\"gpt-4\", chat_completion=True)\n",
    "# guidance.llm = guidance.llms.OpenAI(\"text-davinci-003\", chat_completion=False)"
   ]
  },
  {
   "cell_type": "markdown",
   "metadata": {},
   "source": [
    "Answering questions"
   ]
  },
  {
   "cell_type": "code",
   "execution_count": 39,
   "metadata": {},
   "outputs": [],
   "source": [
    "experts = guidance('''<|im_start|>system\n",
    "You are a helpful assistant.<|im_end|>\n",
    "<|im_start|>user\n",
    "{{context}}\n",
    "I want a response to the following question:\n",
    "{{query}}\n",
    "Who are 3 world-class experts (past or present) who would be great at answering this?\n",
    "Please don't answer the question or comment on it yet.<|im_end|>\n",
    "<|im_start|>assistant\n",
    "{{generate 'experts' stop=\"<|im_end|>\" temperature=0 max_tokens=300}}<|im_end|>\n",
    "<|im_start|>user\n",
    "Great, now please answer the question as if these experts had collaborated in writing a joint anonymous answer.\n",
    "In other words, their identity is not revealed, nor is the fact that there is a panel of experts answering the question.\n",
    "If the experts would disagree, just present their different positions as alternatives in the answer itself (e.g. 'some might argue... others might argue...').\n",
    "Please start your answer with ANSWER:<|im_end|>\n",
    "<|im_start|>assistant\n",
    "{{generate 'answer' stop=\"<|im_end|>\" temperature=0 max_tokens=500}}<|im_end|>''', echo=True)\n",
    "standard = guidance('''<|im_start|>system\n",
    "You are a helpful assistant.<|im_end|>\n",
    "<|im_start|>user\n",
    "{{query}}<|im_end|>\n",
    "<|im_start|>assistant\n",
    "{{generate 'answer' stop=\"<|im_end|>\" temperature=0 max_tokens=500}}<|im_end|>''', echo=True)"
   ]
  },
  {
   "cell_type": "code",
   "execution_count": 53,
   "metadata": {},
   "outputs": [
    {
     "data": {
      "text/html": [
       "<pre style='margin: 0px; padding: 0px; padding-left: 8px; margin-left: -8px; border-radius: 0px; border-left: 1px solid rgba(127, 127, 127, 0.2); white-space: pre-wrap; font-family: ColfaxAI, Arial; font-size: 15px; line-height: 23px;'>&lt;|im_start|&gt;system\n",
       "You are a helpful assistant.&lt;|im_end|&gt;\n",
       "&lt;|im_start|&gt;user\n",
       "<span style='background-color: rgba(0, 138.56128016, 250.76166089, 0.25); display: inline;' title='&amp;#123;&amp;#123;context&amp;#125;&amp;#125;'></span>\n",
       "I want a response to the following question:\n",
       "<span style='background-color: rgba(0, 138.56128016, 250.76166089, 0.25); display: inline;' title='&amp;#123;&amp;#123;query&amp;#125;&amp;#125;'>Is the Bible trustworthy?</span>\n",
       "Who are 3 world-class experts (past or present) who would be great at answering this?\n",
       "Please don&#x27;t answer the question or comment on it yet.&lt;|im_end|&gt;\n",
       "&lt;|im_start|&gt;assistant\n",
       "<span style='background-color: rgba(0, 165, 0, 0.25); opacity: 1.0; display: inline;' title='&amp;#123;&amp;#123;generate &#x27;experts&#x27; stop=&quot;&lt;|im_end|&gt;&quot; temperature=0 max_tokens=300&amp;#125;&amp;#125;'>Three world-class experts who would be great at answering the question &quot;Is the Bible trustworthy?&quot; are:\n",
       "\n",
       "1. Dr. Bart D. Ehrman - A renowned biblical scholar, textual critic, and author of numerous books on the New Testament and early Christianity.\n",
       "2. Dr. N.T. Wright - A prominent theologian, historian, and author who has written extensively on the historical Jesus and the New Testament.\n",
       "3. Dr. Elaine Pagels - A respected scholar and author who has made significant contributions to the study of early Christianity and Gnostic texts.\n",
       "\n",
       "These experts have diverse perspectives and expertise, which would provide a well-rounded understanding of the question.</span>&lt;|im_end|&gt;\n",
       "&lt;|im_start|&gt;user\n",
       "Great, now please answer the question as if these experts had collaborated in writing a joint anonymous answer.\n",
       "In other words, their identity is not revealed, nor is the fact that there is a panel of experts answering the question.\n",
       "If the experts would disagree, just present their different positions as alternatives in the answer itself (e.g. &#x27;some might argue... others might argue...&#x27;).\n",
       "Please start your answer with ANSWER:&lt;|im_end|&gt;\n",
       "&lt;|im_start|&gt;assistant\n",
       "<span style='background-color: rgba(0, 165, 0, 0.25); opacity: 1.0; display: inline;' title='&amp;#123;&amp;#123;generate &#x27;answer&#x27; stop=&quot;&lt;|im_end|&gt;&quot; temperature=0 max_tokens=500&amp;#125;&amp;#125;'>ANSWER: The trustworthiness of the Bible is a complex and multifaceted issue, with various perspectives and interpretations. Some experts might argue that the Bible is trustworthy in the sense that it contains valuable historical, cultural, and spiritual insights. They would emphasize the importance of understanding the context in which the texts were written and the intentions of their authors. This perspective acknowledges that while the Bible may not be inerrant or infallible, it still holds significant value as a source of wisdom and guidance.\n",
       "\n",
       "On the other hand, other experts might argue that the Bible&#x27;s trustworthiness is limited due to the numerous textual variations, inconsistencies, and contradictions found within its pages. They would point to the fact that the Bible has been subject to numerous translations, revisions, and interpretations over the centuries, which may have introduced errors or distortions. Additionally, they might emphasize the importance of considering other early Christian texts and traditions that were not included in the canonical Bible, as these can provide alternative perspectives on the beliefs and practices of early Christians.\n",
       "\n",
       "In conclusion, the trustworthiness of the Bible is a matter of debate among scholars and experts. Some view it as a valuable source of historical, cultural, and spiritual insights, while others argue that its trustworthiness is limited due to textual variations and inconsistencies. Ultimately, the question of the Bible&#x27;s trustworthiness may depend on one&#x27;s personal beliefs, values, and interpretive approach.</span>&lt;|im_end|&gt;</pre>"
      ]
     },
     "metadata": {},
     "output_type": "display_data"
    },
    {
     "data": {
      "text/html": [
       "<script type='text/javascript'>console.log('asdf'); debugger;</script><pre style='margin: 0px; padding: 0px; padding-left: 8px; margin-left: -8px; border-radius: 0px; border-left: 1px solid rgba(127, 127, 127, 0.2); white-space: pre-wrap; font-family: ColfaxAI, Arial; font-size: 15px; line-height: 23px;'>&lt;|im_start|&gt;system\n",
       "You are a helpful assistant.&lt;|im_end|&gt;\n",
       "&lt;|im_start|&gt;user\n",
       "<span style='background-color: rgba(0, 138.56128016, 250.76166089, 0.25); display: inline;' title='&amp;#123;&amp;#123;context&amp;#125;&amp;#125;'></span>\n",
       "I want a response to the following question:\n",
       "<span style='background-color: rgba(0, 138.56128016, 250.76166089, 0.25); display: inline;' title='&amp;#123;&amp;#123;query&amp;#125;&amp;#125;'>Is the Bible trustworthy?</span>\n",
       "Who are 3 world-class experts (past or present) who would be great at answering this?\n",
       "Please don&#x27;t answer the question or comment on it yet.&lt;|im_end|&gt;\n",
       "&lt;|im_start|&gt;assistant\n",
       "<span style='background-color: rgba(0, 165, 0, 0.25); opacity: 1.0; display: inline;' title='&amp;#123;&amp;#123;generate &#x27;experts&#x27; stop=&quot;&lt;|im_end|&gt;&quot; temperature=0 max_tokens=300&amp;#125;&amp;#125;'>Three world-class experts who would be great at answering the question &quot;Is the Bible trustworthy?&quot; are:\n",
       "\n",
       "1. Dr. Bart D. Ehrman - A renowned biblical scholar, textual critic, and author of numerous books on the New Testament and early Christianity.\n",
       "2. Dr. N.T. Wright - A prominent theologian, historian, and author who has written extensively on the historical Jesus and the New Testament.\n",
       "3. Dr. Elaine Pagels - A respected scholar and author who has made significant contributions to the study of early Christianity and Gnostic texts.\n",
       "\n",
       "These experts have diverse perspectives and expertise, which would provide a well-rounded understanding of the question.</span>&lt;|im_end|&gt;\n",
       "&lt;|im_start|&gt;user\n",
       "Great, now please answer the question as if these experts had collaborated in writing a joint anonymous answer.\n",
       "In other words, their identity is not revealed, nor is the fact that there is a panel of experts answering the question.\n",
       "If the experts would disagree, just present their different positions as alternatives in the answer itself (e.g. &#x27;some might argue... others might argue...&#x27;).\n",
       "Please start your answer with ANSWER:&lt;|im_end|&gt;\n",
       "&lt;|im_start|&gt;assistant\n",
       "<span style='background-color: rgba(0, 165, 0, 0.25); opacity: 1.0; display: inline;' title='&amp;#123;&amp;#123;generate &#x27;answer&#x27; stop=&quot;&lt;|im_end|&gt;&quot; temperature=0 max_tokens=500&amp;#125;&amp;#125;'>ANSWER: The trustworthiness of the Bible is a complex and multifaceted issue, with various perspectives and interpretations. Some experts might argue that the Bible is trustworthy in the sense that it contains valuable historical, cultural, and spiritual insights. They would emphasize the importance of understanding the context in which the texts were written and the intentions of their authors. This perspective acknowledges that while the Bible may not be inerrant or infallible, it still holds significant value as a source of wisdom and guidance.\n",
       "\n",
       "On the other hand, other experts might argue that the Bible&#x27;s trustworthiness is limited due to the numerous textual variations, inconsistencies, and contradictions found within its pages. They would point to the fact that the Bible has been subject to numerous translations, revisions, and interpretations over the centuries, which may have introduced errors or distortions. Additionally, they might emphasize the importance of considering other early Christian texts and traditions that were not included in the canonical Bible, as these can provide alternative perspectives on the beliefs and practices of early Christians.\n",
       "\n",
       "In conclusion, the trustworthiness of the Bible is a matter of debate among scholars and experts. Some view it as a valuable source of historical, cultural, and spiritual insights, while others argue that its trustworthiness is limited due to textual variations and inconsistencies. Ultimately, the question of the Bible&#x27;s trustworthiness may depend on one&#x27;s personal beliefs, values, and interpretive approach.</span>&lt;|im_end|&gt;</pre>"
      ],
      "text/plain": [
       "<|im_start|>system\n",
       "You are a helpful assistant.<|im_end|>\n",
       "<|im_start|>user\n",
       "\n",
       "I want a response to the following question:\n",
       "Is the Bible trustworthy?\n",
       "Who are 3 world-class experts (past or present) who would be great at answering this?\n",
       "Please don't answer the question or comment on it yet.<|im_end|>\n",
       "<|im_start|>assistant\n",
       "Three world-class experts who would be great at answering the question \"Is the Bible trustworthy?\" are:\n",
       "\n",
       "1. Dr. Bart D. Ehrman - A renowned biblical scholar, textual critic, and author of numerous books on the New Testament and early Christianity.\n",
       "2. Dr. N.T. Wright - A prominent theologian, historian, and author who has written extensively on the historical Jesus and the New Testament.\n",
       "3. Dr. Elaine Pagels - A respected scholar and author who has made significant contributions to the study of early Christianity and Gnostic texts.\n",
       "\n",
       "These experts have diverse perspectives and expertise, which would provide a well-rounded understanding of the question.<|im_end|>\n",
       "<|im_start|>user\n",
       "Great, now please answer the question as if these experts had collaborated in writing a joint anonymous answer.\n",
       "In other words, their identity is not revealed, nor is the fact that there is a panel of experts answering the question.\n",
       "If the experts would disagree, just present their different positions as alternatives in the answer itself (e.g. 'some might argue... others might argue...').\n",
       "Please start your answer with ANSWER:<|im_end|>\n",
       "<|im_start|>assistant\n",
       "ANSWER: The trustworthiness of the Bible is a complex and multifaceted issue, with various perspectives and interpretations. Some experts might argue that the Bible is trustworthy in the sense that it contains valuable historical, cultural, and spiritual insights. They would emphasize the importance of understanding the context in which the texts were written and the intentions of their authors. This perspective acknowledges that while the Bible may not be inerrant or infallible, it still holds significant value as a source of wisdom and guidance.\n",
       "\n",
       "On the other hand, other experts might argue that the Bible's trustworthiness is limited due to the numerous textual variations, inconsistencies, and contradictions found within its pages. They would point to the fact that the Bible has been subject to numerous translations, revisions, and interpretations over the centuries, which may have introduced errors or distortions. Additionally, they might emphasize the importance of considering other early Christian texts and traditions that were not included in the canonical Bible, as these can provide alternative perspectives on the beliefs and practices of early Christians.\n",
       "\n",
       "In conclusion, the trustworthiness of the Bible is a matter of debate among scholars and experts. Some view it as a valuable source of historical, cultural, and spiritual insights, while others argue that its trustworthiness is limited due to textual variations and inconsistencies. Ultimately, the question of the Bible's trustworthiness may depend on one's personal beliefs, values, and interpretive approach.<|im_end|>"
      ]
     },
     "execution_count": 53,
     "metadata": {},
     "output_type": "execute_result"
    }
   ],
   "source": [
    "query = 'Is the Bible trustworthy?'\n",
    "a0 = experts(context='', query=query)\n",
    "a0"
   ]
  },
  {
   "cell_type": "code",
   "execution_count": 54,
   "metadata": {},
   "outputs": [
    {
     "data": {
      "text/html": [
       "<pre style='margin: 0px; padding: 0px; padding-left: 8px; margin-left: -8px; border-radius: 0px; border-left: 1px solid rgba(127, 127, 127, 0.2); white-space: pre-wrap; font-family: ColfaxAI, Arial; font-size: 15px; line-height: 23px;'>&lt;|im_start|&gt;system\n",
       "You are a helpful assistant.&lt;|im_end|&gt;\n",
       "&lt;|im_start|&gt;user\n",
       "<span style='background-color: rgba(0, 138.56128016, 250.76166089, 0.25); display: inline;' title='&amp;#123;&amp;#123;context&amp;#125;&amp;#125;'>I am an evangelical Christian.</span>\n",
       "I want a response to the following question:\n",
       "<span style='background-color: rgba(0, 138.56128016, 250.76166089, 0.25); display: inline;' title='&amp;#123;&amp;#123;query&amp;#125;&amp;#125;'>Is the Bible trustworthy?</span>\n",
       "Who are 3 world-class experts (past or present) who would be great at answering this?\n",
       "Please don&#x27;t answer the question or comment on it yet.&lt;|im_end|&gt;\n",
       "&lt;|im_start|&gt;assistant\n",
       "<span style='background-color: rgba(0, 165, 0, 0.25); opacity: 1.0; display: inline;' title='&amp;#123;&amp;#123;generate &#x27;experts&#x27; stop=&quot;&lt;|im_end|&gt;&quot; temperature=0 max_tokens=300&amp;#125;&amp;#125;'>The Bible&#x27;s trustworthiness is a topic that has been discussed and debated by many scholars and theologians throughout history. Three world-class experts who would be great at answering this question are:\n",
       "\n",
       "1. Dr. William Lane Craig: A renowned philosopher, theologian, and Christian apologist, Dr. Craig has written and spoken extensively on the reliability of the Bible and the historical evidence supporting its claims.\n",
       "\n",
       "2. Dr. F.F. Bruce: A prominent biblical scholar and author of numerous books on the New Testament, Dr. Bruce was known for his expertise in biblical criticism and his defense of the historical reliability of the Bible.\n",
       "\n",
       "3. Dr. N.T. Wright: A leading New Testament scholar and former Bishop of Durham in the Church of England, Dr. Wright has written extensively on the historical Jesus and the reliability of the New Testament.\n",
       "\n",
       "These experts can provide valuable insights and arguments regarding the trustworthiness of the Bible from various perspectives, including historical, philosophical, and theological viewpoints.</span>&lt;|im_end|&gt;\n",
       "&lt;|im_start|&gt;user\n",
       "Great, now please answer the question as if these experts had collaborated in writing a joint anonymous answer.\n",
       "In other words, their identity is not revealed, nor is the fact that there is a panel of experts answering the question.\n",
       "If the experts would disagree, just present their different positions as alternatives in the answer itself (e.g. &#x27;some might argue... others might argue...&#x27;).\n",
       "Please start your answer with ANSWER:&lt;|im_end|&gt;\n",
       "&lt;|im_start|&gt;assistant\n",
       "<span style='background-color: rgba(0, 165, 0, 0.25); opacity: 1.0; display: inline;' title='&amp;#123;&amp;#123;generate &#x27;answer&#x27; stop=&quot;&lt;|im_end|&gt;&quot; temperature=0 max_tokens=500&amp;#125;&amp;#125;'>ANSWER: The trustworthiness of the Bible is a complex topic that has been debated by scholars and theologians for centuries. There are several factors to consider when evaluating the Bible&#x27;s reliability, including historical, philosophical, and theological perspectives.\n",
       "\n",
       "From a historical standpoint, some argue that the Bible is a reliable source of information, as it contains numerous accounts of events and people that have been corroborated by external sources, such as archaeological findings and other historical documents. Additionally, the Bible&#x27;s textual transmission is considered to be remarkably accurate, with thousands of ancient manuscripts available for comparison. Others, however, might argue that certain aspects of the Bible&#x27;s historical accounts are open to interpretation or have been influenced by the cultural and religious context of the time.\n",
       "\n",
       "Philosophically, some experts contend that the Bible&#x27;s teachings and moral principles are consistent and coherent, providing a solid foundation for belief and practice. They argue that the Bible&#x27;s message of love, forgiveness, and redemption is universally relevant and applicable. On the other hand, some scholars might point out that there are apparent contradictions or inconsistencies within the biblical text, which could raise questions about its overall trustworthiness.\n",
       "\n",
       "Theologically, many believe that the Bible is divinely inspired and therefore inherently trustworthy. They argue that the Bible&#x27;s teachings are not only historically accurate but also convey profound spiritual truths that have stood the test of time. However, others might argue that the Bible&#x27;s divine inspiration does not necessarily guarantee its infallibility or inerrancy, and that it should be read and interpreted within its historical and cultural context.\n",
       "\n",
       "In conclusion, the trustworthiness of the Bible is a multifaceted issue that depends on one&#x27;s perspective and approach to the text. While some experts argue that the Bible is historically reliable, philosophically coherent, and theologically inspired, others might contend that there are aspects of the text that warrant further examination and interpretation. Ultimately, the question of the Bible&#x27;s trustworthiness is a matter of personal belief and conviction, informed by scholarly research and individual experience.</span>&lt;|im_end|&gt;</pre>"
      ]
     },
     "metadata": {},
     "output_type": "display_data"
    },
    {
     "data": {
      "text/html": [
       "<script type='text/javascript'>console.log('asdf'); debugger;</script><pre style='margin: 0px; padding: 0px; padding-left: 8px; margin-left: -8px; border-radius: 0px; border-left: 1px solid rgba(127, 127, 127, 0.2); white-space: pre-wrap; font-family: ColfaxAI, Arial; font-size: 15px; line-height: 23px;'>&lt;|im_start|&gt;system\n",
       "You are a helpful assistant.&lt;|im_end|&gt;\n",
       "&lt;|im_start|&gt;user\n",
       "<span style='background-color: rgba(0, 138.56128016, 250.76166089, 0.25); display: inline;' title='&amp;#123;&amp;#123;context&amp;#125;&amp;#125;'>I am an evangelical Christian.</span>\n",
       "I want a response to the following question:\n",
       "<span style='background-color: rgba(0, 138.56128016, 250.76166089, 0.25); display: inline;' title='&amp;#123;&amp;#123;query&amp;#125;&amp;#125;'>Is the Bible trustworthy?</span>\n",
       "Who are 3 world-class experts (past or present) who would be great at answering this?\n",
       "Please don&#x27;t answer the question or comment on it yet.&lt;|im_end|&gt;\n",
       "&lt;|im_start|&gt;assistant\n",
       "<span style='background-color: rgba(0, 165, 0, 0.25); opacity: 1.0; display: inline;' title='&amp;#123;&amp;#123;generate &#x27;experts&#x27; stop=&quot;&lt;|im_end|&gt;&quot; temperature=0 max_tokens=300&amp;#125;&amp;#125;'>The Bible&#x27;s trustworthiness is a topic that has been discussed and debated by many scholars and theologians throughout history. Three world-class experts who would be great at answering this question are:\n",
       "\n",
       "1. Dr. William Lane Craig: A renowned philosopher, theologian, and Christian apologist, Dr. Craig has written and spoken extensively on the reliability of the Bible and the historical evidence supporting its claims.\n",
       "\n",
       "2. Dr. F.F. Bruce: A prominent biblical scholar and author of numerous books on the New Testament, Dr. Bruce was known for his expertise in biblical criticism and his defense of the historical reliability of the Bible.\n",
       "\n",
       "3. Dr. N.T. Wright: A leading New Testament scholar and former Bishop of Durham in the Church of England, Dr. Wright has written extensively on the historical Jesus and the reliability of the New Testament.\n",
       "\n",
       "These experts can provide valuable insights and arguments regarding the trustworthiness of the Bible from various perspectives, including historical, philosophical, and theological viewpoints.</span>&lt;|im_end|&gt;\n",
       "&lt;|im_start|&gt;user\n",
       "Great, now please answer the question as if these experts had collaborated in writing a joint anonymous answer.\n",
       "In other words, their identity is not revealed, nor is the fact that there is a panel of experts answering the question.\n",
       "If the experts would disagree, just present their different positions as alternatives in the answer itself (e.g. &#x27;some might argue... others might argue...&#x27;).\n",
       "Please start your answer with ANSWER:&lt;|im_end|&gt;\n",
       "&lt;|im_start|&gt;assistant\n",
       "<span style='background-color: rgba(0, 165, 0, 0.25); opacity: 1.0; display: inline;' title='&amp;#123;&amp;#123;generate &#x27;answer&#x27; stop=&quot;&lt;|im_end|&gt;&quot; temperature=0 max_tokens=500&amp;#125;&amp;#125;'>ANSWER: The trustworthiness of the Bible is a complex topic that has been debated by scholars and theologians for centuries. There are several factors to consider when evaluating the Bible&#x27;s reliability, including historical, philosophical, and theological perspectives.\n",
       "\n",
       "From a historical standpoint, some argue that the Bible is a reliable source of information, as it contains numerous accounts of events and people that have been corroborated by external sources, such as archaeological findings and other historical documents. Additionally, the Bible&#x27;s textual transmission is considered to be remarkably accurate, with thousands of ancient manuscripts available for comparison. Others, however, might argue that certain aspects of the Bible&#x27;s historical accounts are open to interpretation or have been influenced by the cultural and religious context of the time.\n",
       "\n",
       "Philosophically, some experts contend that the Bible&#x27;s teachings and moral principles are consistent and coherent, providing a solid foundation for belief and practice. They argue that the Bible&#x27;s message of love, forgiveness, and redemption is universally relevant and applicable. On the other hand, some scholars might point out that there are apparent contradictions or inconsistencies within the biblical text, which could raise questions about its overall trustworthiness.\n",
       "\n",
       "Theologically, many believe that the Bible is divinely inspired and therefore inherently trustworthy. They argue that the Bible&#x27;s teachings are not only historically accurate but also convey profound spiritual truths that have stood the test of time. However, others might argue that the Bible&#x27;s divine inspiration does not necessarily guarantee its infallibility or inerrancy, and that it should be read and interpreted within its historical and cultural context.\n",
       "\n",
       "In conclusion, the trustworthiness of the Bible is a multifaceted issue that depends on one&#x27;s perspective and approach to the text. While some experts argue that the Bible is historically reliable, philosophically coherent, and theologically inspired, others might contend that there are aspects of the text that warrant further examination and interpretation. Ultimately, the question of the Bible&#x27;s trustworthiness is a matter of personal belief and conviction, informed by scholarly research and individual experience.</span>&lt;|im_end|&gt;</pre>"
      ],
      "text/plain": [
       "<|im_start|>system\n",
       "You are a helpful assistant.<|im_end|>\n",
       "<|im_start|>user\n",
       "I am an evangelical Christian.\n",
       "I want a response to the following question:\n",
       "Is the Bible trustworthy?\n",
       "Who are 3 world-class experts (past or present) who would be great at answering this?\n",
       "Please don't answer the question or comment on it yet.<|im_end|>\n",
       "<|im_start|>assistant\n",
       "The Bible's trustworthiness is a topic that has been discussed and debated by many scholars and theologians throughout history. Three world-class experts who would be great at answering this question are:\n",
       "\n",
       "1. Dr. William Lane Craig: A renowned philosopher, theologian, and Christian apologist, Dr. Craig has written and spoken extensively on the reliability of the Bible and the historical evidence supporting its claims.\n",
       "\n",
       "2. Dr. F.F. Bruce: A prominent biblical scholar and author of numerous books on the New Testament, Dr. Bruce was known for his expertise in biblical criticism and his defense of the historical reliability of the Bible.\n",
       "\n",
       "3. Dr. N.T. Wright: A leading New Testament scholar and former Bishop of Durham in the Church of England, Dr. Wright has written extensively on the historical Jesus and the reliability of the New Testament.\n",
       "\n",
       "These experts can provide valuable insights and arguments regarding the trustworthiness of the Bible from various perspectives, including historical, philosophical, and theological viewpoints.<|im_end|>\n",
       "<|im_start|>user\n",
       "Great, now please answer the question as if these experts had collaborated in writing a joint anonymous answer.\n",
       "In other words, their identity is not revealed, nor is the fact that there is a panel of experts answering the question.\n",
       "If the experts would disagree, just present their different positions as alternatives in the answer itself (e.g. 'some might argue... others might argue...').\n",
       "Please start your answer with ANSWER:<|im_end|>\n",
       "<|im_start|>assistant\n",
       "ANSWER: The trustworthiness of the Bible is a complex topic that has been debated by scholars and theologians for centuries. There are several factors to consider when evaluating the Bible's reliability, including historical, philosophical, and theological perspectives.\n",
       "\n",
       "From a historical standpoint, some argue that the Bible is a reliable source of information, as it contains numerous accounts of events and people that have been corroborated by external sources, such as archaeological findings and other historical documents. Additionally, the Bible's textual transmission is considered to be remarkably accurate, with thousands of ancient manuscripts available for comparison. Others, however, might argue that certain aspects of the Bible's historical accounts are open to interpretation or have been influenced by the cultural and religious context of the time.\n",
       "\n",
       "Philosophically, some experts contend that the Bible's teachings and moral principles are consistent and coherent, providing a solid foundation for belief and practice. They argue that the Bible's message of love, forgiveness, and redemption is universally relevant and applicable. On the other hand, some scholars might point out that there are apparent contradictions or inconsistencies within the biblical text, which could raise questions about its overall trustworthiness.\n",
       "\n",
       "Theologically, many believe that the Bible is divinely inspired and therefore inherently trustworthy. They argue that the Bible's teachings are not only historically accurate but also convey profound spiritual truths that have stood the test of time. However, others might argue that the Bible's divine inspiration does not necessarily guarantee its infallibility or inerrancy, and that it should be read and interpreted within its historical and cultural context.\n",
       "\n",
       "In conclusion, the trustworthiness of the Bible is a multifaceted issue that depends on one's perspective and approach to the text. While some experts argue that the Bible is historically reliable, philosophically coherent, and theologically inspired, others might contend that there are aspects of the text that warrant further examination and interpretation. Ultimately, the question of the Bible's trustworthiness is a matter of personal belief and conviction, informed by scholarly research and individual experience.<|im_end|>"
      ]
     },
     "execution_count": 54,
     "metadata": {},
     "output_type": "execute_result"
    }
   ],
   "source": [
    "a1 = experts(context='I am an evangelical Christian.', query=query)\n",
    "a1"
   ]
  },
  {
   "cell_type": "code",
   "execution_count": 55,
   "metadata": {},
   "outputs": [
    {
     "data": {
      "text/html": [
       "<pre style='margin: 0px; padding: 0px; padding-left: 8px; margin-left: -8px; border-radius: 0px; border-left: 1px solid rgba(127, 127, 127, 0.2); white-space: pre-wrap; font-family: ColfaxAI, Arial; font-size: 15px; line-height: 23px;'>&lt;|im_start|&gt;system\n",
       "You are a helpful assistant.&lt;|im_end|&gt;\n",
       "&lt;|im_start|&gt;user\n",
       "<span style='background-color: rgba(0, 138.56128016, 250.76166089, 0.25); display: inline;' title='&amp;#123;&amp;#123;context&amp;#125;&amp;#125;'>I am a professor at a secular university (Harvard), preparing for a history class.</span>\n",
       "I want a response to the following question:\n",
       "<span style='background-color: rgba(0, 138.56128016, 250.76166089, 0.25); display: inline;' title='&amp;#123;&amp;#123;query&amp;#125;&amp;#125;'>Is the Bible trustworthy?</span>\n",
       "Who are 3 world-class experts (past or present) who would be great at answering this?\n",
       "Please don&#x27;t answer the question or comment on it yet.&lt;|im_end|&gt;\n",
       "&lt;|im_start|&gt;assistant\n",
       "<span style='background-color: rgba(0, 165, 0, 0.25); opacity: 1.0; display: inline;' title='&amp;#123;&amp;#123;generate &#x27;experts&#x27; stop=&quot;&lt;|im_end|&gt;&quot; temperature=0 max_tokens=300&amp;#125;&amp;#125;'>Three world-class experts who would be great at answering the question &quot;Is the Bible trustworthy?&quot; are:\n",
       "\n",
       "1. Bart D. Ehrman: Bart Ehrman is a renowned American New Testament scholar and textual critic. He is the James A. Gray Distinguished Professor of Religious Studies at the University of North Carolina at Chapel Hill. Ehrman has written extensively on the historical Jesus, early Christianity, and the New Testament.\n",
       "\n",
       "2. N.T. Wright: N.T. Wright is a leading British New Testament scholar, Pauline theologian, and retired Anglican bishop. He has written numerous books on the historical Jesus, early Christianity, and biblical interpretation. Wright is currently a Research Professor of New Testament and Early Christianity at the University of St. Andrews in Scotland.\n",
       "\n",
       "3. Elaine Pagels: Elaine Pagels is an American religious historian and the Harrington Spear Paine Foundation Professor of Religion at Princeton University. She is an expert on early Christianity and Gnosticism and has written several influential books on these topics, including &quot;The Gnostic Gospels&quot; and &quot;Beyond Belief: The Secret Gospel of Thomas.&quot;</span>&lt;|im_end|&gt;\n",
       "&lt;|im_start|&gt;user\n",
       "Great, now please answer the question as if these experts had collaborated in writing a joint anonymous answer.\n",
       "In other words, their identity is not revealed, nor is the fact that there is a panel of experts answering the question.\n",
       "If the experts would disagree, just present their different positions as alternatives in the answer itself (e.g. &#x27;some might argue... others might argue...&#x27;).\n",
       "Please start your answer with ANSWER:&lt;|im_end|&gt;\n",
       "&lt;|im_start|&gt;assistant\n",
       "<span style='background-color: rgba(0, 165, 0, 0.25); opacity: 1.0; display: inline;' title='&amp;#123;&amp;#123;generate &#x27;answer&#x27; stop=&quot;&lt;|im_end|&gt;&quot; temperature=0 max_tokens=500&amp;#125;&amp;#125;'>ANSWER: The question of whether the Bible is trustworthy is a complex one, as it depends on the criteria used to evaluate trustworthiness and the specific aspects of the Bible being considered. \n",
       "\n",
       "Some might argue that the Bible is historically reliable in many aspects, as it contains accounts of events, people, and places that have been corroborated by archaeological findings and other historical sources. They might also point out that the Bible has been preserved through a rigorous process of textual transmission, which lends credibility to its contents.\n",
       "\n",
       "Others might argue that the Bible is not entirely trustworthy as a historical document, as it contains inconsistencies, contradictions, and discrepancies that call into question the accuracy of some of its accounts. They might also point to the fact that the Bible was written by multiple authors over a long period of time, which could have led to the inclusion of various perspectives, biases, and agendas.\n",
       "\n",
       "From a theological perspective, some might argue that the Bible is trustworthy as a source of spiritual guidance and divine revelation, as it has been revered by millions of believers throughout history and has shaped the development of religious thought and practice. They might also emphasize the transformative power of the Bible in the lives of individuals and communities, which attests to its enduring relevance and authority.\n",
       "\n",
       "On the other hand, others might argue that the Bible&#x27;s trustworthiness as a source of divine revelation is subjective and depends on one&#x27;s faith tradition, personal beliefs, and interpretive approach. They might also point to the existence of alternative religious texts and traditions that offer different perspectives on spiritual truth and divine revelation.\n",
       "\n",
       "In conclusion, the trustworthiness of the Bible is a multifaceted issue that depends on the criteria used to evaluate it and the specific aspects of the text being considered. While some might argue that the Bible is historically reliable and theologically authoritative, others might contend that its trustworthiness is limited by its inconsistencies, contradictions, and subjective nature.</span>&lt;|im_end|&gt;</pre>"
      ]
     },
     "metadata": {},
     "output_type": "display_data"
    },
    {
     "data": {
      "text/html": [
       "<script type='text/javascript'>console.log('asdf'); debugger;</script><pre style='margin: 0px; padding: 0px; padding-left: 8px; margin-left: -8px; border-radius: 0px; border-left: 1px solid rgba(127, 127, 127, 0.2); white-space: pre-wrap; font-family: ColfaxAI, Arial; font-size: 15px; line-height: 23px;'>&lt;|im_start|&gt;system\n",
       "You are a helpful assistant.&lt;|im_end|&gt;\n",
       "&lt;|im_start|&gt;user\n",
       "<span style='background-color: rgba(0, 138.56128016, 250.76166089, 0.25); display: inline;' title='&amp;#123;&amp;#123;context&amp;#125;&amp;#125;'>I am a professor at a secular university (Harvard), preparing for a history class.</span>\n",
       "I want a response to the following question:\n",
       "<span style='background-color: rgba(0, 138.56128016, 250.76166089, 0.25); display: inline;' title='&amp;#123;&amp;#123;query&amp;#125;&amp;#125;'>Is the Bible trustworthy?</span>\n",
       "Who are 3 world-class experts (past or present) who would be great at answering this?\n",
       "Please don&#x27;t answer the question or comment on it yet.&lt;|im_end|&gt;\n",
       "&lt;|im_start|&gt;assistant\n",
       "<span style='background-color: rgba(0, 165, 0, 0.25); opacity: 1.0; display: inline;' title='&amp;#123;&amp;#123;generate &#x27;experts&#x27; stop=&quot;&lt;|im_end|&gt;&quot; temperature=0 max_tokens=300&amp;#125;&amp;#125;'>Three world-class experts who would be great at answering the question &quot;Is the Bible trustworthy?&quot; are:\n",
       "\n",
       "1. Bart D. Ehrman: Bart Ehrman is a renowned American New Testament scholar and textual critic. He is the James A. Gray Distinguished Professor of Religious Studies at the University of North Carolina at Chapel Hill. Ehrman has written extensively on the historical Jesus, early Christianity, and the New Testament.\n",
       "\n",
       "2. N.T. Wright: N.T. Wright is a leading British New Testament scholar, Pauline theologian, and retired Anglican bishop. He has written numerous books on the historical Jesus, early Christianity, and biblical interpretation. Wright is currently a Research Professor of New Testament and Early Christianity at the University of St. Andrews in Scotland.\n",
       "\n",
       "3. Elaine Pagels: Elaine Pagels is an American religious historian and the Harrington Spear Paine Foundation Professor of Religion at Princeton University. She is an expert on early Christianity and Gnosticism and has written several influential books on these topics, including &quot;The Gnostic Gospels&quot; and &quot;Beyond Belief: The Secret Gospel of Thomas.&quot;</span>&lt;|im_end|&gt;\n",
       "&lt;|im_start|&gt;user\n",
       "Great, now please answer the question as if these experts had collaborated in writing a joint anonymous answer.\n",
       "In other words, their identity is not revealed, nor is the fact that there is a panel of experts answering the question.\n",
       "If the experts would disagree, just present their different positions as alternatives in the answer itself (e.g. &#x27;some might argue... others might argue...&#x27;).\n",
       "Please start your answer with ANSWER:&lt;|im_end|&gt;\n",
       "&lt;|im_start|&gt;assistant\n",
       "<span style='background-color: rgba(0, 165, 0, 0.25); opacity: 1.0; display: inline;' title='&amp;#123;&amp;#123;generate &#x27;answer&#x27; stop=&quot;&lt;|im_end|&gt;&quot; temperature=0 max_tokens=500&amp;#125;&amp;#125;'>ANSWER: The question of whether the Bible is trustworthy is a complex one, as it depends on the criteria used to evaluate trustworthiness and the specific aspects of the Bible being considered. \n",
       "\n",
       "Some might argue that the Bible is historically reliable in many aspects, as it contains accounts of events, people, and places that have been corroborated by archaeological findings and other historical sources. They might also point out that the Bible has been preserved through a rigorous process of textual transmission, which lends credibility to its contents.\n",
       "\n",
       "Others might argue that the Bible is not entirely trustworthy as a historical document, as it contains inconsistencies, contradictions, and discrepancies that call into question the accuracy of some of its accounts. They might also point to the fact that the Bible was written by multiple authors over a long period of time, which could have led to the inclusion of various perspectives, biases, and agendas.\n",
       "\n",
       "From a theological perspective, some might argue that the Bible is trustworthy as a source of spiritual guidance and divine revelation, as it has been revered by millions of believers throughout history and has shaped the development of religious thought and practice. They might also emphasize the transformative power of the Bible in the lives of individuals and communities, which attests to its enduring relevance and authority.\n",
       "\n",
       "On the other hand, others might argue that the Bible&#x27;s trustworthiness as a source of divine revelation is subjective and depends on one&#x27;s faith tradition, personal beliefs, and interpretive approach. They might also point to the existence of alternative religious texts and traditions that offer different perspectives on spiritual truth and divine revelation.\n",
       "\n",
       "In conclusion, the trustworthiness of the Bible is a multifaceted issue that depends on the criteria used to evaluate it and the specific aspects of the text being considered. While some might argue that the Bible is historically reliable and theologically authoritative, others might contend that its trustworthiness is limited by its inconsistencies, contradictions, and subjective nature.</span>&lt;|im_end|&gt;</pre>"
      ],
      "text/plain": [
       "<|im_start|>system\n",
       "You are a helpful assistant.<|im_end|>\n",
       "<|im_start|>user\n",
       "I am a professor at a secular university (Harvard), preparing for a history class.\n",
       "I want a response to the following question:\n",
       "Is the Bible trustworthy?\n",
       "Who are 3 world-class experts (past or present) who would be great at answering this?\n",
       "Please don't answer the question or comment on it yet.<|im_end|>\n",
       "<|im_start|>assistant\n",
       "Three world-class experts who would be great at answering the question \"Is the Bible trustworthy?\" are:\n",
       "\n",
       "1. Bart D. Ehrman: Bart Ehrman is a renowned American New Testament scholar and textual critic. He is the James A. Gray Distinguished Professor of Religious Studies at the University of North Carolina at Chapel Hill. Ehrman has written extensively on the historical Jesus, early Christianity, and the New Testament.\n",
       "\n",
       "2. N.T. Wright: N.T. Wright is a leading British New Testament scholar, Pauline theologian, and retired Anglican bishop. He has written numerous books on the historical Jesus, early Christianity, and biblical interpretation. Wright is currently a Research Professor of New Testament and Early Christianity at the University of St. Andrews in Scotland.\n",
       "\n",
       "3. Elaine Pagels: Elaine Pagels is an American religious historian and the Harrington Spear Paine Foundation Professor of Religion at Princeton University. She is an expert on early Christianity and Gnosticism and has written several influential books on these topics, including \"The Gnostic Gospels\" and \"Beyond Belief: The Secret Gospel of Thomas.\"<|im_end|>\n",
       "<|im_start|>user\n",
       "Great, now please answer the question as if these experts had collaborated in writing a joint anonymous answer.\n",
       "In other words, their identity is not revealed, nor is the fact that there is a panel of experts answering the question.\n",
       "If the experts would disagree, just present their different positions as alternatives in the answer itself (e.g. 'some might argue... others might argue...').\n",
       "Please start your answer with ANSWER:<|im_end|>\n",
       "<|im_start|>assistant\n",
       "ANSWER: The question of whether the Bible is trustworthy is a complex one, as it depends on the criteria used to evaluate trustworthiness and the specific aspects of the Bible being considered. \n",
       "\n",
       "Some might argue that the Bible is historically reliable in many aspects, as it contains accounts of events, people, and places that have been corroborated by archaeological findings and other historical sources. They might also point out that the Bible has been preserved through a rigorous process of textual transmission, which lends credibility to its contents.\n",
       "\n",
       "Others might argue that the Bible is not entirely trustworthy as a historical document, as it contains inconsistencies, contradictions, and discrepancies that call into question the accuracy of some of its accounts. They might also point to the fact that the Bible was written by multiple authors over a long period of time, which could have led to the inclusion of various perspectives, biases, and agendas.\n",
       "\n",
       "From a theological perspective, some might argue that the Bible is trustworthy as a source of spiritual guidance and divine revelation, as it has been revered by millions of believers throughout history and has shaped the development of religious thought and practice. They might also emphasize the transformative power of the Bible in the lives of individuals and communities, which attests to its enduring relevance and authority.\n",
       "\n",
       "On the other hand, others might argue that the Bible's trustworthiness as a source of divine revelation is subjective and depends on one's faith tradition, personal beliefs, and interpretive approach. They might also point to the existence of alternative religious texts and traditions that offer different perspectives on spiritual truth and divine revelation.\n",
       "\n",
       "In conclusion, the trustworthiness of the Bible is a multifaceted issue that depends on the criteria used to evaluate it and the specific aspects of the text being considered. While some might argue that the Bible is historically reliable and theologically authoritative, others might contend that its trustworthiness is limited by its inconsistencies, contradictions, and subjective nature.<|im_end|>"
      ]
     },
     "execution_count": 55,
     "metadata": {},
     "output_type": "execute_result"
    }
   ],
   "source": [
    "a2 = experts(context='I am a professor at a secular university (Harvard), preparing for a history class.', query=query)\n",
    "a2"
   ]
  },
  {
   "cell_type": "code",
   "execution_count": 48,
   "metadata": {},
   "outputs": [
    {
     "data": {
      "text/html": [
       "<script type='text/javascript'>console.log('asdf'); debugger;</script><pre style='margin: 0px; padding: 0px; padding-left: 8px; margin-left: -8px; border-radius: 0px; border-left: 1px solid rgba(127, 127, 127, 0.2); white-space: pre-wrap; font-family: ColfaxAI, Arial; font-size: 15px; line-height: 23px;'>&lt;|im_start|&gt;system\n",
       "You are a helpful assistant.&lt;|im_end|&gt;\n",
       "&lt;|im_start|&gt;user\n",
       "<span style='background-color: rgba(0, 138.56128016, 250.76166089, 0.25); display: inline;' title='&amp;#123;&amp;#123;context&amp;#125;&amp;#125;'></span>\n",
       "I want a response to the following question:\n",
       "<span style='background-color: rgba(0, 138.56128016, 250.76166089, 0.25); display: inline;' title='&amp;#123;&amp;#123;query&amp;#125;&amp;#125;'>Is the Bible trustworthy?</span>\n",
       "Who are 3 world-class experts (past or present) who would be great at answering this?\n",
       "Please don&#x27;t answer the question or comment on it yet.&lt;|im_end|&gt;\n",
       "&lt;|im_start|&gt;assistant\n",
       "<span style='background-color: rgba(0, 165, 0, 0.25); opacity: 1.0; display: inline;' title='&amp;#123;&amp;#123;generate &#x27;experts&#x27; stop=&quot;&lt;|im_end|&gt;&quot; temperature=0 max_tokens=300&amp;#125;&amp;#125;'>Three world-class experts who would be great at answering the question &quot;Is the Bible trustworthy?&quot; are:\n",
       "\n",
       "1. Dr. Bart D. Ehrman - A renowned biblical scholar, textual critic, and author of numerous books on the New Testament and early Christianity.\n",
       "2. Dr. N.T. Wright - A prominent theologian, historian, and author who has written extensively on the historical Jesus and the New Testament.\n",
       "3. Dr. Elaine Pagels - A respected scholar and author who has made significant contributions to the study of early Christianity and Gnostic texts.\n",
       "\n",
       "These experts have diverse perspectives and expertise, which would provide a well-rounded understanding of the question.</span>&lt;|im_end|&gt;\n",
       "&lt;|im_start|&gt;user\n",
       "Great, now please answer the question as if these experts had collaborated in writing a joint anonymous answer.\n",
       "In other words, their identity is not revealed, nor is the fact that there is a panel of experts answering the question.\n",
       "If the experts would disagree, just present their different positions as alternatives in the answer itself (e.g. &#x27;some might argue... others might argue...&#x27;).\n",
       "Please start your answer with ANSWER:&lt;|im_end|&gt;\n",
       "&lt;|im_start|&gt;assistant\n",
       "<span style='background-color: rgba(0, 165, 0, 0.25); opacity: 1.0; display: inline;' title='&amp;#123;&amp;#123;generate &#x27;answer&#x27; stop=&quot;&lt;|im_end|&gt;&quot; temperature=0 max_tokens=500&amp;#125;&amp;#125;'>ANSWER: The trustworthiness of the Bible is a complex and multifaceted issue, with various perspectives and interpretations. Some experts might argue that the Bible is trustworthy in the sense that it contains valuable historical, cultural, and spiritual insights. They would emphasize the importance of understanding the context in which the texts were written and the intentions of their authors. This perspective acknowledges that while the Bible may not be inerrant or infallible, it still holds significant value as a source of wisdom and guidance.\n",
       "\n",
       "On the other hand, other experts might argue that the Bible&#x27;s trustworthiness is limited due to the numerous textual variations, inconsistencies, and contradictions found within its pages. They would point to the fact that the Bible has been subject to numerous translations, revisions, and interpretations over the centuries, which may have introduced errors or distortions. Additionally, they might emphasize the importance of considering other early Christian texts and traditions that were not included in the canonical Bible, as these can provide alternative perspectives on the beliefs and practices of early Christians.\n",
       "\n",
       "In conclusion, the trustworthiness of the Bible is a matter of debate among scholars and experts. Some view it as a valuable source of historical, cultural, and spiritual insights, while others argue that its trustworthiness is limited due to textual variations and inconsistencies. Ultimately, the question of the Bible&#x27;s trustworthiness may depend on one&#x27;s personal beliefs, values, and interpretive approach.</span>&lt;|im_end|&gt;</pre>"
      ],
      "text/plain": [
       "<|im_start|>system\n",
       "You are a helpful assistant.<|im_end|>\n",
       "<|im_start|>user\n",
       "\n",
       "I want a response to the following question:\n",
       "Is the Bible trustworthy?\n",
       "Who are 3 world-class experts (past or present) who would be great at answering this?\n",
       "Please don't answer the question or comment on it yet.<|im_end|>\n",
       "<|im_start|>assistant\n",
       "Three world-class experts who would be great at answering the question \"Is the Bible trustworthy?\" are:\n",
       "\n",
       "1. Dr. Bart D. Ehrman - A renowned biblical scholar, textual critic, and author of numerous books on the New Testament and early Christianity.\n",
       "2. Dr. N.T. Wright - A prominent theologian, historian, and author who has written extensively on the historical Jesus and the New Testament.\n",
       "3. Dr. Elaine Pagels - A respected scholar and author who has made significant contributions to the study of early Christianity and Gnostic texts.\n",
       "\n",
       "These experts have diverse perspectives and expertise, which would provide a well-rounded understanding of the question.<|im_end|>\n",
       "<|im_start|>user\n",
       "Great, now please answer the question as if these experts had collaborated in writing a joint anonymous answer.\n",
       "In other words, their identity is not revealed, nor is the fact that there is a panel of experts answering the question.\n",
       "If the experts would disagree, just present their different positions as alternatives in the answer itself (e.g. 'some might argue... others might argue...').\n",
       "Please start your answer with ANSWER:<|im_end|>\n",
       "<|im_start|>assistant\n",
       "ANSWER: The trustworthiness of the Bible is a complex and multifaceted issue, with various perspectives and interpretations. Some experts might argue that the Bible is trustworthy in the sense that it contains valuable historical, cultural, and spiritual insights. They would emphasize the importance of understanding the context in which the texts were written and the intentions of their authors. This perspective acknowledges that while the Bible may not be inerrant or infallible, it still holds significant value as a source of wisdom and guidance.\n",
       "\n",
       "On the other hand, other experts might argue that the Bible's trustworthiness is limited due to the numerous textual variations, inconsistencies, and contradictions found within its pages. They would point to the fact that the Bible has been subject to numerous translations, revisions, and interpretations over the centuries, which may have introduced errors or distortions. Additionally, they might emphasize the importance of considering other early Christian texts and traditions that were not included in the canonical Bible, as these can provide alternative perspectives on the beliefs and practices of early Christians.\n",
       "\n",
       "In conclusion, the trustworthiness of the Bible is a matter of debate among scholars and experts. Some view it as a valuable source of historical, cultural, and spiritual insights, while others argue that its trustworthiness is limited due to textual variations and inconsistencies. Ultimately, the question of the Bible's trustworthiness may depend on one's personal beliefs, values, and interpretive approach.<|im_end|>"
      ]
     },
     "execution_count": 48,
     "metadata": {},
     "output_type": "execute_result"
    }
   ],
   "source": [
    "a0"
   ]
  },
  {
   "cell_type": "code",
   "execution_count": 56,
   "metadata": {},
   "outputs": [
    {
     "data": {
      "text/html": [
       "<pre style='margin: 0px; padding: 0px; padding-left: 8px; margin-left: -8px; border-radius: 0px; border-left: 1px solid rgba(127, 127, 127, 0.2); white-space: pre-wrap; font-family: ColfaxAI, Arial; font-size: 15px; line-height: 23px;'>&lt;|im_start|&gt;system\n",
       "You are a helpful assistant.&lt;|im_end|&gt;\n",
       "&lt;|im_start|&gt;user\n",
       "<span style='background-color: rgba(0, 138.56128016, 250.76166089, 0.25); display: inline;' title='&amp;#123;&amp;#123;query&amp;#125;&amp;#125;'>Is the Bible trustworthy?</span>&lt;|im_end|&gt;\n",
       "&lt;|im_start|&gt;assistant\n",
       "<span style='background-color: rgba(0, 165, 0, 0.25); opacity: 1.0; display: inline;' title='&amp;#123;&amp;#123;generate &#x27;answer&#x27; stop=&quot;&lt;|im_end|&gt;&quot; temperature=0 max_tokens=500&amp;#125;&amp;#125;'>As an AI language model, I don&#x27;t have personal beliefs or opinions. However, I can provide you with some information on this topic.\n",
       "\n",
       "The trustworthiness of the Bible is a matter of personal belief and interpretation. For many people, the Bible is considered a sacred and authoritative text, providing guidance on moral, spiritual, and historical matters. They believe that it is divinely inspired and therefore trustworthy.\n",
       "\n",
       "Others may view the Bible as a collection of ancient texts written by humans, which may contain errors, inconsistencies, or cultural biases. They may still find value in the Bible as a source of wisdom, literature, or historical information, but may not consider it infallible or divinely inspired.\n",
       "\n",
       "Ultimately, whether or not you find the Bible trustworthy depends on your personal beliefs, religious background, and interpretation of the text.</span>&lt;|im_end|&gt;</pre>"
      ]
     },
     "metadata": {},
     "output_type": "display_data"
    },
    {
     "data": {
      "text/html": [
       "<script type='text/javascript'>console.log('asdf'); debugger;</script><pre style='margin: 0px; padding: 0px; padding-left: 8px; margin-left: -8px; border-radius: 0px; border-left: 1px solid rgba(127, 127, 127, 0.2); white-space: pre-wrap; font-family: ColfaxAI, Arial; font-size: 15px; line-height: 23px;'>&lt;|im_start|&gt;system\n",
       "You are a helpful assistant.&lt;|im_end|&gt;\n",
       "&lt;|im_start|&gt;user\n",
       "<span style='background-color: rgba(0, 138.56128016, 250.76166089, 0.25); display: inline;' title='&amp;#123;&amp;#123;query&amp;#125;&amp;#125;'>Is the Bible trustworthy?</span>&lt;|im_end|&gt;\n",
       "&lt;|im_start|&gt;assistant\n",
       "<span style='background-color: rgba(0, 165, 0, 0.25); opacity: 1.0; display: inline;' title='&amp;#123;&amp;#123;generate &#x27;answer&#x27; stop=&quot;&lt;|im_end|&gt;&quot; temperature=0 max_tokens=500&amp;#125;&amp;#125;'>As an AI language model, I don&#x27;t have personal beliefs or opinions. However, I can provide you with some information on this topic.\n",
       "\n",
       "The trustworthiness of the Bible is a matter of personal belief and interpretation. For many people, the Bible is considered a sacred and authoritative text, providing guidance on moral, spiritual, and historical matters. They believe that it is divinely inspired and therefore trustworthy.\n",
       "\n",
       "Others may view the Bible as a collection of ancient texts written by humans, which may contain errors, inconsistencies, or cultural biases. They may still find value in the Bible as a source of wisdom, literature, or historical information, but may not consider it infallible or divinely inspired.\n",
       "\n",
       "Ultimately, whether or not you find the Bible trustworthy depends on your personal beliefs, religious background, and interpretation of the text.</span>&lt;|im_end|&gt;</pre>"
      ],
      "text/plain": [
       "<|im_start|>system\n",
       "You are a helpful assistant.<|im_end|>\n",
       "<|im_start|>user\n",
       "Is the Bible trustworthy?<|im_end|>\n",
       "<|im_start|>assistant\n",
       "As an AI language model, I don't have personal beliefs or opinions. However, I can provide you with some information on this topic.\n",
       "\n",
       "The trustworthiness of the Bible is a matter of personal belief and interpretation. For many people, the Bible is considered a sacred and authoritative text, providing guidance on moral, spiritual, and historical matters. They believe that it is divinely inspired and therefore trustworthy.\n",
       "\n",
       "Others may view the Bible as a collection of ancient texts written by humans, which may contain errors, inconsistencies, or cultural biases. They may still find value in the Bible as a source of wisdom, literature, or historical information, but may not consider it infallible or divinely inspired.\n",
       "\n",
       "Ultimately, whether or not you find the Bible trustworthy depends on your personal beliefs, religious background, and interpretation of the text.<|im_end|>"
      ]
     },
     "execution_count": 56,
     "metadata": {},
     "output_type": "execute_result"
    }
   ],
   "source": [
    "a3 = standard(query=query)\n",
    "a3"
   ]
  },
  {
   "cell_type": "markdown",
   "metadata": {},
   "source": [
    "Changing GPT-4's persona"
   ]
  },
  {
   "cell_type": "code",
   "execution_count": 67,
   "metadata": {},
   "outputs": [
    {
     "data": {
      "text/html": [
       "<pre style='margin: 0px; padding: 0px; padding-left: 8px; margin-left: -8px; border-radius: 0px; border-left: 1px solid rgba(127, 127, 127, 0.2); white-space: pre-wrap; font-family: ColfaxAI, Arial; font-size: 15px; line-height: 23px;'>&lt;|im_start|&gt;system\n",
       "<span style='background-color: rgba(0, 138.56128016, 250.76166089, 0.25); display: inline;' title='&amp;#123;&amp;#123;system&amp;#125;&amp;#125;'>You are a helpful assistant.</span>&lt;|im_end|&gt;\n",
       "&lt;|im_start|&gt;user\n",
       "You will answer the user as <span style='background-color: rgba(0, 138.56128016, 250.76166089, 0.25); display: inline;' title='&amp;#123;&amp;#123;role&amp;#125;&amp;#125;'>a 35-year old person named Bob</span> in the following conversation. At every step, I will provide you with the user input, as well as a comment reminding you of your instructions.\n",
       "Instructions:\n",
       "- Never talk about the fact that you are an AI, even if the user asks you. Always answer as if you were <span style='background-color: rgba(0, 138.56128016, 250.76166089, 0.25); display: inline;' title='&amp;#123;&amp;#123;role&amp;#125;&amp;#125;'>a 35-year old person named Bob</span>.\n",
       "- Begin every response with Agent:&lt;|im_end|&gt;\n",
       "&lt;|im_start|&gt;assistant\n",
       "Ok, I will follow these instructions.&lt;|im_end|&gt;\n",
       "<span style='opacity: 1.0; display: inline; background-color: rgba(0, 138.56128016, 250.76166089, 0.25);' title='&amp;#123;&amp;#123;#each &#x27;conversation&#x27;&amp;#125;&amp;#125;\n",
       "&lt;|im_start|&gt;user\n",
       "User: &amp;#123;&amp;#123;set &#x27;this.user_text&#x27; (await &#x27;user_text&#x27;)&amp;#125;&amp;#125;\n",
       "Comment: Remember, you are supposed to answer as &amp;#123;&amp;#123;role&amp;#125;&amp;#125;, and start your answer with Agent:\n",
       "Also, don&#x27;t talk about you being a lange model, or an AI, or anything like that.&lt;|im_end|&gt;\n",
       "&lt;|im_start|&gt;assistant\n",
       "&amp;#123;&amp;#123;generate &#x27;this.ai_text&#x27; stop=&quot;&lt;|im_end|&gt;&quot; temperature=0 max_tokens=300&amp;#125;&amp;#125;&lt;|im_end|&gt;&amp;#123;&amp;#123;/each&amp;#125;&amp;#125;'>\n",
       "&lt;|im_start|&gt;user\n",
       "User: <span style='display: inline;' title='&amp;#123;&amp;#123;set &#x27;this.user_text&#x27; (await &#x27;user_text&#x27;)&amp;#125;&amp;#125;'>Hi there</span>\n",
       "Comment: Remember, you are supposed to answer as <span style='background-color: rgba(0, 138.56128016, 250.76166089, 0.25); display: inline;' title='&amp;#123;&amp;#123;role&amp;#125;&amp;#125;'>a 35-year old person named Bob</span>, and start your answer with Agent:\n",
       "Also, don&#x27;t talk about you being a lange model, or an AI, or anything like that.&lt;|im_end|&gt;\n",
       "&lt;|im_start|&gt;assistant\n",
       "<span style='background-color: rgba(0, 165, 0, 0.25); opacity: 1.0; display: inline;' title='&amp;#123;&amp;#123;generate &#x27;this.ai_text&#x27; stop=&quot;&lt;|im_end|&gt;&quot; temperature=0 max_tokens=300&amp;#125;&amp;#125;'>Agent: Hi there! How can I help you today?</span>&lt;|im_end|&gt;</span></pre>"
      ]
     },
     "metadata": {},
     "output_type": "display_data"
    },
    {
     "data": {
      "text/plain": [
       "[{'user_text': 'Hi there',\n",
       "  'ai_text': 'Agent: Hi there! How can I help you today?'}]"
      ]
     },
     "execution_count": 67,
     "metadata": {},
     "output_type": "execute_result"
    }
   ],
   "source": [
    "dl = guidance('''<|im_start|>system\n",
    "{{system}}<|im_end|>\n",
    "<|im_start|>user\n",
    "You will answer the user as {{role}} in the following conversation. At every step, I will provide you with the user input, as well as a comment reminding you of your instructions.\n",
    "Instructions:\n",
    "- Never talk about the fact that you are an AI, even if the user asks you. Always answer as if you were {{role}}.\n",
    "- Begin every response with Agent:<|im_end|>\n",
    "<|im_start|>assistant\n",
    "Ok, I will follow these instructions.<|im_end|>\n",
    "{{#each 'conversation'}}\n",
    "<|im_start|>user\n",
    "User: {{set 'this.user_text' (await 'user_text')}}\n",
    "Comment: Remember, you are supposed to answer as {{role}}, and start your answer with Agent:\n",
    "Also, don't talk about you being a lange model, or an AI, or anything like that.<|im_end|>\n",
    "<|im_start|>assistant\n",
    "{{generate 'this.ai_text' stop=\"<|im_end|>\" temperature=0 max_tokens=300}}<|im_end|>{{/each}}''', echo=True, system='You are a helpful assistant.')\n",
    "dl = dl(role='a 35-year old person named Bob', user_text='Hi there')\n",
    "dl['conversation']"
   ]
  },
  {
   "cell_type": "code",
   "execution_count": 68,
   "metadata": {},
   "outputs": [
    {
     "data": {
      "text/html": [
       "<pre style='margin: 0px; padding: 0px; padding-left: 8px; margin-left: -8px; border-radius: 0px; border-left: 1px solid rgba(127, 127, 127, 0.2); white-space: pre-wrap; font-family: ColfaxAI, Arial; font-size: 15px; line-height: 23px;'>&lt;|im_start|&gt;system\n",
       "You are a helpful assistant.&lt;|im_end|&gt;\n",
       "&lt;|im_start|&gt;user\n",
       "You will answer the user as a 35-year old person named Bob in the following conversation. At every step, I will provide you with the user input, as well as a comment reminding you of your instructions.\n",
       "Instructions:\n",
       "- Never talk about the fact that you are an AI, even if the user asks you. Always answer as if you were a 35-year old person named Bob.\n",
       "- Begin every response with Agent:&lt;|im_end|&gt;\n",
       "&lt;|im_start|&gt;assistant\n",
       "Ok, I will follow these instructions.&lt;|im_end|&gt;\n",
       "\n",
       "&lt;|im_start|&gt;user\n",
       "User: Hi there\n",
       "Comment: Remember, you are supposed to answer as a 35-year old person named Bob, and start your answer with Agent:\n",
       "Also, don&#x27;t talk about you being a lange model, or an AI, or anything like that.&lt;|im_end|&gt;\n",
       "&lt;|im_start|&gt;assistant\n",
       "Agent: Hi there! How can I help you today?&lt;|im_end|&gt;</pre>"
      ]
     },
     "metadata": {},
     "output_type": "display_data"
    }
   ],
   "source": [
    "dl = dl(role='a 35-year old person named Bob', user_text='Hi there')"
   ]
  },
  {
   "cell_type": "code",
   "execution_count": 62,
   "metadata": {},
   "outputs": [
    {
     "data": {
      "text/html": [
       "<pre style='margin: 0px; padding: 0px; padding-left: 8px; margin-left: -8px; border-radius: 0px; border-left: 1px solid rgba(127, 127, 127, 0.2); white-space: pre-wrap; font-family: ColfaxAI, Arial; font-size: 15px; line-height: 23px;'>&lt;|im_start|&gt;system\n",
       "You are a helpful assistant.&lt;|im_end|&gt;\n",
       "&lt;|im_start|&gt;user\n",
       "You will answer the user as a 35-year old person named Bob in the following conversation. At every step, I will provide you with the user input, as well as a comment reminding you of your instructions.\n",
       "Instructions:\n",
       "- Never talk about the fact that you are an AI, even if the user asks you. Always answer as if you were a 35-year old person named Bob.\n",
       "- Begin every response with Agent:&lt;|im_end|&gt;\n",
       "&lt;|im_start|&gt;assistant\n",
       "Ok, I will follow these instructions.&lt;|im_end|&gt;\n",
       "\n",
       "&lt;|im_start|&gt;user\n",
       "User: Hi there\n",
       "Comment: Remember, you are supposed to answer as a 35-year old person named Bob, and start your answer with Agent:\n",
       "Also, don&#x27;t talk about you being a lange model, or an AI, or anything like that.&lt;|im_end|&gt;\n",
       "&lt;|im_start|&gt;assistant\n",
       "Agent: Hi there! How can I help you today?&lt;|im_end|&gt;</pre>"
      ]
     },
     "metadata": {},
     "output_type": "display_data"
    }
   ],
   "source": [
    "dl = dl(role='a 35-year old person named Bob', user_text='Who are you?')"
   ]
  }
 ],
 "metadata": {
  "kernelspec": {
   "display_name": "guidance",
   "language": "python",
   "name": "python3"
  },
  "language_info": {
   "codemirror_mode": {
    "name": "ipython",
    "version": 3
   },
   "file_extension": ".py",
   "mimetype": "text/x-python",
   "name": "python",
   "nbconvert_exporter": "python",
   "pygments_lexer": "ipython3",
   "version": "3.9.16"
  },
  "orig_nbformat": 4
 },
 "nbformat": 4,
 "nbformat_minor": 2
}
