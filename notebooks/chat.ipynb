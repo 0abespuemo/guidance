{
 "cells": [
  {
   "cell_type": "code",
   "execution_count": 1,
   "metadata": {},
   "outputs": [],
   "source": [
    "%load_ext autoreload\n",
    "%autoreload 2"
   ]
  },
  {
   "cell_type": "code",
   "execution_count": 2,
   "metadata": {},
   "outputs": [],
   "source": [
    "import guidance\n",
    "import os\n",
    "import diskcache\n",
    "import pathlib\n",
    "import requests\n",
    "import html\n",
    "from urllib.parse import urlparse\n",
    "import urllib.parse\n",
    "import io\n",
    "import html\n",
    "import html.parser\n",
    "\n",
    "curr_dir = './'# pathlib.Path(__file__).parent.resolve()\n",
    "_bing_cache = diskcache.Cache(f\"{curr_dir}/../bing.diskcache\")\n",
    "\n",
    "with open(os.path.expanduser('~/.bing_api_key'), 'r') as file:\n",
    "    subscription_key = file.read().replace('\\n', '')\n",
    "\n",
    "class MLStripper(html.parser.HTMLParser):\n",
    "    def __init__(self):\n",
    "        super().__init__()\n",
    "        self.reset()\n",
    "        self.strict = False\n",
    "        self.convert_charrefs = True\n",
    "        self.text = io.StringIO()\n",
    "    def handle_data(self, d):\n",
    "        self.text.write(d)\n",
    "    def get_data(self):\n",
    "        return self.text.getvalue()\n",
    "\n",
    "def strip_tags(html):\n",
    "    s = MLStripper()\n",
    "    s.feed(html)\n",
    "    return s.get_data()\n",
    "\n",
    "def bing_search(search_terms, count=10):\n",
    "    if type(search_terms) == str:\n",
    "        search_terms = [search_terms]\n",
    "    search_url = \"https://api.bing.microsoft.com/v7.0/search\"\n",
    "    # search_url =\n",
    "#     search_term = \"Who are the founders of OpenAI?\"\n",
    "\n",
    "    headers = {\"Ocp-Apim-Subscription-Key\": subscription_key}\n",
    "    search_results = []\n",
    "    for search_term in search_terms:\n",
    "        params = {\"q\": search_term, \"textDecorations\": True, \"textFormat\": \"HTML\", \"cout\": count}\n",
    "        params_key = search_term + \"-___-\" + str(count)\n",
    "        if params_key not in _bing_cache or \"webPages\" not in _bing_cache[params_key]:\n",
    "            # print(\"SEARCHING BING\")\n",
    "            response = requests.get(search_url, headers=headers, params=params)\n",
    "            response.raise_for_status()\n",
    "            _bing_cache[params_key] = response.json()\n",
    "        # print(type(_bing_cache[params_key]))\n",
    "        # print(list(_bing_cache[params_key]))\n",
    "        # print(_bing_cache[params_key])\n",
    "        # result_batch = _bing_cache[params_key][\"webPages\"][\"value\"]\n",
    "\n",
    "        data = _bing_cache[params_key][\"webPages\"][\"value\"]\n",
    "        for r in data:\n",
    "            r[\"snippet_text\"] = strip_tags(r[\"snippet\"])\n",
    "\n",
    "        search_results.extend(data)\n",
    "\n",
    "    return search_results\n"
   ]
  },
  {
   "cell_type": "code",
   "execution_count": 3,
   "metadata": {},
   "outputs": [],
   "source": [
    "def top_snippets(query, n=3):\n",
    "    results = bing_search(query, count=n)[:n]\n",
    "    return [{'title': x['name'], 'snippet': x['snippet_text']} for x in results]"
   ]
  },
  {
   "cell_type": "code",
   "execution_count": 4,
   "metadata": {},
   "outputs": [],
   "source": [
    "llm = guidance.llms.OpenAI(\"gpt-4\", chat_completion=True, temperature=0) # could also specify default temperature here\n"
   ]
  },
  {
   "cell_type": "code",
   "execution_count": 5,
   "metadata": {},
   "outputs": [
    {
     "data": {
      "text/plain": [
       "[{'title': 'OpenAI - Wikipedia',\n",
       "  'snippet': 'OpenAI systems run on the fifth most powerful supercomputer in the world. [5] [6] [7] The organization was founded in San Francisco in 2015 by Sam Altman, Reid Hoffman, Jessica Livingston, Elon Musk, Ilya Sutskever, Peter Thiel and others, [8] [1] [9] who collectively pledged US$ 1 billion. Musk resigned from the board in 2018 but remained a donor.'},\n",
       " {'title': 'About - OpenAI',\n",
       "  'snippet': 'About OpenAI is an AI research and deployment company. Our mission is to ensure that artificial general intelligence benefits all of humanity. Our vision for the future of AGI Our mission is to ensure that artificial general intelligence—AI systems that are generally smarter than humans—benefits all of humanity. Read our plan for AGI'},\n",
       " {'title': 'Sam Altman - Wikipedia',\n",
       "  'snippet': 'Samuel H. Altman ( / ˈɔːltmən / AWLT-mən; born April 22, 1985) is an American entrepreneur, investor, and programmer. [2] He is the CEO of OpenAI and the former president of Y Combinator. [3] [4] Altman is also the co-founder of Loopt (founded in 2005) and Worldcoin (founded in 2020). Early life and education [ edit]'}]"
      ]
     },
     "execution_count": 5,
     "metadata": {},
     "output_type": "execute_result"
    }
   ],
   "source": [
    "top_snippets(\"OpenAI founders\")"
   ]
  },
  {
   "cell_type": "code",
   "execution_count": 9,
   "metadata": {},
   "outputs": [
    {
     "ename": "KeyError",
     "evalue": "'text'",
     "output_type": "error",
     "traceback": [
      "\u001b[0;31m---------------------------------------------------------------------------\u001b[0m",
      "\u001b[0;31mKeyError\u001b[0m                                  Traceback (most recent call last)",
      "Cell \u001b[0;32mIn[9], line 30\u001b[0m\n\u001b[1;32m      8\u001b[0m prompt \u001b[39m=\u001b[39m guidance(\u001b[39m'''\u001b[39m\u001b[39m<|im_start|>system\u001b[39m\n\u001b[1;32m      9\u001b[0m \u001b[39mAssistant is a large language model trained by OpenAI.\u001b[39m\n\u001b[1;32m     10\u001b[0m \u001b[39mWhenever its response depends on any factual information, it searches the web by using the function <search>query</search> before responding to the user.\u001b[39m\n\u001b[0;32m   (...)\u001b[0m\n\u001b[1;32m     27\u001b[0m \u001b[39m{{\u001b[39m\u001b[39mgenerate \u001b[39m\u001b[39m\"\u001b[39m\u001b[39mmore\u001b[39m\u001b[39m\"\u001b[39m\u001b[39m}}\u001b[39m\n\u001b[1;32m     28\u001b[0m \u001b[39m{{\u001b[39m\u001b[39m/if}}\u001b[39m\u001b[39m'''\u001b[39m, llm\u001b[39m=\u001b[39mllm)\n\u001b[1;32m     29\u001b[0m query \u001b[39m=\u001b[39m \u001b[39m\"\u001b[39m\u001b[39mWhat is Facebook\u001b[39m\u001b[39m'\u001b[39m\u001b[39ms stock price?\u001b[39m\u001b[39m\"\u001b[39m\n\u001b[0;32m---> 30\u001b[0m a \u001b[39m=\u001b[39m prompt(is_search\u001b[39m=\u001b[39;49mis_search, search\u001b[39m=\u001b[39;49msearch, query\u001b[39m=\u001b[39;49mquery,\n\u001b[1;32m     31\u001b[0m        history\u001b[39m=\u001b[39;49m[\n\u001b[1;32m     32\u001b[0m     {\u001b[39m'\u001b[39;49m\u001b[39muser\u001b[39;49m\u001b[39m'\u001b[39;49m: \u001b[39m'\u001b[39;49m\u001b[39muser\u001b[39;49m\u001b[39m'\u001b[39;49m, \u001b[39m'\u001b[39;49m\u001b[39mutterance\u001b[39;49m\u001b[39m'\u001b[39;49m: \u001b[39m'\u001b[39;49m\u001b[39mWho are the founders of OpenAI?\u001b[39;49m\u001b[39m'\u001b[39;49m}, \n\u001b[1;32m     33\u001b[0m     {\u001b[39m'\u001b[39;49m\u001b[39muser\u001b[39;49m\u001b[39m'\u001b[39;49m: \u001b[39m'\u001b[39;49m\u001b[39massistant\u001b[39;49m\u001b[39m'\u001b[39;49m, \u001b[39m'\u001b[39;49m\u001b[39mutterance\u001b[39;49m\u001b[39m'\u001b[39;49m: \u001b[39m'''\u001b[39;49m\u001b[39m<search>(OpenAI founders)</search>\u001b[39;49m\n\u001b[1;32m     34\u001b[0m \u001b[39m<result>OpenAI - Wikipedia\u001b[39;49m\n\u001b[1;32m     35\u001b[0m \u001b[39mOpenAI systems run on the fifth most powerful supercomputer in the world. [5] [6] [7] The organization was founded in San Francisco in 2015 by Sam Altman, Reid Hoffman, Jessica Livingston, Elon Musk, Ilya Sutskever, Peter Thiel and others, [8] [1] [9] who collectively pledged US$ 1 billion. Musk resigned from the board in 2018 but remained a donor.\u001b[39;49m\n\u001b[1;32m     36\u001b[0m \u001b[39m</result>\u001b[39;49m\n\u001b[1;32m     37\u001b[0m \u001b[39m<result>About - OpenAI\u001b[39;49m\n\u001b[1;32m     38\u001b[0m \u001b[39mAbout OpenAI is an AI research and deployment company. Our mission is to ensure that artificial general intelligence benefits all of humanity. Our vision for the future of AGI Our mission is to ensure that artificial general intelligence—AI systems that are generally smarter than humans—benefits all of humanity. Read our plan for AGI\u001b[39;49m\n\u001b[1;32m     39\u001b[0m \u001b[39m</result>\u001b[39;49m\n\u001b[1;32m     40\u001b[0m \u001b[39m<result>Sam Altman - Wikipedia\u001b[39;49m\n\u001b[1;32m     41\u001b[0m \u001b[39mSamuel H. Altman ( / ˈɔːltmən / AWLT-mən; born April 22, 1985) is an American entrepreneur, investor, and programmer. [2] He is the CEO of OpenAI and the former president of Y Combinator. [3] [4] Altman is also the co-founder of Loopt (founded in 2005) and Worldcoin (founded in 2020). Early life and education [ edit]\u001b[39;49m\n\u001b[1;32m     42\u001b[0m \u001b[39m</result>\u001b[39;49m\u001b[39m'''\u001b[39;49m },\n\u001b[1;32m     43\u001b[0m     {\u001b[39m'\u001b[39;49m\u001b[39muser\u001b[39;49m\u001b[39m'\u001b[39;49m: \u001b[39m'\u001b[39;49m\u001b[39muser\u001b[39;49m\u001b[39m'\u001b[39;49m, \u001b[39m'\u001b[39;49m\u001b[39mutterance\u001b[39;49m\u001b[39m'\u001b[39;49m: \u001b[39m'''\u001b[39;49m\u001b[39mGiven the search results above, please answer my question\u001b[39;49m\u001b[39m'''\u001b[39;49m},\n\u001b[1;32m     44\u001b[0m     {\u001b[39m'\u001b[39;49m\u001b[39muser\u001b[39;49m\u001b[39m'\u001b[39;49m: \u001b[39m'\u001b[39;49m\u001b[39massistant\u001b[39;49m\u001b[39m'\u001b[39;49m, \u001b[39m'\u001b[39;49m\u001b[39mutterance\u001b[39;49m\u001b[39m'\u001b[39;49m: \u001b[39m'''\u001b[39;49m\u001b[39mThe founders of OpenAI are Sam Altman, Reid Hoffman, Jessica Livingston, Elon Musk, Ilya Sutskever, Peter Thiel and others\u001b[39;49m\u001b[39m'''\u001b[39;49m}\n\u001b[1;32m     45\u001b[0m     ])\n\u001b[1;32m     46\u001b[0m a\n",
      "File \u001b[0;32m~/work/guidance/guidance/_prompt.py:196\u001b[0m, in \u001b[0;36mPrompt.__call__\u001b[0;34m(self, stream, **kwargs)\u001b[0m\n\u001b[1;32m    193\u001b[0m \u001b[39melse\u001b[39;00m:\n\u001b[1;32m    194\u001b[0m     \u001b[39m# loop = asyncio.get_event_loop()\u001b[39;00m\n\u001b[1;32m    195\u001b[0m     loop \u001b[39m=\u001b[39m asyncio\u001b[39m.\u001b[39mnew_event_loop()\n\u001b[0;32m--> 196\u001b[0m     loop\u001b[39m.\u001b[39;49mrun_until_complete(new_prompt\u001b[39m.\u001b[39;49mexecute())\n\u001b[1;32m    198\u001b[0m \u001b[39mreturn\u001b[39;00m new_prompt\n",
      "File \u001b[0;32m~/.virtualenvs/guidance/lib/python3.9/site-packages/nest_asyncio.py:90\u001b[0m, in \u001b[0;36m_patch_loop.<locals>.run_until_complete\u001b[0;34m(self, future)\u001b[0m\n\u001b[1;32m     87\u001b[0m \u001b[39mif\u001b[39;00m \u001b[39mnot\u001b[39;00m f\u001b[39m.\u001b[39mdone():\n\u001b[1;32m     88\u001b[0m     \u001b[39mraise\u001b[39;00m \u001b[39mRuntimeError\u001b[39;00m(\n\u001b[1;32m     89\u001b[0m         \u001b[39m'\u001b[39m\u001b[39mEvent loop stopped before Future completed.\u001b[39m\u001b[39m'\u001b[39m)\n\u001b[0;32m---> 90\u001b[0m \u001b[39mreturn\u001b[39;00m f\u001b[39m.\u001b[39;49mresult()\n",
      "File \u001b[0;32m/usr/lib/python3.9/asyncio/futures.py:201\u001b[0m, in \u001b[0;36mFuture.result\u001b[0;34m(self)\u001b[0m\n\u001b[1;32m    199\u001b[0m \u001b[39mself\u001b[39m\u001b[39m.\u001b[39m__log_traceback \u001b[39m=\u001b[39m \u001b[39mFalse\u001b[39;00m\n\u001b[1;32m    200\u001b[0m \u001b[39mif\u001b[39;00m \u001b[39mself\u001b[39m\u001b[39m.\u001b[39m_exception \u001b[39mis\u001b[39;00m \u001b[39mnot\u001b[39;00m \u001b[39mNone\u001b[39;00m:\n\u001b[0;32m--> 201\u001b[0m     \u001b[39mraise\u001b[39;00m \u001b[39mself\u001b[39m\u001b[39m.\u001b[39m_exception\n\u001b[1;32m    202\u001b[0m \u001b[39mreturn\u001b[39;00m \u001b[39mself\u001b[39m\u001b[39m.\u001b[39m_result\n",
      "File \u001b[0;32m/usr/lib/python3.9/asyncio/tasks.py:256\u001b[0m, in \u001b[0;36mTask.__step\u001b[0;34m(***failed resolving arguments***)\u001b[0m\n\u001b[1;32m    252\u001b[0m \u001b[39mtry\u001b[39;00m:\n\u001b[1;32m    253\u001b[0m     \u001b[39mif\u001b[39;00m exc \u001b[39mis\u001b[39;00m \u001b[39mNone\u001b[39;00m:\n\u001b[1;32m    254\u001b[0m         \u001b[39m# We use the `send` method directly, because coroutines\u001b[39;00m\n\u001b[1;32m    255\u001b[0m         \u001b[39m# don't have `__iter__` and `__next__` methods.\u001b[39;00m\n\u001b[0;32m--> 256\u001b[0m         result \u001b[39m=\u001b[39m coro\u001b[39m.\u001b[39;49msend(\u001b[39mNone\u001b[39;49;00m)\n\u001b[1;32m    257\u001b[0m     \u001b[39melse\u001b[39;00m:\n\u001b[1;32m    258\u001b[0m         result \u001b[39m=\u001b[39m coro\u001b[39m.\u001b[39mthrow(exc)\n",
      "File \u001b[0;32m~/work/guidance/guidance/_prompt.py:239\u001b[0m, in \u001b[0;36mPrompt.execute\u001b[0;34m(self)\u001b[0m\n\u001b[1;32m    235\u001b[0m variables\u001b[39m.\u001b[39mupdate(patched_kwargs)\n\u001b[1;32m    237\u001b[0m vi \u001b[39m=\u001b[39m TopDownVisitor(variables, \u001b[39mself\u001b[39m)\n\u001b[0;32m--> 239\u001b[0m \u001b[39mself\u001b[39m\u001b[39m.\u001b[39m_text \u001b[39m=\u001b[39m vi\u001b[39m.\u001b[39;49mvisit(\u001b[39mself\u001b[39;49m\u001b[39m.\u001b[39;49mtree)\n\u001b[1;32m    241\u001b[0m \u001b[39m# remove the built-ins from the variables we return\u001b[39;00m\n\u001b[1;32m    242\u001b[0m \u001b[39mfor\u001b[39;00m k \u001b[39min\u001b[39;00m built_ins:\n",
      "File \u001b[0;32m~/work/guidance/guidance/_prompt.py:650\u001b[0m, in \u001b[0;36mTopDownVisitor.visit\u001b[0;34m(self, node, next_node, prev_node)\u001b[0m\n\u001b[1;32m    648\u001b[0m     \u001b[39melse\u001b[39;00m:\n\u001b[1;32m    649\u001b[0m         inner_prev_node \u001b[39m=\u001b[39m prev_node\n\u001b[0;32m--> 650\u001b[0m     visited_children\u001b[39m.\u001b[39mappend(\u001b[39mself\u001b[39;49m\u001b[39m.\u001b[39;49mvisit(child, inner_next_node, inner_prev_node))\n\u001b[1;32m    651\u001b[0m \u001b[39m# visited_children = [self.visit(child) for child in node.children]\u001b[39;00m\n\u001b[1;32m    653\u001b[0m \u001b[39mif\u001b[39;00m \u001b[39mlen\u001b[39m(visited_children) \u001b[39m==\u001b[39m \u001b[39m1\u001b[39m:\n",
      "File \u001b[0;32m~/work/guidance/guidance/_prompt.py:650\u001b[0m, in \u001b[0;36mTopDownVisitor.visit\u001b[0;34m(self, node, next_node, prev_node)\u001b[0m\n\u001b[1;32m    648\u001b[0m     \u001b[39melse\u001b[39;00m:\n\u001b[1;32m    649\u001b[0m         inner_prev_node \u001b[39m=\u001b[39m prev_node\n\u001b[0;32m--> 650\u001b[0m     visited_children\u001b[39m.\u001b[39mappend(\u001b[39mself\u001b[39;49m\u001b[39m.\u001b[39;49mvisit(child, inner_next_node, inner_prev_node))\n\u001b[1;32m    651\u001b[0m \u001b[39m# visited_children = [self.visit(child) for child in node.children]\u001b[39;00m\n\u001b[1;32m    653\u001b[0m \u001b[39mif\u001b[39;00m \u001b[39mlen\u001b[39m(visited_children) \u001b[39m==\u001b[39m \u001b[39m1\u001b[39m:\n",
      "File \u001b[0;32m~/work/guidance/guidance/_prompt.py:521\u001b[0m, in \u001b[0;36mTopDownVisitor.visit\u001b[0;34m(self, node, next_node, prev_node)\u001b[0m\n\u001b[1;32m    519\u001b[0m \u001b[39melif\u001b[39;00m node\u001b[39m.\u001b[39mexpr_name \u001b[39m==\u001b[39m \u001b[39m'\u001b[39m\u001b[39mcommand\u001b[39m\u001b[39m'\u001b[39m:\n\u001b[1;32m    520\u001b[0m     \u001b[39mself\u001b[39m\u001b[39m.\u001b[39mblock_content\u001b[39m.\u001b[39mappend([])\n\u001b[0;32m--> 521\u001b[0m     visited_children \u001b[39m=\u001b[39m [\u001b[39mself\u001b[39m\u001b[39m.\u001b[39mvisit(child, next_node, prev_node) \u001b[39mfor\u001b[39;00m child \u001b[39min\u001b[39;00m node\u001b[39m.\u001b[39mchildren]\n\u001b[1;32m    522\u001b[0m     \u001b[39mself\u001b[39m\u001b[39m.\u001b[39mblock_content\u001b[39m.\u001b[39mpop()\n\u001b[1;32m    523\u001b[0m     out \u001b[39m=\u001b[39m \u001b[39m\"\u001b[39m\u001b[39m\"\u001b[39m\u001b[39m.\u001b[39mjoin(\u001b[39m\"\u001b[39m\u001b[39m\"\u001b[39m \u001b[39mif\u001b[39;00m c \u001b[39mis\u001b[39;00m \u001b[39mNone\u001b[39;00m \u001b[39melse\u001b[39;00m \u001b[39mstr\u001b[39m(c) \u001b[39mfor\u001b[39;00m c \u001b[39min\u001b[39;00m visited_children)\n",
      "File \u001b[0;32m~/work/guidance/guidance/_prompt.py:521\u001b[0m, in \u001b[0;36m<listcomp>\u001b[0;34m(.0)\u001b[0m\n\u001b[1;32m    519\u001b[0m \u001b[39melif\u001b[39;00m node\u001b[39m.\u001b[39mexpr_name \u001b[39m==\u001b[39m \u001b[39m'\u001b[39m\u001b[39mcommand\u001b[39m\u001b[39m'\u001b[39m:\n\u001b[1;32m    520\u001b[0m     \u001b[39mself\u001b[39m\u001b[39m.\u001b[39mblock_content\u001b[39m.\u001b[39mappend([])\n\u001b[0;32m--> 521\u001b[0m     visited_children \u001b[39m=\u001b[39m [\u001b[39mself\u001b[39;49m\u001b[39m.\u001b[39;49mvisit(child, next_node, prev_node) \u001b[39mfor\u001b[39;00m child \u001b[39min\u001b[39;00m node\u001b[39m.\u001b[39mchildren]\n\u001b[1;32m    522\u001b[0m     \u001b[39mself\u001b[39m\u001b[39m.\u001b[39mblock_content\u001b[39m.\u001b[39mpop()\n\u001b[1;32m    523\u001b[0m     out \u001b[39m=\u001b[39m \u001b[39m\"\u001b[39m\u001b[39m\"\u001b[39m\u001b[39m.\u001b[39mjoin(\u001b[39m\"\u001b[39m\u001b[39m\"\u001b[39m \u001b[39mif\u001b[39;00m c \u001b[39mis\u001b[39;00m \u001b[39mNone\u001b[39;00m \u001b[39melse\u001b[39;00m \u001b[39mstr\u001b[39m(c) \u001b[39mfor\u001b[39;00m c \u001b[39min\u001b[39;00m visited_children)\n",
      "File \u001b[0;32m~/work/guidance/guidance/_prompt.py:650\u001b[0m, in \u001b[0;36mTopDownVisitor.visit\u001b[0;34m(self, node, next_node, prev_node)\u001b[0m\n\u001b[1;32m    648\u001b[0m     \u001b[39melse\u001b[39;00m:\n\u001b[1;32m    649\u001b[0m         inner_prev_node \u001b[39m=\u001b[39m prev_node\n\u001b[0;32m--> 650\u001b[0m     visited_children\u001b[39m.\u001b[39mappend(\u001b[39mself\u001b[39;49m\u001b[39m.\u001b[39;49mvisit(child, inner_next_node, inner_prev_node))\n\u001b[1;32m    651\u001b[0m \u001b[39m# visited_children = [self.visit(child) for child in node.children]\u001b[39;00m\n\u001b[1;32m    653\u001b[0m \u001b[39mif\u001b[39;00m \u001b[39mlen\u001b[39m(visited_children) \u001b[39m==\u001b[39m \u001b[39m1\u001b[39m:\n",
      "File \u001b[0;32m~/work/guidance/guidance/_prompt.py:578\u001b[0m, in \u001b[0;36mTopDownVisitor.visit\u001b[0;34m(self, node, next_node, prev_node)\u001b[0m\n\u001b[1;32m    575\u001b[0m     \u001b[39melse\u001b[39;00m:\n\u001b[1;32m    576\u001b[0m         named_args[\u001b[39m\"\u001b[39m\u001b[39mprev_text\u001b[39m\u001b[39m\"\u001b[39m] \u001b[39m=\u001b[39m \u001b[39m\"\u001b[39m\u001b[39m\"\u001b[39m\n\u001b[0;32m--> 578\u001b[0m command_output \u001b[39m=\u001b[39m command_function(\u001b[39m*\u001b[39;49mpositional_args, \u001b[39m*\u001b[39;49m\u001b[39m*\u001b[39;49mnamed_args)\n\u001b[1;32m    580\u001b[0m \u001b[39mif\u001b[39;00m \u001b[39m\"\u001b[39m\u001b[39mpartial_output\u001b[39m\u001b[39m\"\u001b[39m \u001b[39mnot\u001b[39;00m \u001b[39min\u001b[39;00m sig\u001b[39m.\u001b[39mparameters:\n\u001b[1;32m    581\u001b[0m     \u001b[39mself\u001b[39m\u001b[39m.\u001b[39m_extend_prefix(command_output)\n",
      "File \u001b[0;32m~/work/guidance/guidance/_prompt.py:764\u001b[0m, in \u001b[0;36m_generate\u001b[0;34m(variable_name, partial_output, parse, stop, max_tokens, n, echo, temperature, top_p, logprobs, parser_prefix, parser, prefix, suffix, next_text, prev_text, **kwargs)\u001b[0m\n\u001b[1;32m    758\u001b[0m gen_obj \u001b[39m=\u001b[39m parser\u001b[39m.\u001b[39mprompt_object\u001b[39m.\u001b[39mllm(\n\u001b[1;32m    759\u001b[0m     parser_prefix\u001b[39m+\u001b[39mprefix, stop\u001b[39m=\u001b[39mstop, max_tokens\u001b[39m=\u001b[39mmax_tokens, n\u001b[39m=\u001b[39mn,\n\u001b[1;32m    760\u001b[0m     temperature\u001b[39m=\u001b[39mtemperature, top_p\u001b[39m=\u001b[39mtop_p, logprobs\u001b[39m=\u001b[39mparser\u001b[39m.\u001b[39mprompt_object\u001b[39m.\u001b[39mlogprobs, cache_seed\u001b[39m=\u001b[39mcache_seed,\n\u001b[1;32m    761\u001b[0m     echo\u001b[39m=\u001b[39mparser\u001b[39m.\u001b[39mprompt_object\u001b[39m.\u001b[39mlogprobs \u001b[39mis\u001b[39;00m \u001b[39mnot\u001b[39;00m \u001b[39mNone\u001b[39;00m\n\u001b[1;32m    762\u001b[0m )\n\u001b[1;32m    763\u001b[0m \u001b[39mif\u001b[39;00m n \u001b[39m==\u001b[39m \u001b[39m1\u001b[39m:\n\u001b[0;32m--> 764\u001b[0m     generated_value \u001b[39m=\u001b[39m prefix\u001b[39m+\u001b[39mgen_obj[\u001b[39m\"\u001b[39;49m\u001b[39mchoices\u001b[39;49m\u001b[39m\"\u001b[39;49m][\u001b[39m0\u001b[39;49m][\u001b[39m\"\u001b[39;49m\u001b[39mtext\u001b[39;49m\u001b[39m\"\u001b[39;49m]\u001b[39m+\u001b[39msuffix\n\u001b[1;32m    765\u001b[0m     parser\u001b[39m.\u001b[39mset_variable(variable_name, generated_value)\n\u001b[1;32m    766\u001b[0m     \u001b[39mif\u001b[39;00m logprobs \u001b[39mis\u001b[39;00m \u001b[39mnot\u001b[39;00m \u001b[39mNone\u001b[39;00m:\n",
      "\u001b[0;31mKeyError\u001b[0m: 'text'"
     ]
    }
   ],
   "source": [
    "import re\n",
    "def is_search(completion):\n",
    "    return '<search>' in completion\n",
    "def search(query):\n",
    "    query = re.search(r'<search>(.*)</search>', query).group(1)\n",
    "    # SEARCH\\((.*)\\)', query).group(1)\n",
    "    return top_snippets(query, n=3)\n",
    "prompt = guidance('''<|im_start|>system\n",
    "Assistant is a large language model trained by OpenAI.\n",
    "Whenever its response depends on any factual information, it searches the web by using the function <search>query</search> before responding to the user.\n",
    "For example, it might start its response with\n",
    "<search>query</search>\n",
    "After which the top snippets from search will be displayed.<|im_end|>{{#each history}}\n",
    "<|im_start|>{{this.user}}\n",
    "{{this.utterance}}<|im_end|>{{/each}}\n",
    "<|im_start|>user\n",
    "{{query}}<|im_end|>\n",
    "<|im_start|>assistant\n",
    "{{generate \"answer\" stop=\"</search>\"}}</search>\n",
    "{{#if (is_search answer)}}{{#each (search answer)}}\n",
    "<result>\n",
    "{{this.title}}\n",
    "{{this.snippet}}\n",
    "</result>{{/each}}<|im_end|>\n",
    "<|im_start|>user\n",
    "Given the search results above, please answer my question<|im_end|>\n",
    "{{generate \"more\"}}\n",
    "{{/if}}''', llm=llm)\n",
    "query = \"What is Facebook's stock price?\"\n",
    "a = prompt(is_search=is_search, search=search, query=query,\n",
    "       history=[\n",
    "    {'user': 'user', 'utterance': 'Who are the founders of OpenAI?'}, \n",
    "    {'user': 'assistant', 'utterance': '''<search>(OpenAI founders)</search>\n",
    "<result>OpenAI - Wikipedia\n",
    "OpenAI systems run on the fifth most powerful supercomputer in the world. [5] [6] [7] The organization was founded in San Francisco in 2015 by Sam Altman, Reid Hoffman, Jessica Livingston, Elon Musk, Ilya Sutskever, Peter Thiel and others, [8] [1] [9] who collectively pledged US$ 1 billion. Musk resigned from the board in 2018 but remained a donor.\n",
    "</result>\n",
    "<result>About - OpenAI\n",
    "About OpenAI is an AI research and deployment company. Our mission is to ensure that artificial general intelligence benefits all of humanity. Our vision for the future of AGI Our mission is to ensure that artificial general intelligence—AI systems that are generally smarter than humans—benefits all of humanity. Read our plan for AGI\n",
    "</result>\n",
    "<result>Sam Altman - Wikipedia\n",
    "Samuel H. Altman ( / ˈɔːltmən / AWLT-mən; born April 22, 1985) is an American entrepreneur, investor, and programmer. [2] He is the CEO of OpenAI and the former president of Y Combinator. [3] [4] Altman is also the co-founder of Loopt (founded in 2005) and Worldcoin (founded in 2020). Early life and education [ edit]\n",
    "</result>''' },\n",
    "    {'user': 'user', 'utterance': '''Given the search results above, please answer my question'''},\n",
    "    {'user': 'assistant', 'utterance': '''The founders of OpenAI are Sam Altman, Reid Hoffman, Jessica Livingston, Elon Musk, Ilya Sutskever, Peter Thiel and others'''}\n",
    "    ])\n",
    "a\n"
   ]
  },
  {
   "cell_type": "code",
   "execution_count": 14,
   "metadata": {},
   "outputs": [
    {
     "data": {
      "text/plain": [
       "<OpenAIObject chat.completion id=chatcmpl-6xMUkNHlVKDpTmCt9Kw7UNYjrJE0B at 0x7f21a12eb450> JSON: {\n",
       "  \"choices\": [\n",
       "    {\n",
       "      \"finish_reason\": \"stop\",\n",
       "      \"index\": 0,\n",
       "      \"message\": {\n",
       "        \"content\": \"I am unable to provide real-time stock prices. However, you can check the current stock price of Meta Platforms, Inc. (formerly known as Facebook) by searching for the ticker symbol \\\"META\\\" on a financial news website or using a stock market app.\",\n",
       "        \"role\": \"assistant\"\n",
       "      }\n",
       "    }\n",
       "  ],\n",
       "  \"created\": 1679605842,\n",
       "  \"id\": \"chatcmpl-6xMUkNHlVKDpTmCt9Kw7UNYjrJE0B\",\n",
       "  \"model\": \"gpt-4-0314\",\n",
       "  \"object\": \"chat.completion\",\n",
       "  \"usage\": {\n",
       "    \"completion_tokens\": 52,\n",
       "    \"prompt_tokens\": 950,\n",
       "    \"total_tokens\": 1002\n",
       "  }\n",
       "}"
      ]
     },
     "execution_count": 14,
     "metadata": {},
     "output_type": "execute_result"
    }
   ],
   "source": [
    "messages = {'model': 'gpt-4', 'max_tokens': 500, 'temperature': 0.0, 'top_p': 1.0, 'n': 1, 'stop': '\\n', 'messages': [{'role': 'system', 'content': 'Assistant is a large language model trained by OpenAI.\\nWhenever its response depends on any factual information, it searches the web by using the function <search>query</search> before responding to the user.\\nFor example, it might start its response with\\nSEARCH(query)\\nAfter which the top snippets from search will be displayed.'}, {'role': 'user', 'content': 'Who are the founders of OpenAI?'}, {'role': 'assistant', 'content': 'SEARCH(OpenAI founders)'}, {'role': 'assistant', 'content': '<result>OpenAI - Wikipedia\\nOpenAI systems run on the fifth most powerful supercomputer in the world. [5] [6] [7] The organization was founded in San Francisco in 2015 by Sam Altman, Reid Hoffman, Jessica Livingston, Elon Musk, Ilya Sutskever, Peter Thiel and others, [8] [1] [9] who collectively pledged US$ 1 billion. Musk resigned from the board in 2018 but remained a donor.\\n</result>\\n<result>About - OpenAI\\nAbout OpenAI is an AI research and deployment company. Our mission is to ensure that artificial general intelligence benefits all of humanity. Our vision for the future of AGI Our mission is to ensure that artificial general intelligence—AI systems that are generally smarter than humans—benefits all of humanity. Read our plan for AGI\\n</result>\\n<result>Sam Altman - Wikipedia\\nSamuel H. Altman ( / ˈɔːltmən / AWLT-mən; born April 22, 1985) is an American entrepreneur, investor, and programmer. [2] He is the CEO of OpenAI and the former president of Y Combinator. [3] [4] Altman is also the co-founder of Loopt (founded in 2005) and Worldcoin (founded in 2020). Early life and education [ edit]\\n</result>'}, {'role': 'assistant', 'content': 'The founders of OpenAI are Sam Altman, Reid Hoffman, Jessica Livingston, Elon Musk, Ilya Sutskever, Peter Thiel and others'}, {'role': 'user', 'content': \"What is Facebook's stock price?\"}, {'role': 'assistant', 'content': 'SEARCH(Facebook stock price)'}, {'role': 'assistant', 'content': \"[{'title': 'Meta Platforms, Inc. (META) Stock Price, News, Quote &amp; History - Yahoo!', 'snippet': 'Meta Platforms, Inc. (META) Stock Price, News, Quote & History - Yahoo Finance U.S. markets open in 2 hours 26 minutes Dow Futures Meta Platforms, Inc. (META) NasdaqGS - NasdaqGS Real Time...'}, {'title': 'News | FACEBOOK Stock Price Today | Analyst Opinions - Insider', 'snippet': 'Stock | News | FACEBOOK Stock Price Today | Analyst Opinions | Markets Insider Markets Stocks Indices Commodities Cryptocurrencies Currencies ETFs News Facebook Inc (A) Cert Deposito Arg Repr...'}, {'title': 'Meta Platforms Inc (FB) Stock Price &amp; News - Google Finance', 'snippet': '$159.28 AAPL1.19% Amazon.com, Inc. $100.61 AMZN2.97% NVIDIA Corporation $261.99 NVDA1.15% Tesla Inc $197.58 TSLA7.82% Alphabet Inc Class C $105.84 GOOG3.84% Alphabet Inc Class A $104.92 GOOGL3.66%...'}]\\n<result>\\nMeta Platforms, Inc. (META) Stock Price, News, Quote &amp; History - Yahoo!\\nMeta Platforms, Inc. (META) Stock Price, News, Quote & History - Yahoo Finance U.S. markets open in 2 hours 26 minutes Dow Futures Meta Platforms, Inc. (META) NasdaqGS - NasdaqGS Real Time...\\n</result>\\n<result>\\nNews | FACEBOOK Stock Price Today | Analyst Opinions - Insider\\nStock | News | FACEBOOK Stock Price Today | Analyst Opinions | Markets Insider Markets Stocks Indices Commodities Cryptocurrencies Currencies ETFs News Facebook Inc (A) Cert Deposito Arg Repr...\\n</result>\\n<result>\\nMeta Platforms Inc (FB) Stock Price &amp; News - Google Finance\\n$159.28 AAPL1.19% Amazon.com, Inc. $100.61 AMZN2.97% NVIDIA Corporation $261.99 NVDA1.15% Tesla Inc $197.58 TSLA7.82% Alphabet Inc Class C $105.84 GOOG3.84% Alphabet Inc Class A $104.92 GOOGL3.66%...\\n</result>\"}]}\n",
    "messages\n",
    "import openai\n",
    "openai.ChatCompletion.create(**messages)"
   ]
  },
  {
   "cell_type": "code",
   "execution_count": null,
   "metadata": {},
   "outputs": [],
   "source": []
  }
 ],
 "metadata": {
  "kernelspec": {
   "display_name": "guidance",
   "language": "python",
   "name": "python3"
  },
  "language_info": {
   "codemirror_mode": {
    "name": "ipython",
    "version": 3
   },
   "file_extension": ".py",
   "mimetype": "text/x-python",
   "name": "python",
   "nbconvert_exporter": "python",
   "pygments_lexer": "ipython3",
   "version": "3.9.16"
  },
  "orig_nbformat": 4
 },
 "nbformat": 4,
 "nbformat_minor": 2
}
